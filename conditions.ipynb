{
 "cells": [
  {
   "cell_type": "markdown",
   "metadata": {},
   "source": [
    "if condition"
   ]
  },
  {
   "cell_type": "code",
   "execution_count": 2,
   "metadata": {},
   "outputs": [
    {
     "name": "stdout",
     "output_type": "stream",
     "text": [
      "A\n",
      "B\n",
      "Fail\n"
     ]
    }
   ],
   "source": [
    "marks = int(input(\"enter your marks\"))\n",
    "if marks >= 90:\n",
    "    print(\"A+\")\n",
    "if marks >= 75:\n",
    "    print(\"A\")\n",
    "if marks >=60:\n",
    "    print(\"B\")\n",
    "if marks < 60:\n",
    "    print(\"Fail\")"
   ]
  },
  {
   "cell_type": "markdown",
   "metadata": {},
   "source": [
    "elif condition"
   ]
  },
  {
   "cell_type": "code",
   "execution_count": 3,
   "metadata": {},
   "outputs": [
    {
     "name": "stdout",
     "output_type": "stream",
     "text": [
      "A+\n"
     ]
    }
   ],
   "source": [
    "marks = int(input(\"enter your marks\"))\n",
    "if marks >= 90:\n",
    "    print(\"A+\")\n",
    "elif marks >= 75:\n",
    "    print(\"A\")\n",
    "elif marks >=60:\n",
    "    print(\"B\")\n",
    "elif marks < 60:\n",
    "    print(\"Fail\")\n",
    "else:\n",
    "    print(\"invalid Input\")"
   ]
  },
  {
   "cell_type": "code",
   "execution_count": 4,
   "metadata": {},
   "outputs": [
    {
     "name": "stdout",
     "output_type": "stream",
     "text": [
      "You are  eligible for vote\n"
     ]
    }
   ],
   "source": [
    "age = 20\n",
    "if age >= 18:\n",
    "    print(\"You are  eligible for vote\")\n",
    "else:\n",
    "    print(\"you are not eligible for vote\")"
   ]
  },
  {
   "cell_type": "code",
   "execution_count": 6,
   "metadata": {},
   "outputs": [
    {
     "name": "stdout",
     "output_type": "stream",
     "text": [
      "positive\n"
     ]
    }
   ],
   "source": [
    "number = 36\n",
    "if number > 0:\n",
    "    print(\"positive\")\n",
    "else:\n",
    "    print(\"negetive\")"
   ]
  },
  {
   "cell_type": "code",
   "execution_count": 7,
   "metadata": {},
   "outputs": [
    {
     "name": "stdout",
     "output_type": "stream",
     "text": [
      "odd\n"
     ]
    }
   ],
   "source": [
    "number = 85\n",
    "if number % 2 ==0:\n",
    "    print(\"even\")\n",
    "else:\n",
    "    print(\"odd\")"
   ]
  },
  {
   "cell_type": "code",
   "execution_count": 15,
   "metadata": {},
   "outputs": [
    {
     "name": "stdout",
     "output_type": "stream",
     "text": [
      "The triangle is Equilateral.\n"
     ]
    }
   ],
   "source": [
    "\n",
    "def classify_triangle(a, b, c):\n",
    "    if a == b == c:\n",
    "        print(\"The triangle is Equilateral.\")\n",
    "    elif a == b or b == c or a == c:\n",
    "        print(\"The triangle is Isosceles.\")\n",
    "    else:\n",
    "        print(\"The triangle is Scalene.\")\n",
    "\n",
    "a = float(input(\"Enter the first side: \"))\n",
    "b = float(input(\"Enter the second side: \"))\n",
    "c = float(input(\"Enter the third side: \"))\n",
    "\n",
    "if a + b > c and a + c > b and b + c > a:\n",
    "    classify_triangle(a, b, c)\n",
    "else:\n",
    "    print(\"The given sides do not form a valid triangle.\")\n"
   ]
  },
  {
   "cell_type": "code",
   "execution_count": 17,
   "metadata": {},
   "outputs": [
    {
     "name": "stdout",
     "output_type": "stream",
     "text": [
      "Vowel\n",
      "Vowel\n"
     ]
    }
   ],
   "source": [
    "def vowelOrConsonant(x): \n",
    "  \n",
    "    if (x == 'a' or x == 'e' or\n",
    "        x == 'i' or x == 'o' or x == 'u'): \n",
    "        print(\"Vowel\") \n",
    "    else: \n",
    "        print(\"Consonant\") \n",
    "  \n",
    "vowelOrConsonant('a') \n",
    "vowelOrConsonant('e') "
   ]
  },
  {
   "cell_type": "code",
   "execution_count": 19,
   "metadata": {},
   "outputs": [
    {
     "name": "stdout",
     "output_type": "stream",
     "text": [
      "113.09733552923255\n"
     ]
    }
   ],
   "source": [
    "import math\n",
    "r = 6 # radius\n",
    "\n",
    "area = math.pi * (r ** 2)\n",
    "print(area)\n"
   ]
  },
  {
   "cell_type": "code",
   "execution_count": null,
   "metadata": {},
   "outputs": [],
   "source": [
    "username = input(\"Enter your username:\")\n",
    "email = input(\"Enter the mail:\")\n",
    "password = input(\"Enter the password:\")\n",
    "cpass = input(\"Enter the confirm password:\")\n",
    "if len(username)>5 and len(username)<=15:\n",
    "    if  '@' in email and '.' in email:\n",
    "        if len(password)>=8 and len(password)<=20:\n",
    "            if password == cpass:\n",
    "                print(\"Registration successfully done\")\n",
    "            else:(\"password and confirm password do not match\")\n",
    "        else:\n",
    "            print(\"Invalid password\")\n",
    "    else:sachin90\n",
    "    sachin@gmail.com\n",
    "        print(\"Invalid email\")\n",
    "else:\n",
    "    print(\"Invalid username\")"
   ]
  },
  {
   "cell_type": "code",
   "execution_count": null,
   "metadata": {},
   "outputs": [],
   "source": []
  }
 ],
 "metadata": {
  "kernelspec": {
   "display_name": "base",
   "language": "python",
   "name": "python3"
  },
  "language_info": {
   "codemirror_mode": {
    "name": "ipython",
    "version": 3
   },
   "file_extension": ".py",
   "mimetype": "text/x-python",
   "name": "python",
   "nbconvert_exporter": "python",
   "pygments_lexer": "ipython3",
   "version": "3.12.9"
  }
 },
 "nbformat": 4,
 "nbformat_minor": 2
}
