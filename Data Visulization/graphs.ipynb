{
 "cells": [
  {
   "cell_type": "code",
   "execution_count": 1,
   "metadata": {},
   "outputs": [],
   "source": [
    "import pandas as pd \n",
    "import seaborn as sns\n",
    "import matplotlib.pyplot as plt"
   ]
  },
  {
   "cell_type": "code",
   "execution_count": 2,
   "metadata": {},
   "outputs": [
    {
     "data": {
      "text/html": [
       "<div>\n",
       "<style scoped>\n",
       "    .dataframe tbody tr th:only-of-type {\n",
       "        vertical-align: middle;\n",
       "    }\n",
       "\n",
       "    .dataframe tbody tr th {\n",
       "        vertical-align: top;\n",
       "    }\n",
       "\n",
       "    .dataframe thead th {\n",
       "        text-align: right;\n",
       "    }\n",
       "</style>\n",
       "<table border=\"1\" class=\"dataframe\">\n",
       "  <thead>\n",
       "    <tr style=\"text-align: right;\">\n",
       "      <th></th>\n",
       "      <th>survived</th>\n",
       "      <th>pclass</th>\n",
       "      <th>sex</th>\n",
       "      <th>age</th>\n",
       "      <th>sibsp</th>\n",
       "      <th>parch</th>\n",
       "      <th>fare</th>\n",
       "      <th>embarked</th>\n",
       "      <th>class</th>\n",
       "      <th>who</th>\n",
       "      <th>adult_male</th>\n",
       "      <th>deck</th>\n",
       "      <th>embark_town</th>\n",
       "      <th>alive</th>\n",
       "      <th>alone</th>\n",
       "    </tr>\n",
       "  </thead>\n",
       "  <tbody>\n",
       "    <tr>\n",
       "      <th>0</th>\n",
       "      <td>0</td>\n",
       "      <td>3</td>\n",
       "      <td>male</td>\n",
       "      <td>22.0</td>\n",
       "      <td>1</td>\n",
       "      <td>0</td>\n",
       "      <td>7.2500</td>\n",
       "      <td>S</td>\n",
       "      <td>Third</td>\n",
       "      <td>man</td>\n",
       "      <td>True</td>\n",
       "      <td>NaN</td>\n",
       "      <td>Southampton</td>\n",
       "      <td>no</td>\n",
       "      <td>False</td>\n",
       "    </tr>\n",
       "    <tr>\n",
       "      <th>1</th>\n",
       "      <td>1</td>\n",
       "      <td>1</td>\n",
       "      <td>female</td>\n",
       "      <td>38.0</td>\n",
       "      <td>1</td>\n",
       "      <td>0</td>\n",
       "      <td>71.2833</td>\n",
       "      <td>C</td>\n",
       "      <td>First</td>\n",
       "      <td>woman</td>\n",
       "      <td>False</td>\n",
       "      <td>C</td>\n",
       "      <td>Cherbourg</td>\n",
       "      <td>yes</td>\n",
       "      <td>False</td>\n",
       "    </tr>\n",
       "    <tr>\n",
       "      <th>2</th>\n",
       "      <td>1</td>\n",
       "      <td>3</td>\n",
       "      <td>female</td>\n",
       "      <td>26.0</td>\n",
       "      <td>0</td>\n",
       "      <td>0</td>\n",
       "      <td>7.9250</td>\n",
       "      <td>S</td>\n",
       "      <td>Third</td>\n",
       "      <td>woman</td>\n",
       "      <td>False</td>\n",
       "      <td>NaN</td>\n",
       "      <td>Southampton</td>\n",
       "      <td>yes</td>\n",
       "      <td>True</td>\n",
       "    </tr>\n",
       "    <tr>\n",
       "      <th>3</th>\n",
       "      <td>1</td>\n",
       "      <td>1</td>\n",
       "      <td>female</td>\n",
       "      <td>35.0</td>\n",
       "      <td>1</td>\n",
       "      <td>0</td>\n",
       "      <td>53.1000</td>\n",
       "      <td>S</td>\n",
       "      <td>First</td>\n",
       "      <td>woman</td>\n",
       "      <td>False</td>\n",
       "      <td>C</td>\n",
       "      <td>Southampton</td>\n",
       "      <td>yes</td>\n",
       "      <td>False</td>\n",
       "    </tr>\n",
       "    <tr>\n",
       "      <th>4</th>\n",
       "      <td>0</td>\n",
       "      <td>3</td>\n",
       "      <td>male</td>\n",
       "      <td>35.0</td>\n",
       "      <td>0</td>\n",
       "      <td>0</td>\n",
       "      <td>8.0500</td>\n",
       "      <td>S</td>\n",
       "      <td>Third</td>\n",
       "      <td>man</td>\n",
       "      <td>True</td>\n",
       "      <td>NaN</td>\n",
       "      <td>Southampton</td>\n",
       "      <td>no</td>\n",
       "      <td>True</td>\n",
       "    </tr>\n",
       "    <tr>\n",
       "      <th>...</th>\n",
       "      <td>...</td>\n",
       "      <td>...</td>\n",
       "      <td>...</td>\n",
       "      <td>...</td>\n",
       "      <td>...</td>\n",
       "      <td>...</td>\n",
       "      <td>...</td>\n",
       "      <td>...</td>\n",
       "      <td>...</td>\n",
       "      <td>...</td>\n",
       "      <td>...</td>\n",
       "      <td>...</td>\n",
       "      <td>...</td>\n",
       "      <td>...</td>\n",
       "      <td>...</td>\n",
       "    </tr>\n",
       "    <tr>\n",
       "      <th>886</th>\n",
       "      <td>0</td>\n",
       "      <td>2</td>\n",
       "      <td>male</td>\n",
       "      <td>27.0</td>\n",
       "      <td>0</td>\n",
       "      <td>0</td>\n",
       "      <td>13.0000</td>\n",
       "      <td>S</td>\n",
       "      <td>Second</td>\n",
       "      <td>man</td>\n",
       "      <td>True</td>\n",
       "      <td>NaN</td>\n",
       "      <td>Southampton</td>\n",
       "      <td>no</td>\n",
       "      <td>True</td>\n",
       "    </tr>\n",
       "    <tr>\n",
       "      <th>887</th>\n",
       "      <td>1</td>\n",
       "      <td>1</td>\n",
       "      <td>female</td>\n",
       "      <td>19.0</td>\n",
       "      <td>0</td>\n",
       "      <td>0</td>\n",
       "      <td>30.0000</td>\n",
       "      <td>S</td>\n",
       "      <td>First</td>\n",
       "      <td>woman</td>\n",
       "      <td>False</td>\n",
       "      <td>B</td>\n",
       "      <td>Southampton</td>\n",
       "      <td>yes</td>\n",
       "      <td>True</td>\n",
       "    </tr>\n",
       "    <tr>\n",
       "      <th>888</th>\n",
       "      <td>0</td>\n",
       "      <td>3</td>\n",
       "      <td>female</td>\n",
       "      <td>NaN</td>\n",
       "      <td>1</td>\n",
       "      <td>2</td>\n",
       "      <td>23.4500</td>\n",
       "      <td>S</td>\n",
       "      <td>Third</td>\n",
       "      <td>woman</td>\n",
       "      <td>False</td>\n",
       "      <td>NaN</td>\n",
       "      <td>Southampton</td>\n",
       "      <td>no</td>\n",
       "      <td>False</td>\n",
       "    </tr>\n",
       "    <tr>\n",
       "      <th>889</th>\n",
       "      <td>1</td>\n",
       "      <td>1</td>\n",
       "      <td>male</td>\n",
       "      <td>26.0</td>\n",
       "      <td>0</td>\n",
       "      <td>0</td>\n",
       "      <td>30.0000</td>\n",
       "      <td>C</td>\n",
       "      <td>First</td>\n",
       "      <td>man</td>\n",
       "      <td>True</td>\n",
       "      <td>C</td>\n",
       "      <td>Cherbourg</td>\n",
       "      <td>yes</td>\n",
       "      <td>True</td>\n",
       "    </tr>\n",
       "    <tr>\n",
       "      <th>890</th>\n",
       "      <td>0</td>\n",
       "      <td>3</td>\n",
       "      <td>male</td>\n",
       "      <td>32.0</td>\n",
       "      <td>0</td>\n",
       "      <td>0</td>\n",
       "      <td>7.7500</td>\n",
       "      <td>Q</td>\n",
       "      <td>Third</td>\n",
       "      <td>man</td>\n",
       "      <td>True</td>\n",
       "      <td>NaN</td>\n",
       "      <td>Queenstown</td>\n",
       "      <td>no</td>\n",
       "      <td>True</td>\n",
       "    </tr>\n",
       "  </tbody>\n",
       "</table>\n",
       "<p>891 rows × 15 columns</p>\n",
       "</div>"
      ],
      "text/plain": [
       "     survived  pclass     sex   age  sibsp  parch     fare embarked   class  \\\n",
       "0           0       3    male  22.0      1      0   7.2500        S   Third   \n",
       "1           1       1  female  38.0      1      0  71.2833        C   First   \n",
       "2           1       3  female  26.0      0      0   7.9250        S   Third   \n",
       "3           1       1  female  35.0      1      0  53.1000        S   First   \n",
       "4           0       3    male  35.0      0      0   8.0500        S   Third   \n",
       "..        ...     ...     ...   ...    ...    ...      ...      ...     ...   \n",
       "886         0       2    male  27.0      0      0  13.0000        S  Second   \n",
       "887         1       1  female  19.0      0      0  30.0000        S   First   \n",
       "888         0       3  female   NaN      1      2  23.4500        S   Third   \n",
       "889         1       1    male  26.0      0      0  30.0000        C   First   \n",
       "890         0       3    male  32.0      0      0   7.7500        Q   Third   \n",
       "\n",
       "       who  adult_male deck  embark_town alive  alone  \n",
       "0      man        True  NaN  Southampton    no  False  \n",
       "1    woman       False    C    Cherbourg   yes  False  \n",
       "2    woman       False  NaN  Southampton   yes   True  \n",
       "3    woman       False    C  Southampton   yes  False  \n",
       "4      man        True  NaN  Southampton    no   True  \n",
       "..     ...         ...  ...          ...   ...    ...  \n",
       "886    man        True  NaN  Southampton    no   True  \n",
       "887  woman       False    B  Southampton   yes   True  \n",
       "888  woman       False  NaN  Southampton    no  False  \n",
       "889    man        True    C    Cherbourg   yes   True  \n",
       "890    man        True  NaN   Queenstown    no   True  \n",
       "\n",
       "[891 rows x 15 columns]"
      ]
     },
     "execution_count": 2,
     "metadata": {},
     "output_type": "execute_result"
    }
   ],
   "source": [
    "df = sns.load_dataset('titanic')\n",
    "df"
   ]
  },
  {
   "cell_type": "code",
   "execution_count": 3,
   "metadata": {},
   "outputs": [
    {
     "data": {
      "image/png": "[encoded data removed]",
      "text/plain": [
       "<Figure size 640x480 with 1 Axes>"
      ]
     },
     "metadata": {},
     "output_type": "display_data"
    }
   ],
   "source": [
    "sns.countplot(df, y='survived')\n",
    "plt.title('Count of Survived vs Not Survived')\n",
    "plt.show()"
   ]
  },
  {
   "cell_type": "markdown",
   "metadata": {},
   "source": [
    "count plot"
   ]
  },
  {
   "cell_type": "code",
   "execution_count": 4,
   "metadata": {},
   "outputs": [
    {
     "data": {
      "image/png": "[encoded data removed]",
      "text/plain": [
       "<Figure size 640x480 with 1 Axes>"
      ]
     },
     "metadata": {},
     "output_type": "display_data"
    }
   ],
   "source": [
    "# catagory by gender\n",
    "sns.countplot(df, y='survived', hue='sex', palette='magma')     # hue for catogries\n",
    "plt.title('Count of Survived vs Not Survived by Gender')\n",
    "plt.show()"
   ]
  },
  {
   "cell_type": "code",
   "execution_count": 5,
   "metadata": {},
   "outputs": [
    {
     "name": "stderr",
     "output_type": "stream",
     "text": [
      "C:\\Users\\91639\\AppData\\Local\\Temp\\ipykernel_9252\\475869778.py:3: FutureWarning: \n",
      "\n",
      "Passing `palette` without assigning `hue` is deprecated and will be removed in v0.14.0. Assign the `x` variable to `hue` and set `legend=False` for the same effect.\n",
      "\n",
      "  sns.barplot(df, x = 'class', y='survived', palette='coolwarm')\n"
     ]
    },
    {
     "data": {
      "image/png": "[encoded data removed]",
      "text/plain": [
       "<Figure size 640x480 with 1 Axes>"
      ]
     },
     "metadata": {},
     "output_type": "display_data"
    }
   ],
   "source": [
    "#Bar plot\n",
    "\n",
    "sns.barplot(df, x = 'class', y='survived', palette='coolwarm')\n",
    "plt.title('Survival Rate by Class')\n",
    "plt.show()\n"
   ]
  },
  {
   "cell_type": "code",
   "execution_count": 6,
   "metadata": {},
   "outputs": [
    {
     "data": {
      "image/png": "[encoded data removed]",
      "text/plain": [
       "<Figure size 640x480 with 1 Axes>"
      ]
     },
     "metadata": {},
     "output_type": "display_data"
    }
   ],
   "source": [
    "sns.histplot(df, x='age', bins=30, kde=True, color='red')\n",
    "plt.title('Age Distribution of passengers')\n",
    "plt.show()"
   ]
  },
  {
   "cell_type": "code",
   "execution_count": 7,
   "metadata": {},
   "outputs": [
    {
     "data": {
      "text/plain": [
       "Text(0.5, 1.0, 'Survival by Gender')"
      ]
     },
     "execution_count": 7,
     "metadata": {},
     "output_type": "execute_result"
    },
    {
     "data": {
      "image/png": "[encoded data removed]",
      "text/plain": [
       "<Figure size 640x480 with 1 Axes>"
      ]
     },
     "metadata": {},
     "output_type": "display_data"
    }
   ],
   "source": [
    "sns.countplot(data=df, x='survived', hue='sex', palette='bwr')\n",
    "plt.title('Survival by Gender')"
   ]
  },
  {
   "cell_type": "markdown",
   "metadata": {},
   "source": [
    "VIOLINPLOT"
   ]
  },
  {
   "cell_type": "code",
   "execution_count": 8,
   "metadata": {},
   "outputs": [
    {
     "data": {
      "image/png": "[encoded data removed]",
      "text/plain": [
       "<Figure size 640x480 with 1 Axes>"
      ]
     },
     "metadata": {},
     "output_type": "display_data"
    }
   ],
   "source": [
    "sns.violinplot(data=df, x='sex', y='age', hue='survived',palette='muted')\n",
    "plt.title('Age Distribution by Gender and Survival')\n",
    "plt.show()"
   ]
  },
  {
   "cell_type": "markdown",
   "metadata": {},
   "source": [
    "SWARMPLOT"
   ]
  },
  {
   "cell_type": "code",
   "execution_count": 9,
   "metadata": {},
   "outputs": [
    {
     "name": "stderr",
     "output_type": "stream",
     "text": [
      "c:\\Users\\91639\\miniconda3\\Lib\\site-packages\\seaborn\\categorical.py:3399: UserWarning: 21.3% of the points cannot be placed; you may want to decrease the size of the markers or use stripplot.\n",
      "  warnings.warn(msg, UserWarning)\n",
      "c:\\Users\\91639\\miniconda3\\Lib\\site-packages\\seaborn\\categorical.py:3399: UserWarning: 57.6% of the points cannot be placed; you may want to decrease the size of the markers or use stripplot.\n",
      "  warnings.warn(msg, UserWarning)\n",
      "c:\\Users\\91639\\miniconda3\\Lib\\site-packages\\seaborn\\categorical.py:3399: UserWarning: 78.6% of the points cannot be placed; you may want to decrease the size of the markers or use stripplot.\n",
      "  warnings.warn(msg, UserWarning)\n",
      "c:\\Users\\91639\\miniconda3\\Lib\\site-packages\\seaborn\\categorical.py:3399: UserWarning: 29.6% of the points cannot be placed; you may want to decrease the size of the markers or use stripplot.\n",
      "  warnings.warn(msg, UserWarning)\n",
      "c:\\Users\\91639\\miniconda3\\Lib\\site-packages\\seaborn\\categorical.py:3399: UserWarning: 64.7% of the points cannot be placed; you may want to decrease the size of the markers or use stripplot.\n",
      "  warnings.warn(msg, UserWarning)\n",
      "c:\\Users\\91639\\miniconda3\\Lib\\site-packages\\seaborn\\categorical.py:3399: UserWarning: 82.7% of the points cannot be placed; you may want to decrease the size of the markers or use stripplot.\n",
      "  warnings.warn(msg, UserWarning)\n"
     ]
    },
    {
     "data": {
      "image/png": "[encoded data removed]",
      "text/plain": [
       "<Figure size 640x480 with 1 Axes>"
      ]
     },
     "metadata": {},
     "output_type": "display_data"
    }
   ],
   "source": [
    "sns.swarmplot(data=df, x='class', y='fare', hue='sex', palette='deep')\n",
    "plt.title('Fare Distribution by Class and Gender')\n",
    "plt.show()\n"
   ]
  },
  {
   "cell_type": "code",
   "execution_count": 10,
   "metadata": {},
   "outputs": [
    {
     "name": "stderr",
     "output_type": "stream",
     "text": [
      "C:\\Users\\91639\\AppData\\Local\\Temp\\ipykernel_9252\\1129471890.py:1: FutureWarning: \n",
      "\n",
      "Passing `palette` without assigning `hue` is deprecated and will be removed in v0.14.0. Assign the `x` variable to `hue` and set `legend=False` for the same effect.\n",
      "\n",
      "  sns.boxplot(data=df, x='class', y='age', palette='Set2')\n"
     ]
    },
    {
     "data": {
      "text/plain": [
       "Text(0.5, 1.0, 'Age Distribution by Class')"
      ]
     },
     "execution_count": 10,
     "metadata": {},
     "output_type": "execute_result"
    },
    {
     "data": {
      "image/png": "[encoded data removed]",
      "text/plain": [
       "<Figure size 640x480 with 1 Axes>"
      ]
     },
     "metadata": {},
     "output_type": "display_data"
    }
   ],
   "source": [
    "\n",
    "sns.boxplot(data=df, x='class', y='age', palette='Set2')\n",
    "plt.title('Age Distribution by Class')"
   ]
  },
  {
   "cell_type": "markdown",
   "metadata": {},
   "source": []
  },
  {
   "cell_type": "markdown",
   "metadata": {},
   "source": [
    "KDE PLOT"
   ]
  },
  {
   "cell_type": "code",
   "execution_count": 11,
   "metadata": {},
   "outputs": [
    {
     "data": {
      "image/png": "[encoded data removed]",
      "text/plain": [
       "<Figure size 640x480 with 1 Axes>"
      ]
     },
     "metadata": {},
     "output_type": "display_data"
    }
   ],
   "source": [
    "sns.kdeplot(data=df, x='age', hue='survived', fill=True, palette='crest')\n",
    "plt.title('Age Distribution by Survival')\n",
    "plt.show()"
   ]
  },
  {
   "cell_type": "markdown",
   "metadata": {},
   "source": [
    "CATPLOT"
   ]
  },
  {
   "cell_type": "code",
   "execution_count": 12,
   "metadata": {},
   "outputs": [
    {
     "name": "stderr",
     "output_type": "stream",
     "text": [
      "C:\\Users\\91639\\AppData\\Local\\Temp\\ipykernel_9252\\2175139859.py:1: FutureWarning: \n",
      "\n",
      "Passing `palette` without assigning `hue` is deprecated and will be removed in v0.14.0. Assign the `x` variable to `hue` and set `legend=False` for the same effect.\n",
      "\n",
      "  sns.catplot(data=df, x='sex', y='survived', col='class', kind='bar', palette='pastel')\n"
     ]
    },
    {
     "data": {
      "image/png": "[encoded data removed]",
      "text/plain": [
       "<Figure size 1500x500 with 3 Axes>"
      ]
     },
     "metadata": {},
     "output_type": "display_data"
    }
   ],
   "source": [
    "sns.catplot(data=df, x='sex', y='survived', col='class', kind='bar', palette='pastel')\n",
    "plt.suptitle('Survival Rate by Gender and Class', y=1.02)\n",
    "plt.show()"
   ]
  },
  {
   "cell_type": "code",
   "execution_count": 13,
   "metadata": {},
   "outputs": [
    {
     "data": {
      "image/png": "[encoded data removed]",
      "text/plain": [
       "<Figure size 640x480 with 1 Axes>"
      ]
     },
     "metadata": {},
     "output_type": "display_data"
    }
   ],
   "source": [
    "sns.stripplot(data=df, x='embark_town', y='fare', hue='class', dodge=True, palette='Set1')\n",
    "plt.title('Fare Distribution by Embarkation Point')\n",
    "plt.show()"
   ]
  },
  {
   "cell_type": "code",
   "execution_count": 14,
   "metadata": {},
   "outputs": [],
   "source": [
    "import plotly.express as px"
   ]
  },
  {
   "cell_type": "code",
   "execution_count": 16,
   "metadata": {},
   "outputs": [
    {
     "data": {
      "application/vnd.plotly.v1+json": {
       "config": {
        "plotlyServerURL": "https://plot.ly"
       },
       "data": [
        {
         "hovertemplate": "age=%{x}<br>fare=%{y}<br>survived=%{marker.color}<extra></extra>",
         "legendgroup": "",
         "marker": {
          "color": {
           "bdata": "AAEBAQAAAAABAQEBAAAAAQABAAEAAQEBAAEAAAEAAAEBAAAAAQAAAQAAAAEBAAABAAAAAAEBAAEBAAEAAAEAAAABAQABAAAAAAABAAAAAQEAAQEAAQEAAAEAAAAAAAAAAAEBAAAAAAAAAAEBAAEAAAAAAAAAAAAAAAAAAQABAAEBAAAAAAEAAAEAAAAAAQEAAAABAAAAAAEAAAAAAQAAAAABAAAAAQEAAAAAAAEAAAAAAAAAAAAAAQEAAQEAAAEAAQEBAQAAAQAAAAAAAQAAAQEBAAEAAAABAQABAAEAAAABAAEAAAABAAABAAAAAQAAAAEAAAAAAAEBAAAAAAAAAQEBAQEAAQAAAAAAAQEBAAEBAAEBAAAAAQAAAAEAAAEAAQEBAQAAAAAAAAEBAQEAAQABAQEAAQEBAAAAAQEAAQEAAAEBAAEAAQEBAQAAAAEAAAEBAAEBAAAAAQEBAQAAAAAAAAABAAEBAAAAAAAAAQEBAQEAAAAAAQEAAAABAQABAAAAAQABAQEAAQEAAAAAAQEAAAAAAAABAAAAAAEAAQABAQAAAAAAAAAAAQEAAQEBAQAAAQABAAABAAABAQEBAQEBAAAAAQABAAEBAAEAAAAAAAAAAAEAAAEBAAAAAAABAAAAAQEAAQAAAQAAAAAAAAEAAAAAAAAAAQABAQABAQABAQAAAQABAAEAAAEAAAEAAAABAAABAAEAAQABAQAAAQAAAQEAAQEAAAEBAAEAAQEAAAAAAAAAAAABAQEBAQAAAQEAAQEBAAAAAQABAAAAAQAAAAABAAABAQAAAAEAAAEBAQAAAQAAAQAAAQAAAQEAAAAAAQAAAQABAAABAAAAAAABAAEBAQABAAEAAQABAAAAAAAAAQAAAAEAAAAAAQEAAAEAAAABAAEAAQAAAAAAAAABAQEBAAAAAAEAAAEBAAAAAAEBAQEBAAEAAAABAQAAAQAAAAEAAQEAAAEAAAAAAAABAAABAAEAAQAAAQAAAQEAAAEBAAAAAQAAAQEAAQAAAAAAAAAAAQAAAQABAQEAAAAAAQABAAAAAAAAAAEBAAAAAQEBAQAAAAABAAAAAAAAAAAAAAEBAAEAAAABAQEBAQAAAAEAAAEBAAABAAAAAAAAAQAAAAEAAQEBAQAAAAEAAAEBAAABAAEAAAEBAAAAAQEAAAAAAAABAAEA",
           "dtype": "i1"
          },
          "coloraxis": "coloraxis",
          "symbol": "circle"
         },
         "mode": "markers",
         "name": "",
         "orientation": "v",
         "showlegend": false,
         "type": "scatter",
         "x": {
          "bdata": "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",
          "dtype": "f8"
         },
         "xaxis": "x",
         "y": {
          "bdata": "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",
          "dtype": "f8"
         },
         "yaxis": "y"
        }
       ],
       "layout": {
        "coloraxis": {
         "colorbar": {
          "title": {
           "text": "survived"
          }
         },
         "colorscale": [
          [
           0,
           "#0d0887"
          ],
          [
           0.1111111111111111,
           "#46039f"
          ],
          [
           0.2222222222222222,
           "#7201a8"
          ],
          [
           0.3333333333333333,
           "#9c179e"
          ],
          [
           0.4444444444444444,
           "#bd3786"
          ],
          [
           0.5555555555555556,
           "#d8576b"
          ],
          [
           0.6666666666666666,
           "#ed7953"
          ],
          [
           0.7777777777777778,
           "#fb9f3a"
          ],
          [
           0.8888888888888888,
           "#fdca26"
          ],
          [
           1,
           "#f0f921"
          ]
         ]
        },
        "legend": {
         "tracegroupgap": 0
        },
        "template": {
         "data": {
          "bar": [
           {
            "error_x": {
             "color": "#f2f5fa"
            },
            "error_y": {
             "color": "#f2f5fa"
            },
            "marker": {
             "line": {
              "color": "rgb(17,17,17)",
              "width": 0.5
             },
             "pattern": {
              "fillmode": "overlay",
              "size": 10,
              "solidity": 0.2
             }
            },
            "type": "bar"
           }
          ],
          "barpolar": [
           {
            "marker": {
             "line": {
              "color": "rgb(17,17,17)",
              "width": 0.5
             },
             "pattern": {
              "fillmode": "overlay",
              "size": 10,
              "solidity": 0.2
             }
            },
            "type": "barpolar"
           }
          ],
          "carpet": [
           {
            "aaxis": {
             "endlinecolor": "#A2B1C6",
             "gridcolor": "#506784",
             "linecolor": "#506784",
             "minorgridcolor": "#506784",
             "startlinecolor": "#A2B1C6"
            },
            "baxis": {
             "endlinecolor": "#A2B1C6",
             "gridcolor": "#506784",
             "linecolor": "#506784",
             "minorgridcolor": "#506784",
             "startlinecolor": "#A2B1C6"
            },
            "type": "carpet"
           }
          ],
          "choropleth": [
           {
            "colorbar": {
             "outlinewidth": 0,
             "ticks": ""
            },
            "type": "choropleth"
           }
          ],
          "contour": [
           {
            "colorbar": {
             "outlinewidth": 0,
             "ticks": ""
            },
            "colorscale": [
             [
              0,
              "#0d0887"
             ],
             [
              0.1111111111111111,
              "#46039f"
             ],
             [
              0.2222222222222222,
              "#7201a8"
             ],
             [
              0.3333333333333333,
              "#9c179e"
             ],
             [
              0.4444444444444444,
              "#bd3786"
             ],
             [
              0.5555555555555556,
              "#d8576b"
             ],
             [
              0.6666666666666666,
              "#ed7953"
             ],
             [
              0.7777777777777778,
              "#fb9f3a"
             ],
             [
              0.8888888888888888,
              "#fdca26"
             ],
             [
              1,
              "#f0f921"
             ]
            ],
            "type": "contour"
           }
          ],
          "contourcarpet": [
           {
            "colorbar": {
             "outlinewidth": 0,
             "ticks": ""
            },
            "type": "contourcarpet"
           }
          ],
          "heatmap": [
           {
            "colorbar": {
             "outlinewidth": 0,
             "ticks": ""
            },
            "colorscale": [
             [
              0,
              "#0d0887"
             ],
             [
              0.1111111111111111,
              "#46039f"
             ],
             [
              0.2222222222222222,
              "#7201a8"
             ],
             [
              0.3333333333333333,
              "#9c179e"
             ],
             [
              0.4444444444444444,
              "#bd3786"
             ],
             [
              0.5555555555555556,
              "#d8576b"
             ],
             [
              0.6666666666666666,
              "#ed7953"
             ],
             [
              0.7777777777777778,
              "#fb9f3a"
             ],
             [
              0.8888888888888888,
              "#fdca26"
             ],
             [
              1,
              "#f0f921"
             ]
            ],
            "type": "heatmap"
           }
          ],
          "histogram": [
           {
            "marker": {
             "pattern": {
              "fillmode": "overlay",
              "size": 10,
              "solidity": 0.2
             }
            },
            "type": "histogram"
           }
          ],
          "histogram2d": [
           {
            "colorbar": {
             "outlinewidth": 0,
             "ticks": ""
            },
            "colorscale": [
             [
              0,
              "#0d0887"
             ],
             [
              0.1111111111111111,
              "#46039f"
             ],
             [
              0.2222222222222222,
              "#7201a8"
             ],
             [
              0.3333333333333333,
              "#9c179e"
             ],
             [
              0.4444444444444444,
              "#bd3786"
             ],
             [
              0.5555555555555556,
              "#d8576b"
             ],
             [
              0.6666666666666666,
              "#ed7953"
             ],
             [
              0.7777777777777778,
              "#fb9f3a"
             ],
             [
              0.8888888888888888,
              "#fdca26"
             ],
             [
              1,
              "#f0f921"
             ]
            ],
            "type": "histogram2d"
           }
          ],
          "histogram2dcontour": [
           {
            "colorbar": {
             "outlinewidth": 0,
             "ticks": ""
            },
            "colorscale": [
             [
              0,
              "#0d0887"
             ],
             [
              0.1111111111111111,
              "#46039f"
             ],
             [
              0.2222222222222222,
              "#7201a8"
             ],
             [
              0.3333333333333333,
              "#9c179e"
             ],
             [
              0.4444444444444444,
              "#bd3786"
             ],
             [
              0.5555555555555556,
              "#d8576b"
             ],
             [
              0.6666666666666666,
              "#ed7953"
             ],
             [
              0.7777777777777778,
              "#fb9f3a"
             ],
             [
              0.8888888888888888,
              "#fdca26"
             ],
             [
              1,
              "#f0f921"
             ]
            ],
            "type": "histogram2dcontour"
           }
          ],
          "mesh3d": [
           {
            "colorbar": {
             "outlinewidth": 0,
             "ticks": ""
            },
            "type": "mesh3d"
           }
          ],
          "parcoords": [
           {
            "line": {
             "colorbar": {
              "outlinewidth": 0,
              "ticks": ""
             }
            },
            "type": "parcoords"
           }
          ],
          "pie": [
           {
            "automargin": true,
            "type": "pie"
           }
          ],
          "scatter": [
           {
            "marker": {
             "line": {
              "color": "#283442"
             }
            },
            "type": "scatter"
           }
          ],
          "scatter3d": [
           {
            "line": {
             "colorbar": {
              "outlinewidth": 0,
              "ticks": ""
             }
            },
            "marker": {
             "colorbar": {
              "outlinewidth": 0,
              "ticks": ""
             }
            },
            "type": "scatter3d"
           }
          ],
          "scattercarpet": [
           {
            "marker": {
             "colorbar": {
              "outlinewidth": 0,
              "ticks": ""
             }
            },
            "type": "scattercarpet"
           }
          ],
          "scattergeo": [
           {
            "marker": {
             "colorbar": {
              "outlinewidth": 0,
              "ticks": ""
             }
            },
            "type": "scattergeo"
           }
          ],
          "scattergl": [
           {
            "marker": {
             "line": {
              "color": "#283442"
             }
            },
            "type": "scattergl"
           }
          ],
          "scattermap": [
           {
            "marker": {
             "colorbar": {
              "outlinewidth": 0,
              "ticks": ""
             }
            },
            "type": "scattermap"
           }
          ],
          "scattermapbox": [
           {
            "marker": {
             "colorbar": {
              "outlinewidth": 0,
              "ticks": ""
             }
            },
            "type": "scattermapbox"
           }
          ],
          "scatterpolar": [
           {
            "marker": {
             "colorbar": {
              "outlinewidth": 0,
              "ticks": ""
             }
            },
            "type": "scatterpolar"
           }
          ],
          "scatterpolargl": [
           {
            "marker": {
             "colorbar": {
              "outlinewidth": 0,
              "ticks": ""
             }
            },
            "type": "scatterpolargl"
           }
          ],
          "scatterternary": [
           {
            "marker": {
             "colorbar": {
              "outlinewidth": 0,
              "ticks": ""
             }
            },
            "type": "scatterternary"
           }
          ],
          "surface": [
           {
            "colorbar": {
             "outlinewidth": 0,
             "ticks": ""
            },
            "colorscale": [
             [
              0,
              "#0d0887"
             ],
             [
              0.1111111111111111,
              "#46039f"
             ],
             [
              0.2222222222222222,
              "#7201a8"
             ],
             [
              0.3333333333333333,
              "#9c179e"
             ],
             [
              0.4444444444444444,
              "#bd3786"
             ],
             [
              0.5555555555555556,
              "#d8576b"
             ],
             [
              0.6666666666666666,
              "#ed7953"
             ],
             [
              0.7777777777777778,
              "#fb9f3a"
             ],
             [
              0.8888888888888888,
              "#fdca26"
             ],
             [
              1,
              "#f0f921"
             ]
            ],
            "type": "surface"
           }
          ],
          "table": [
           {
            "cells": {
             "fill": {
              "color": "#506784"
             },
             "line": {
              "color": "rgb(17,17,17)"
             }
            },
            "header": {
             "fill": {
              "color": "#2a3f5f"
             },
             "line": {
              "color": "rgb(17,17,17)"
             }
            },
            "type": "table"
           }
          ]
         },
         "layout": {
          "annotationdefaults": {
           "arrowcolor": "#f2f5fa",
           "arrowhead": 0,
           "arrowwidth": 1
          },
          "autotypenumbers": "strict",
          "coloraxis": {
           "colorbar": {
            "outlinewidth": 0,
            "ticks": ""
           }
          },
          "colorscale": {
           "diverging": [
            [
             0,
             "#8e0152"
            ],
            [
             0.1,
             "#c51b7d"
            ],
            [
             0.2,
             "#de77ae"
            ],
            [
             0.3,
             "#f1b6da"
            ],
            [
             0.4,
             "#fde0ef"
            ],
            [
             0.5,
             "#f7f7f7"
            ],
            [
             0.6,
             "#e6f5d0"
            ],
            [
             0.7,
             "#b8e186"
            ],
            [
             0.8,
             "#7fbc41"
            ],
            [
             0.9,
             "#4d9221"
            ],
            [
             1,
             "#276419"
            ]
           ],
           "sequential": [
            [
             0,
             "#0d0887"
            ],
            [
             0.1111111111111111,
             "#46039f"
            ],
            [
             0.2222222222222222,
             "#7201a8"
            ],
            [
             0.3333333333333333,
             "#9c179e"
            ],
            [
             0.4444444444444444,
             "#bd3786"
            ],
            [
             0.5555555555555556,
             "#d8576b"
            ],
            [
             0.6666666666666666,
             "#ed7953"
            ],
            [
             0.7777777777777778,
             "#fb9f3a"
            ],
            [
             0.8888888888888888,
             "#fdca26"
            ],
            [
             1,
             "#f0f921"
            ]
           ],
           "sequentialminus": [
            [
             0,
             "#0d0887"
            ],
            [
             0.1111111111111111,
             "#46039f"
            ],
            [
             0.2222222222222222,
             "#7201a8"
            ],
            [
             0.3333333333333333,
             "#9c179e"
            ],
            [
             0.4444444444444444,
             "#bd3786"
            ],
            [
             0.5555555555555556,
             "#d8576b"
            ],
            [
             0.6666666666666666,
             "#ed7953"
            ],
            [
             0.7777777777777778,
             "#fb9f3a"
            ],
            [
             0.8888888888888888,
             "#fdca26"
            ],
            [
             1,
             "#f0f921"
            ]
           ]
          },
          "colorway": [
           "#636efa",
           "#EF553B",
           "#00cc96",
           "#ab63fa",
           "#FFA15A",
           "#19d3f3",
           "#FF6692",
           "#B6E880",
           "#FF97FF",
           "#FECB52"
          ],
          "font": {
           "color": "#f2f5fa"
          },
          "geo": {
           "bgcolor": "rgb(17,17,17)",
           "lakecolor": "rgb(17,17,17)",
           "landcolor": "rgb(17,17,17)",
           "showlakes": true,
           "showland": true,
           "subunitcolor": "#506784"
          },
          "hoverlabel": {
           "align": "left"
          },
          "hovermode": "closest",
          "mapbox": {
           "style": "dark"
          },
          "paper_bgcolor": "rgb(17,17,17)",
          "plot_bgcolor": "rgb(17,17,17)",
          "polar": {
           "angularaxis": {
            "gridcolor": "#506784",
            "linecolor": "#506784",
            "ticks": ""
           },
           "bgcolor": "rgb(17,17,17)",
           "radialaxis": {
            "gridcolor": "#506784",
            "linecolor": "#506784",
            "ticks": ""
           }
          },
          "scene": {
           "xaxis": {
            "backgroundcolor": "rgb(17,17,17)",
            "gridcolor": "#506784",
            "gridwidth": 2,
            "linecolor": "#506784",
            "showbackground": true,
            "ticks": "",
            "zerolinecolor": "#C8D4E3"
           },
           "yaxis": {
            "backgroundcolor": "rgb(17,17,17)",
            "gridcolor": "#506784",
            "gridwidth": 2,
            "linecolor": "#506784",
            "showbackground": true,
            "ticks": "",
            "zerolinecolor": "#C8D4E3"
           },
           "zaxis": {
            "backgroundcolor": "rgb(17,17,17)",
            "gridcolor": "#506784",
            "gridwidth": 2,
            "linecolor": "#506784",
            "showbackground": true,
            "ticks": "",
            "zerolinecolor": "#C8D4E3"
           }
          },
          "shapedefaults": {
           "line": {
            "color": "#f2f5fa"
           }
          },
          "sliderdefaults": {
           "bgcolor": "#C8D4E3",
           "bordercolor": "rgb(17,17,17)",
           "borderwidth": 1,
           "tickwidth": 0
          },
          "ternary": {
           "aaxis": {
            "gridcolor": "#506784",
            "linecolor": "#506784",
            "ticks": ""
           },
           "baxis": {
            "gridcolor": "#506784",
            "linecolor": "#506784",
            "ticks": ""
           },
           "bgcolor": "rgb(17,17,17)",
           "caxis": {
            "gridcolor": "#506784",
            "linecolor": "#506784",
            "ticks": ""
           }
          },
          "title": {
           "x": 0.05
          },
          "updatemenudefaults": {
           "bgcolor": "#506784",
           "borderwidth": 0
          },
          "xaxis": {
           "automargin": true,
           "gridcolor": "#283442",
           "linecolor": "#506784",
           "ticks": "",
           "title": {
            "standoff": 15
           },
           "zerolinecolor": "#283442",
           "zerolinewidth": 2
          },
          "yaxis": {
           "automargin": true,
           "gridcolor": "#283442",
           "linecolor": "#506784",
           "ticks": "",
           "title": {
            "standoff": 15
           },
           "zerolinecolor": "#283442",
           "zerolinewidth": 2
          }
         }
        },
        "title": {
         "text": "age vs fare by survival status"
        },
        "xaxis": {
         "anchor": "y",
         "domain": [
          0,
          1
         ],
         "title": {
          "text": "age"
         }
        },
        "yaxis": {
         "anchor": "x",
         "domain": [
          0,
          1
         ],
         "title": {
          "text": "fare"
         }
        }
       }
      }
     },
     "metadata": {},
     "output_type": "display_data"
    }
   ],
   "source": [
    "px.scatter(df, x='age', y='fare', color='survived',\n",
    "           title='age vs fare by survival status',template='plotly_dark')"
   ]
  },
  {
   "cell_type": "code",
   "execution_count": 24,
   "metadata": {},
   "outputs": [
    {
     "data": {
      "application/vnd.plotly.v1+json": {
       "config": {
        "plotlyServerURL": "https://plot.ly"
       },
       "data": [
        {
         "branchvalues": "total",
         "customdata": {
          "bdata": "0xFqKStRQEB5liyd8fBDQMAHMUR8/jpAje139MqYSEDgh/9UJOZAQJz/btx0mz5AX7xIQ9YjQ0DJ+DRUgt9CQJTFgDfjH0VAftC8Z44cPEDkOI7jOO5DQNFFF110UURAeEkWShsIQEDWjW9BePNDQBZliLSrID1A6x6606xjR0BQtxR4AjVBQCqtIqjn5EJABIITSGZVP0AsZQeRiPdFQNrtLppNM0JA",
          "dtype": "f8",
          "shape": "21, 1"
         },
         "domain": {
          "x": [
           0,
           1
          ],
          "y": [
           0,
           1
          ]
         },
         "hovertemplate": "labels=%{label}<br>age_sum=%{value}<br>parent=%{parent}<br>id=%{id}<br>age=%{color}<extra></extra>",
         "ids": [
          "3/male/0",
          "1/female/1",
          "3/female/1",
          "1/male/0",
          "2/female/1",
          "3/female/0",
          "2/male/1",
          "2/male/0",
          "1/male/1",
          "3/male/1",
          "2/female/0",
          "1/female/0",
          "3/male",
          "1/female",
          "3/female",
          "1/male",
          "2/female",
          "2/male",
          "3",
          "1",
          "2"
         ],
         "labels": [
          "0",
          "1",
          "1",
          "0",
          "1",
          "0",
          "1",
          "0",
          "1",
          "1",
          "0",
          "0",
          "male",
          "female",
          "female",
          "male",
          "female",
          "male",
          "3",
          "1",
          "2"
         ],
         "marker": {
          "coloraxis": "coloraxis",
          "colors": {
           "bdata": "0xFqKStRQEB5liyd8fBDQMAHMUR8/jpAje139MqYSEDgh/9UJOZAQJz/btx0mz5AX7xIQ9YjQ0DJ+DRUgt9CQJTFgDfjH0VAftC8Z44cPEDkOI7jOO5DQNFFF110UURAeEkWShsIQEDWjW9BePNDQBZliLSrID1A6x6606xjR0BQtxR4AjVBQCqtIqjn5EJABIITSGZVP0AsZQeRiPdFQNrtLppNM0JA",
           "dtype": "f8"
          }
         },
         "name": "",
         "parents": [
          "3/male",
          "1/female",
          "3/female",
          "1/male",
          "2/female",
          "3/female",
          "2/male",
          "2/male",
          "1/male",
          "3/male",
          "2/female",
          "1/female",
          "3",
          "1",
          "3",
          "1",
          "2",
          "2",
          "",
          "",
          ""
         ],
         "type": "sunburst",
         "values": {
          "bdata": "AAAAAADktkAAAAAAAGKmQAAAAAAAZIxAAAAAAAA/pUAAAAAAANadQAAAAAAAeJRAwvUoXI8KbkAAAAAAAOalQEjhehSup5ZAj8L1KFxzikAAAAAAAABrQAAAAAAAQFNAUrgehWsyukAAAAAAAPymQAAAAAAAVaFAUrgehWtJsEAAAAAAAJugQFyPwvWoxqdAKVyPwnVuwUBSuB6Fa8e7QK5H4XrUMLRA",
          "dtype": "f8"
         }
        }
       ],
       "layout": {
        "coloraxis": {
         "colorbar": {
          "title": {
           "text": "age"
          }
         },
         "colorscale": [
          [
           0,
           "rgb(142,1,82)"
          ],
          [
           0.1,
           "rgb(197,27,125)"
          ],
          [
           0.2,
           "rgb(222,119,174)"
          ],
          [
           0.3,
           "rgb(241,182,218)"
          ],
          [
           0.4,
           "rgb(253,224,239)"
          ],
          [
           0.5,
           "rgb(247,247,247)"
          ],
          [
           0.6,
           "rgb(230,245,208)"
          ],
          [
           0.7,
           "rgb(184,225,134)"
          ],
          [
           0.8,
           "rgb(127,188,65)"
          ],
          [
           0.9,
           "rgb(77,146,33)"
          ],
          [
           1,
           "rgb(39,100,25)"
          ]
         ]
        },
        "height": 500,
        "legend": {
         "tracegroupgap": 0
        },
        "template": {
         "data": {
          "bar": [
           {
            "error_x": {
             "color": "#f2f5fa"
            },
            "error_y": {
             "color": "#f2f5fa"
            },
            "marker": {
             "line": {
              "color": "rgb(17,17,17)",
              "width": 0.5
             },
             "pattern": {
              "fillmode": "overlay",
              "size": 10,
              "solidity": 0.2
             }
            },
            "type": "bar"
           }
          ],
          "barpolar": [
           {
            "marker": {
             "line": {
              "color": "rgb(17,17,17)",
              "width": 0.5
             },
             "pattern": {
              "fillmode": "overlay",
              "size": 10,
              "solidity": 0.2
             }
            },
            "type": "barpolar"
           }
          ],
          "carpet": [
           {
            "aaxis": {
             "endlinecolor": "#A2B1C6",
             "gridcolor": "#506784",
             "linecolor": "#506784",
             "minorgridcolor": "#506784",
             "startlinecolor": "#A2B1C6"
            },
            "baxis": {
             "endlinecolor": "#A2B1C6",
             "gridcolor": "#506784",
             "linecolor": "#506784",
             "minorgridcolor": "#506784",
             "startlinecolor": "#A2B1C6"
            },
            "type": "carpet"
           }
          ],
          "choropleth": [
           {
            "colorbar": {
             "outlinewidth": 0,
             "ticks": ""
            },
            "type": "choropleth"
           }
          ],
          "contour": [
           {
            "colorbar": {
             "outlinewidth": 0,
             "ticks": ""
            },
            "colorscale": [
             [
              0,
              "#0d0887"
             ],
             [
              0.1111111111111111,
              "#46039f"
             ],
             [
              0.2222222222222222,
              "#7201a8"
             ],
             [
              0.3333333333333333,
              "#9c179e"
             ],
             [
              0.4444444444444444,
              "#bd3786"
             ],
             [
              0.5555555555555556,
              "#d8576b"
             ],
             [
              0.6666666666666666,
              "#ed7953"
             ],
             [
              0.7777777777777778,
              "#fb9f3a"
             ],
             [
              0.8888888888888888,
              "#fdca26"
             ],
             [
              1,
              "#f0f921"
             ]
            ],
            "type": "contour"
           }
          ],
          "contourcarpet": [
           {
            "colorbar": {
             "outlinewidth": 0,
             "ticks": ""
            },
            "type": "contourcarpet"
           }
          ],
          "heatmap": [
           {
            "colorbar": {
             "outlinewidth": 0,
             "ticks": ""
            },
            "colorscale": [
             [
              0,
              "#0d0887"
             ],
             [
              0.1111111111111111,
              "#46039f"
             ],
             [
              0.2222222222222222,
              "#7201a8"
             ],
             [
              0.3333333333333333,
              "#9c179e"
             ],
             [
              0.4444444444444444,
              "#bd3786"
             ],
             [
              0.5555555555555556,
              "#d8576b"
             ],
             [
              0.6666666666666666,
              "#ed7953"
             ],
             [
              0.7777777777777778,
              "#fb9f3a"
             ],
             [
              0.8888888888888888,
              "#fdca26"
             ],
             [
              1,
              "#f0f921"
             ]
            ],
            "type": "heatmap"
           }
          ],
          "histogram": [
           {
            "marker": {
             "pattern": {
              "fillmode": "overlay",
              "size": 10,
              "solidity": 0.2
             }
            },
            "type": "histogram"
           }
          ],
          "histogram2d": [
           {
            "colorbar": {
             "outlinewidth": 0,
             "ticks": ""
            },
            "colorscale": [
             [
              0,
              "#0d0887"
             ],
             [
              0.1111111111111111,
              "#46039f"
             ],
             [
              0.2222222222222222,
              "#7201a8"
             ],
             [
              0.3333333333333333,
              "#9c179e"
             ],
             [
              0.4444444444444444,
              "#bd3786"
             ],
             [
              0.5555555555555556,
              "#d8576b"
             ],
             [
              0.6666666666666666,
              "#ed7953"
             ],
             [
              0.7777777777777778,
              "#fb9f3a"
             ],
             [
              0.8888888888888888,
              "#fdca26"
             ],
             [
              1,
              "#f0f921"
             ]
            ],
            "type": "histogram2d"
           }
          ],
          "histogram2dcontour": [
           {
            "colorbar": {
             "outlinewidth": 0,
             "ticks": ""
            },
            "colorscale": [
             [
              0,
              "#0d0887"
             ],
             [
              0.1111111111111111,
              "#46039f"
             ],
             [
              0.2222222222222222,
              "#7201a8"
             ],
             [
              0.3333333333333333,
              "#9c179e"
             ],
             [
              0.4444444444444444,
              "#bd3786"
             ],
             [
              0.5555555555555556,
              "#d8576b"
             ],
             [
              0.6666666666666666,
              "#ed7953"
             ],
             [
              0.7777777777777778,
              "#fb9f3a"
             ],
             [
              0.8888888888888888,
              "#fdca26"
             ],
             [
              1,
              "#f0f921"
             ]
            ],
            "type": "histogram2dcontour"
           }
          ],
          "mesh3d": [
           {
            "colorbar": {
             "outlinewidth": 0,
             "ticks": ""
            },
            "type": "mesh3d"
           }
          ],
          "parcoords": [
           {
            "line": {
             "colorbar": {
              "outlinewidth": 0,
              "ticks": ""
             }
            },
            "type": "parcoords"
           }
          ],
          "pie": [
           {
            "automargin": true,
            "type": "pie"
           }
          ],
          "scatter": [
           {
            "marker": {
             "line": {
              "color": "#283442"
             }
            },
            "type": "scatter"
           }
          ],
          "scatter3d": [
           {
            "line": {
             "colorbar": {
              "outlinewidth": 0,
              "ticks": ""
             }
            },
            "marker": {
             "colorbar": {
              "outlinewidth": 0,
              "ticks": ""
             }
            },
            "type": "scatter3d"
           }
          ],
          "scattercarpet": [
           {
            "marker": {
             "colorbar": {
              "outlinewidth": 0,
              "ticks": ""
             }
            },
            "type": "scattercarpet"
           }
          ],
          "scattergeo": [
           {
            "marker": {
             "colorbar": {
              "outlinewidth": 0,
              "ticks": ""
             }
            },
            "type": "scattergeo"
           }
          ],
          "scattergl": [
           {
            "marker": {
             "line": {
              "color": "#283442"
             }
            },
            "type": "scattergl"
           }
          ],
          "scattermap": [
           {
            "marker": {
             "colorbar": {
              "outlinewidth": 0,
              "ticks": ""
             }
            },
            "type": "scattermap"
           }
          ],
          "scattermapbox": [
           {
            "marker": {
             "colorbar": {
              "outlinewidth": 0,
              "ticks": ""
             }
            },
            "type": "scattermapbox"
           }
          ],
          "scatterpolar": [
           {
            "marker": {
             "colorbar": {
              "outlinewidth": 0,
              "ticks": ""
             }
            },
            "type": "scatterpolar"
           }
          ],
          "scatterpolargl": [
           {
            "marker": {
             "colorbar": {
              "outlinewidth": 0,
              "ticks": ""
             }
            },
            "type": "scatterpolargl"
           }
          ],
          "scatterternary": [
           {
            "marker": {
             "colorbar": {
              "outlinewidth": 0,
              "ticks": ""
             }
            },
            "type": "scatterternary"
           }
          ],
          "surface": [
           {
            "colorbar": {
             "outlinewidth": 0,
             "ticks": ""
            },
            "colorscale": [
             [
              0,
              "#0d0887"
             ],
             [
              0.1111111111111111,
              "#46039f"
             ],
             [
              0.2222222222222222,
              "#7201a8"
             ],
             [
              0.3333333333333333,
              "#9c179e"
             ],
             [
              0.4444444444444444,
              "#bd3786"
             ],
             [
              0.5555555555555556,
              "#d8576b"
             ],
             [
              0.6666666666666666,
              "#ed7953"
             ],
             [
              0.7777777777777778,
              "#fb9f3a"
             ],
             [
              0.8888888888888888,
              "#fdca26"
             ],
             [
              1,
              "#f0f921"
             ]
            ],
            "type": "surface"
           }
          ],
          "table": [
           {
            "cells": {
             "fill": {
              "color": "#506784"
             },
             "line": {
              "color": "rgb(17,17,17)"
             }
            },
            "header": {
             "fill": {
              "color": "#2a3f5f"
             },
             "line": {
              "color": "rgb(17,17,17)"
             }
            },
            "type": "table"
           }
          ]
         },
         "layout": {
          "annotationdefaults": {
           "arrowcolor": "#f2f5fa",
           "arrowhead": 0,
           "arrowwidth": 1
          },
          "autotypenumbers": "strict",
          "coloraxis": {
           "colorbar": {
            "outlinewidth": 0,
            "ticks": ""
           }
          },
          "colorscale": {
           "diverging": [
            [
             0,
             "#8e0152"
            ],
            [
             0.1,
             "#c51b7d"
            ],
            [
             0.2,
             "#de77ae"
            ],
            [
             0.3,
             "#f1b6da"
            ],
            [
             0.4,
             "#fde0ef"
            ],
            [
             0.5,
             "#f7f7f7"
            ],
            [
             0.6,
             "#e6f5d0"
            ],
            [
             0.7,
             "#b8e186"
            ],
            [
             0.8,
             "#7fbc41"
            ],
            [
             0.9,
             "#4d9221"
            ],
            [
             1,
             "#276419"
            ]
           ],
           "sequential": [
            [
             0,
             "#0d0887"
            ],
            [
             0.1111111111111111,
             "#46039f"
            ],
            [
             0.2222222222222222,
             "#7201a8"
            ],
            [
             0.3333333333333333,
             "#9c179e"
            ],
            [
             0.4444444444444444,
             "#bd3786"
            ],
            [
             0.5555555555555556,
             "#d8576b"
            ],
            [
             0.6666666666666666,
             "#ed7953"
            ],
            [
             0.7777777777777778,
             "#fb9f3a"
            ],
            [
             0.8888888888888888,
             "#fdca26"
            ],
            [
             1,
             "#f0f921"
            ]
           ],
           "sequentialminus": [
            [
             0,
             "#0d0887"
            ],
            [
             0.1111111111111111,
             "#46039f"
            ],
            [
             0.2222222222222222,
             "#7201a8"
            ],
            [
             0.3333333333333333,
             "#9c179e"
            ],
            [
             0.4444444444444444,
             "#bd3786"
            ],
            [
             0.5555555555555556,
             "#d8576b"
            ],
            [
             0.6666666666666666,
             "#ed7953"
            ],
            [
             0.7777777777777778,
             "#fb9f3a"
            ],
            [
             0.8888888888888888,
             "#fdca26"
            ],
            [
             1,
             "#f0f921"
            ]
           ]
          },
          "colorway": [
           "#636efa",
           "#EF553B",
           "#00cc96",
           "#ab63fa",
           "#FFA15A",
           "#19d3f3",
           "#FF6692",
           "#B6E880",
           "#FF97FF",
           "#FECB52"
          ],
          "font": {
           "color": "#f2f5fa"
          },
          "geo": {
           "bgcolor": "rgb(17,17,17)",
           "lakecolor": "rgb(17,17,17)",
           "landcolor": "rgb(17,17,17)",
           "showlakes": true,
           "showland": true,
           "subunitcolor": "#506784"
          },
          "hoverlabel": {
           "align": "left"
          },
          "hovermode": "closest",
          "mapbox": {
           "style": "dark"
          },
          "paper_bgcolor": "rgb(17,17,17)",
          "plot_bgcolor": "rgb(17,17,17)",
          "polar": {
           "angularaxis": {
            "gridcolor": "#506784",
            "linecolor": "#506784",
            "ticks": ""
           },
           "bgcolor": "rgb(17,17,17)",
           "radialaxis": {
            "gridcolor": "#506784",
            "linecolor": "#506784",
            "ticks": ""
           }
          },
          "scene": {
           "xaxis": {
            "backgroundcolor": "rgb(17,17,17)",
            "gridcolor": "#506784",
            "gridwidth": 2,
            "linecolor": "#506784",
            "showbackground": true,
            "ticks": "",
            "zerolinecolor": "#C8D4E3"
           },
           "yaxis": {
            "backgroundcolor": "rgb(17,17,17)",
            "gridcolor": "#506784",
            "gridwidth": 2,
            "linecolor": "#506784",
            "showbackground": true,
            "ticks": "",
            "zerolinecolor": "#C8D4E3"
           },
           "zaxis": {
            "backgroundcolor": "rgb(17,17,17)",
            "gridcolor": "#506784",
            "gridwidth": 2,
            "linecolor": "#506784",
            "showbackground": true,
            "ticks": "",
            "zerolinecolor": "#C8D4E3"
           }
          },
          "shapedefaults": {
           "line": {
            "color": "#f2f5fa"
           }
          },
          "sliderdefaults": {
           "bgcolor": "#C8D4E3",
           "bordercolor": "rgb(17,17,17)",
           "borderwidth": 1,
           "tickwidth": 0
          },
          "ternary": {
           "aaxis": {
            "gridcolor": "#506784",
            "linecolor": "#506784",
            "ticks": ""
           },
           "baxis": {
            "gridcolor": "#506784",
            "linecolor": "#506784",
            "ticks": ""
           },
           "bgcolor": "rgb(17,17,17)",
           "caxis": {
            "gridcolor": "#506784",
            "linecolor": "#506784",
            "ticks": ""
           }
          },
          "title": {
           "x": 0.05
          },
          "updatemenudefaults": {
           "bgcolor": "#506784",
           "borderwidth": 0
          },
          "xaxis": {
           "automargin": true,
           "gridcolor": "#283442",
           "linecolor": "#506784",
           "ticks": "",
           "title": {
            "standoff": 15
           },
           "zerolinecolor": "#283442",
           "zerolinewidth": 2
          },
          "yaxis": {
           "automargin": true,
           "gridcolor": "#283442",
           "linecolor": "#506784",
           "ticks": "",
           "title": {
            "standoff": 15
           },
           "zerolinecolor": "#283442",
           "zerolinewidth": 2
          }
         }
        },
        "title": {
         "text": "survival by class and gender"
        },
        "width": 500
       }
      }
     },
     "metadata": {},
     "output_type": "display_data"
    }
   ],
   "source": [
    "px.sunburst(df, path=['pclass','sex','survived'],values='age',\n",
    "            title='survival by class and gender', width=500, height=500,\n",
    "            template='plotly_dark', color='age', color_continuous_scale='PiYG')"
   ]
  },
  {
   "cell_type": "code",
   "execution_count": 29,
   "metadata": {},
   "outputs": [
    {
     "data": {
      "application/vnd.plotly.v1+json": {
       "config": {
        "plotlyServerURL": "https://plot.ly"
       },
       "data": [
        {
         "bingroup": "x",
         "hovertemplate": "survived=0<br>age=%{x}<br>count=%{y}<extra></extra>",
         "legendgroup": "0",
         "marker": {
          "color": "#636efa",
          "pattern": {
           "shape": ""
          }
         },
         "name": "0",
         "nbinsx": 30,
         "orientation": "v",
         "showlegend": true,
         "type": "histogram",
         "x": {
          "bdata": "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",
          "dtype": "f8"
         },
         "xaxis": "x",
         "yaxis": "y"
        },
        {
         "bingroup": "x",
         "hovertemplate": "survived=1<br>age=%{x}<br>count=%{y}<extra></extra>",
         "legendgroup": "1",
         "marker": {
          "color": "#EF553B",
          "pattern": {
           "shape": ""
          }
         },
         "name": "1",
         "nbinsx": 30,
         "orientation": "v",
         "showlegend": true,
         "type": "histogram",
         "x": {
          "bdata": "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",
          "dtype": "f8"
         },
         "xaxis": "x",
         "yaxis": "y"
        }
       ],
       "layout": {
        "barmode": "relative",
        "legend": {
         "title": {
          "text": "survived"
         },
         "tracegroupgap": 0
        },
        "template": {
         "data": {
          "bar": [
           {
            "error_x": {
             "color": "#f2f5fa"
            },
            "error_y": {
             "color": "#f2f5fa"
            },
            "marker": {
             "line": {
              "color": "rgb(17,17,17)",
              "width": 0.5
             },
             "pattern": {
              "fillmode": "overlay",
              "size": 10,
              "solidity": 0.2
             }
            },
            "type": "bar"
           }
          ],
          "barpolar": [
           {
            "marker": {
             "line": {
              "color": "rgb(17,17,17)",
              "width": 0.5
             },
             "pattern": {
              "fillmode": "overlay",
              "size": 10,
              "solidity": 0.2
             }
            },
            "type": "barpolar"
           }
          ],
          "carpet": [
           {
            "aaxis": {
             "endlinecolor": "#A2B1C6",
             "gridcolor": "#506784",
             "linecolor": "#506784",
             "minorgridcolor": "#506784",
             "startlinecolor": "#A2B1C6"
            },
            "baxis": {
             "endlinecolor": "#A2B1C6",
             "gridcolor": "#506784",
             "linecolor": "#506784",
             "minorgridcolor": "#506784",
             "startlinecolor": "#A2B1C6"
            },
            "type": "carpet"
           }
          ],
          "choropleth": [
           {
            "colorbar": {
             "outlinewidth": 0,
             "ticks": ""
            },
            "type": "choropleth"
           }
          ],
          "contour": [
           {
            "colorbar": {
             "outlinewidth": 0,
             "ticks": ""
            },
            "colorscale": [
             [
              0,
              "#0d0887"
             ],
             [
              0.1111111111111111,
              "#46039f"
             ],
             [
              0.2222222222222222,
              "#7201a8"
             ],
             [
              0.3333333333333333,
              "#9c179e"
             ],
             [
              0.4444444444444444,
              "#bd3786"
             ],
             [
              0.5555555555555556,
              "#d8576b"
             ],
             [
              0.6666666666666666,
              "#ed7953"
             ],
             [
              0.7777777777777778,
              "#fb9f3a"
             ],
             [
              0.8888888888888888,
              "#fdca26"
             ],
             [
              1,
              "#f0f921"
             ]
            ],
            "type": "contour"
           }
          ],
          "contourcarpet": [
           {
            "colorbar": {
             "outlinewidth": 0,
             "ticks": ""
            },
            "type": "contourcarpet"
           }
          ],
          "heatmap": [
           {
            "colorbar": {
             "outlinewidth": 0,
             "ticks": ""
            },
            "colorscale": [
             [
              0,
              "#0d0887"
             ],
             [
              0.1111111111111111,
              "#46039f"
             ],
             [
              0.2222222222222222,
              "#7201a8"
             ],
             [
              0.3333333333333333,
              "#9c179e"
             ],
             [
              0.4444444444444444,
              "#bd3786"
             ],
             [
              0.5555555555555556,
              "#d8576b"
             ],
             [
              0.6666666666666666,
              "#ed7953"
             ],
             [
              0.7777777777777778,
              "#fb9f3a"
             ],
             [
              0.8888888888888888,
              "#fdca26"
             ],
             [
              1,
              "#f0f921"
             ]
            ],
            "type": "heatmap"
           }
          ],
          "histogram": [
           {
            "marker": {
             "pattern": {
              "fillmode": "overlay",
              "size": 10,
              "solidity": 0.2
             }
            },
            "type": "histogram"
           }
          ],
          "histogram2d": [
           {
            "colorbar": {
             "outlinewidth": 0,
             "ticks": ""
            },
            "colorscale": [
             [
              0,
              "#0d0887"
             ],
             [
              0.1111111111111111,
              "#46039f"
             ],
             [
              0.2222222222222222,
              "#7201a8"
             ],
             [
              0.3333333333333333,
              "#9c179e"
             ],
             [
              0.4444444444444444,
              "#bd3786"
             ],
             [
              0.5555555555555556,
              "#d8576b"
             ],
             [
              0.6666666666666666,
              "#ed7953"
             ],
             [
              0.7777777777777778,
              "#fb9f3a"
             ],
             [
              0.8888888888888888,
              "#fdca26"
             ],
             [
              1,
              "#f0f921"
             ]
            ],
            "type": "histogram2d"
           }
          ],
          "histogram2dcontour": [
           {
            "colorbar": {
             "outlinewidth": 0,
             "ticks": ""
            },
            "colorscale": [
             [
              0,
              "#0d0887"
             ],
             [
              0.1111111111111111,
              "#46039f"
             ],
             [
              0.2222222222222222,
              "#7201a8"
             ],
             [
              0.3333333333333333,
              "#9c179e"
             ],
             [
              0.4444444444444444,
              "#bd3786"
             ],
             [
              0.5555555555555556,
              "#d8576b"
             ],
             [
              0.6666666666666666,
              "#ed7953"
             ],
             [
              0.7777777777777778,
              "#fb9f3a"
             ],
             [
              0.8888888888888888,
              "#fdca26"
             ],
             [
              1,
              "#f0f921"
             ]
            ],
            "type": "histogram2dcontour"
           }
          ],
          "mesh3d": [
           {
            "colorbar": {
             "outlinewidth": 0,
             "ticks": ""
            },
            "type": "mesh3d"
           }
          ],
          "parcoords": [
           {
            "line": {
             "colorbar": {
              "outlinewidth": 0,
              "ticks": ""
             }
            },
            "type": "parcoords"
           }
          ],
          "pie": [
           {
            "automargin": true,
            "type": "pie"
           }
          ],
          "scatter": [
           {
            "marker": {
             "line": {
              "color": "#283442"
             }
            },
            "type": "scatter"
           }
          ],
          "scatter3d": [
           {
            "line": {
             "colorbar": {
              "outlinewidth": 0,
              "ticks": ""
             }
            },
            "marker": {
             "colorbar": {
              "outlinewidth": 0,
              "ticks": ""
             }
            },
            "type": "scatter3d"
           }
          ],
          "scattercarpet": [
           {
            "marker": {
             "colorbar": {
              "outlinewidth": 0,
              "ticks": ""
             }
            },
            "type": "scattercarpet"
           }
          ],
          "scattergeo": [
           {
            "marker": {
             "colorbar": {
              "outlinewidth": 0,
              "ticks": ""
             }
            },
            "type": "scattergeo"
           }
          ],
          "scattergl": [
           {
            "marker": {
             "line": {
              "color": "#283442"
             }
            },
            "type": "scattergl"
           }
          ],
          "scattermap": [
           {
            "marker": {
             "colorbar": {
              "outlinewidth": 0,
              "ticks": ""
             }
            },
            "type": "scattermap"
           }
          ],
          "scattermapbox": [
           {
            "marker": {
             "colorbar": {
              "outlinewidth": 0,
              "ticks": ""
             }
            },
            "type": "scattermapbox"
           }
          ],
          "scatterpolar": [
           {
            "marker": {
             "colorbar": {
              "outlinewidth": 0,
              "ticks": ""
             }
            },
            "type": "scatterpolar"
           }
          ],
          "scatterpolargl": [
           {
            "marker": {
             "colorbar": {
              "outlinewidth": 0,
              "ticks": ""
             }
            },
            "type": "scatterpolargl"
           }
          ],
          "scatterternary": [
           {
            "marker": {
             "colorbar": {
              "outlinewidth": 0,
              "ticks": ""
             }
            },
            "type": "scatterternary"
           }
          ],
          "surface": [
           {
            "colorbar": {
             "outlinewidth": 0,
             "ticks": ""
            },
            "colorscale": [
             [
              0,
              "#0d0887"
             ],
             [
              0.1111111111111111,
              "#46039f"
             ],
             [
              0.2222222222222222,
              "#7201a8"
             ],
             [
              0.3333333333333333,
              "#9c179e"
             ],
             [
              0.4444444444444444,
              "#bd3786"
             ],
             [
              0.5555555555555556,
              "#d8576b"
             ],
             [
              0.6666666666666666,
              "#ed7953"
             ],
             [
              0.7777777777777778,
              "#fb9f3a"
             ],
             [
              0.8888888888888888,
              "#fdca26"
             ],
             [
              1,
              "#f0f921"
             ]
            ],
            "type": "surface"
           }
          ],
          "table": [
           {
            "cells": {
             "fill": {
              "color": "#506784"
             },
             "line": {
              "color": "rgb(17,17,17)"
             }
            },
            "header": {
             "fill": {
              "color": "#2a3f5f"
             },
             "line": {
              "color": "rgb(17,17,17)"
             }
            },
            "type": "table"
           }
          ]
         },
         "layout": {
          "annotationdefaults": {
           "arrowcolor": "#f2f5fa",
           "arrowhead": 0,
           "arrowwidth": 1
          },
          "autotypenumbers": "strict",
          "coloraxis": {
           "colorbar": {
            "outlinewidth": 0,
            "ticks": ""
           }
          },
          "colorscale": {
           "diverging": [
            [
             0,
             "#8e0152"
            ],
            [
             0.1,
             "#c51b7d"
            ],
            [
             0.2,
             "#de77ae"
            ],
            [
             0.3,
             "#f1b6da"
            ],
            [
             0.4,
             "#fde0ef"
            ],
            [
             0.5,
             "#f7f7f7"
            ],
            [
             0.6,
             "#e6f5d0"
            ],
            [
             0.7,
             "#b8e186"
            ],
            [
             0.8,
             "#7fbc41"
            ],
            [
             0.9,
             "#4d9221"
            ],
            [
             1,
             "#276419"
            ]
           ],
           "sequential": [
            [
             0,
             "#0d0887"
            ],
            [
             0.1111111111111111,
             "#46039f"
            ],
            [
             0.2222222222222222,
             "#7201a8"
            ],
            [
             0.3333333333333333,
             "#9c179e"
            ],
            [
             0.4444444444444444,
             "#bd3786"
            ],
            [
             0.5555555555555556,
             "#d8576b"
            ],
            [
             0.6666666666666666,
             "#ed7953"
            ],
            [
             0.7777777777777778,
             "#fb9f3a"
            ],
            [
             0.8888888888888888,
             "#fdca26"
            ],
            [
             1,
             "#f0f921"
            ]
           ],
           "sequentialminus": [
            [
             0,
             "#0d0887"
            ],
            [
             0.1111111111111111,
             "#46039f"
            ],
            [
             0.2222222222222222,
             "#7201a8"
            ],
            [
             0.3333333333333333,
             "#9c179e"
            ],
            [
             0.4444444444444444,
             "#bd3786"
            ],
            [
             0.5555555555555556,
             "#d8576b"
            ],
            [
             0.6666666666666666,
             "#ed7953"
            ],
            [
             0.7777777777777778,
             "#fb9f3a"
            ],
            [
             0.8888888888888888,
             "#fdca26"
            ],
            [
             1,
             "#f0f921"
            ]
           ]
          },
          "colorway": [
           "#636efa",
           "#EF553B",
           "#00cc96",
           "#ab63fa",
           "#FFA15A",
           "#19d3f3",
           "#FF6692",
           "#B6E880",
           "#FF97FF",
           "#FECB52"
          ],
          "font": {
           "color": "#f2f5fa"
          },
          "geo": {
           "bgcolor": "rgb(17,17,17)",
           "lakecolor": "rgb(17,17,17)",
           "landcolor": "rgb(17,17,17)",
           "showlakes": true,
           "showland": true,
           "subunitcolor": "#506784"
          },
          "hoverlabel": {
           "align": "left"
          },
          "hovermode": "closest",
          "mapbox": {
           "style": "dark"
          },
          "paper_bgcolor": "rgb(17,17,17)",
          "plot_bgcolor": "rgb(17,17,17)",
          "polar": {
           "angularaxis": {
            "gridcolor": "#506784",
            "linecolor": "#506784",
            "ticks": ""
           },
           "bgcolor": "rgb(17,17,17)",
           "radialaxis": {
            "gridcolor": "#506784",
            "linecolor": "#506784",
            "ticks": ""
           }
          },
          "scene": {
           "xaxis": {
            "backgroundcolor": "rgb(17,17,17)",
            "gridcolor": "#506784",
            "gridwidth": 2,
            "linecolor": "#506784",
            "showbackground": true,
            "ticks": "",
            "zerolinecolor": "#C8D4E3"
           },
           "yaxis": {
            "backgroundcolor": "rgb(17,17,17)",
            "gridcolor": "#506784",
            "gridwidth": 2,
            "linecolor": "#506784",
            "showbackground": true,
            "ticks": "",
            "zerolinecolor": "#C8D4E3"
           },
           "zaxis": {
            "backgroundcolor": "rgb(17,17,17)",
            "gridcolor": "#506784",
            "gridwidth": 2,
            "linecolor": "#506784",
            "showbackground": true,
            "ticks": "",
            "zerolinecolor": "#C8D4E3"
           }
          },
          "shapedefaults": {
           "line": {
            "color": "#f2f5fa"
           }
          },
          "sliderdefaults": {
           "bgcolor": "#C8D4E3",
           "bordercolor": "rgb(17,17,17)",
           "borderwidth": 1,
           "tickwidth": 0
          },
          "ternary": {
           "aaxis": {
            "gridcolor": "#506784",
            "linecolor": "#506784",
            "ticks": ""
           },
           "baxis": {
            "gridcolor": "#506784",
            "linecolor": "#506784",
            "ticks": ""
           },
           "bgcolor": "rgb(17,17,17)",
           "caxis": {
            "gridcolor": "#506784",
            "linecolor": "#506784",
            "ticks": ""
           }
          },
          "title": {
           "x": 0.05
          },
          "updatemenudefaults": {
           "bgcolor": "#506784",
           "borderwidth": 0
          },
          "xaxis": {
           "automargin": true,
           "gridcolor": "#283442",
           "linecolor": "#506784",
           "ticks": "",
           "title": {
            "standoff": 15
           },
           "zerolinecolor": "#283442",
           "zerolinewidth": 2
          },
          "yaxis": {
           "automargin": true,
           "gridcolor": "#283442",
           "linecolor": "#506784",
           "ticks": "",
           "title": {
            "standoff": 15
           },
           "zerolinecolor": "#283442",
           "zerolinewidth": 2
          }
         }
        },
        "title": {
         "text": "Age Distribution by Survival Status"
        },
        "xaxis": {
         "anchor": "y",
         "domain": [
          0,
          1
         ],
         "title": {
          "text": "age"
         }
        },
        "yaxis": {
         "anchor": "x",
         "domain": [
          0,
          1
         ],
         "title": {
          "text": "count"
         }
        }
       }
      }
     },
     "metadata": {},
     "output_type": "display_data"
    }
   ],
   "source": [
    "px.histogram(df, x='age', nbins=30, color='survived',\n",
    "             title='Age Distribution by Survival Status',\n",
    "             template='plotly_dark')"
   ]
  },
  {
   "cell_type": "code",
   "execution_count": 27,
   "metadata": {},
   "outputs": [
    {
     "data": {
      "application/vnd.plotly.v1+json": {
       "config": {
        "plotlyServerURL": "https://plot.ly"
       },
       "data": [
        {
         "branchvalues": "total",
         "customdata": {
          "bdata": "A9z3ccQhQECCl6aLvVZEQP4MXAN2iDtAMDVmH6J6SECJ9kWCRiZBQImhzbXg8kJABIITSGZVP0AsZQeRiPdFQNrtLppNM0JA",
          "dtype": "f8",
          "shape": "9, 1"
         },
         "domain": {
          "x": [
           0,
           1
          ],
          "y": [
           0,
           1
          ]
         },
         "hovertemplate": "labels=%{label}<br>age_sum=%{value}<br>parent=%{parent}<br>id=%{id}<br>age=%{color}<extra></extra>",
         "ids": [
          "3/0",
          "1/1",
          "3/1",
          "1/0",
          "2/1",
          "2/0",
          "3",
          "1",
          "2"
         ],
         "labels": [
          "0",
          "1",
          "1",
          "0",
          "1",
          "0",
          "3",
          "1",
          "2"
         ],
         "marker": {
          "coloraxis": "coloraxis",
          "colors": {
           "bdata": "A9z3ccQhQECCl6aLvVZEQP4MXAN2iDtAMDVmH6J6SECJ9kWCRiZBQImhzbXg8kJABIITSGZVP0AsZQeRiPdFQNrtLppNM0JA",
           "dtype": "f8"
          }
         },
         "name": "",
         "parents": [
          "3",
          "1",
          "3",
          "1",
          "2",
          "2",
          "",
          "",
          ""
         ],
         "type": "treemap",
         "values": {
          "bdata": "AAAAAAACvEBSuB6F69qwQEjhehSua5tAAAAAAADZpUBcj8L1qMugQAAAAAAAlqdAKVyPwnVuwUBSuB6Fa8e7QK5H4XrUMLRA",
          "dtype": "f8"
         }
        }
       ],
       "layout": {
        "coloraxis": {
         "colorbar": {
          "title": {
           "text": "age"
          }
         },
         "colorscale": [
          [
           0,
           "rgb(103,0,31)"
          ],
          [
           0.1,
           "rgb(178,24,43)"
          ],
          [
           0.2,
           "rgb(214,96,77)"
          ],
          [
           0.3,
           "rgb(244,165,130)"
          ],
          [
           0.4,
           "rgb(253,219,199)"
          ],
          [
           0.5,
           "rgb(247,247,247)"
          ],
          [
           0.6,
           "rgb(209,229,240)"
          ],
          [
           0.7,
           "rgb(146,197,222)"
          ],
          [
           0.8,
           "rgb(67,147,195)"
          ],
          [
           0.9,
           "rgb(33,102,172)"
          ],
          [
           1,
           "rgb(5,48,97)"
          ]
         ]
        },
        "height": 500,
        "legend": {
         "tracegroupgap": 0
        },
        "template": {
         "data": {
          "bar": [
           {
            "error_x": {
             "color": "#f2f5fa"
            },
            "error_y": {
             "color": "#f2f5fa"
            },
            "marker": {
             "line": {
              "color": "rgb(17,17,17)",
              "width": 0.5
             },
             "pattern": {
              "fillmode": "overlay",
              "size": 10,
              "solidity": 0.2
             }
            },
            "type": "bar"
           }
          ],
          "barpolar": [
           {
            "marker": {
             "line": {
              "color": "rgb(17,17,17)",
              "width": 0.5
             },
             "pattern": {
              "fillmode": "overlay",
              "size": 10,
              "solidity": 0.2
             }
            },
            "type": "barpolar"
           }
          ],
          "carpet": [
           {
            "aaxis": {
             "endlinecolor": "#A2B1C6",
             "gridcolor": "#506784",
             "linecolor": "#506784",
             "minorgridcolor": "#506784",
             "startlinecolor": "#A2B1C6"
            },
            "baxis": {
             "endlinecolor": "#A2B1C6",
             "gridcolor": "#506784",
             "linecolor": "#506784",
             "minorgridcolor": "#506784",
             "startlinecolor": "#A2B1C6"
            },
            "type": "carpet"
           }
          ],
          "choropleth": [
           {
            "colorbar": {
             "outlinewidth": 0,
             "ticks": ""
            },
            "type": "choropleth"
           }
          ],
          "contour": [
           {
            "colorbar": {
             "outlinewidth": 0,
             "ticks": ""
            },
            "colorscale": [
             [
              0,
              "#0d0887"
             ],
             [
              0.1111111111111111,
              "#46039f"
             ],
             [
              0.2222222222222222,
              "#7201a8"
             ],
             [
              0.3333333333333333,
              "#9c179e"
             ],
             [
              0.4444444444444444,
              "#bd3786"
             ],
             [
              0.5555555555555556,
              "#d8576b"
             ],
             [
              0.6666666666666666,
              "#ed7953"
             ],
             [
              0.7777777777777778,
              "#fb9f3a"
             ],
             [
              0.8888888888888888,
              "#fdca26"
             ],
             [
              1,
              "#f0f921"
             ]
            ],
            "type": "contour"
           }
          ],
          "contourcarpet": [
           {
            "colorbar": {
             "outlinewidth": 0,
             "ticks": ""
            },
            "type": "contourcarpet"
           }
          ],
          "heatmap": [
           {
            "colorbar": {
             "outlinewidth": 0,
             "ticks": ""
            },
            "colorscale": [
             [
              0,
              "#0d0887"
             ],
             [
              0.1111111111111111,
              "#46039f"
             ],
             [
              0.2222222222222222,
              "#7201a8"
             ],
             [
              0.3333333333333333,
              "#9c179e"
             ],
             [
              0.4444444444444444,
              "#bd3786"
             ],
             [
              0.5555555555555556,
              "#d8576b"
             ],
             [
              0.6666666666666666,
              "#ed7953"
             ],
             [
              0.7777777777777778,
              "#fb9f3a"
             ],
             [
              0.8888888888888888,
              "#fdca26"
             ],
             [
              1,
              "#f0f921"
             ]
            ],
            "type": "heatmap"
           }
          ],
          "histogram": [
           {
            "marker": {
             "pattern": {
              "fillmode": "overlay",
              "size": 10,
              "solidity": 0.2
             }
            },
            "type": "histogram"
           }
          ],
          "histogram2d": [
           {
            "colorbar": {
             "outlinewidth": 0,
             "ticks": ""
            },
            "colorscale": [
             [
              0,
              "#0d0887"
             ],
             [
              0.1111111111111111,
              "#46039f"
             ],
             [
              0.2222222222222222,
              "#7201a8"
             ],
             [
              0.3333333333333333,
              "#9c179e"
             ],
             [
              0.4444444444444444,
              "#bd3786"
             ],
             [
              0.5555555555555556,
              "#d8576b"
             ],
             [
              0.6666666666666666,
              "#ed7953"
             ],
             [
              0.7777777777777778,
              "#fb9f3a"
             ],
             [
              0.8888888888888888,
              "#fdca26"
             ],
             [
              1,
              "#f0f921"
             ]
            ],
            "type": "histogram2d"
           }
          ],
          "histogram2dcontour": [
           {
            "colorbar": {
             "outlinewidth": 0,
             "ticks": ""
            },
            "colorscale": [
             [
              0,
              "#0d0887"
             ],
             [
              0.1111111111111111,
              "#46039f"
             ],
             [
              0.2222222222222222,
              "#7201a8"
             ],
             [
              0.3333333333333333,
              "#9c179e"
             ],
             [
              0.4444444444444444,
              "#bd3786"
             ],
             [
              0.5555555555555556,
              "#d8576b"
             ],
             [
              0.6666666666666666,
              "#ed7953"
             ],
             [
              0.7777777777777778,
              "#fb9f3a"
             ],
             [
              0.8888888888888888,
              "#fdca26"
             ],
             [
              1,
              "#f0f921"
             ]
            ],
            "type": "histogram2dcontour"
           }
          ],
          "mesh3d": [
           {
            "colorbar": {
             "outlinewidth": 0,
             "ticks": ""
            },
            "type": "mesh3d"
           }
          ],
          "parcoords": [
           {
            "line": {
             "colorbar": {
              "outlinewidth": 0,
              "ticks": ""
             }
            },
            "type": "parcoords"
           }
          ],
          "pie": [
           {
            "automargin": true,
            "type": "pie"
           }
          ],
          "scatter": [
           {
            "marker": {
             "line": {
              "color": "#283442"
             }
            },
            "type": "scatter"
           }
          ],
          "scatter3d": [
           {
            "line": {
             "colorbar": {
              "outlinewidth": 0,
              "ticks": ""
             }
            },
            "marker": {
             "colorbar": {
              "outlinewidth": 0,
              "ticks": ""
             }
            },
            "type": "scatter3d"
           }
          ],
          "scattercarpet": [
           {
            "marker": {
             "colorbar": {
              "outlinewidth": 0,
              "ticks": ""
             }
            },
            "type": "scattercarpet"
           }
          ],
          "scattergeo": [
           {
            "marker": {
             "colorbar": {
              "outlinewidth": 0,
              "ticks": ""
             }
            },
            "type": "scattergeo"
           }
          ],
          "scattergl": [
           {
            "marker": {
             "line": {
              "color": "#283442"
             }
            },
            "type": "scattergl"
           }
          ],
          "scattermap": [
           {
            "marker": {
             "colorbar": {
              "outlinewidth": 0,
              "ticks": ""
             }
            },
            "type": "scattermap"
           }
          ],
          "scattermapbox": [
           {
            "marker": {
             "colorbar": {
              "outlinewidth": 0,
              "ticks": ""
             }
            },
            "type": "scattermapbox"
           }
          ],
          "scatterpolar": [
           {
            "marker": {
             "colorbar": {
              "outlinewidth": 0,
              "ticks": ""
             }
            },
            "type": "scatterpolar"
           }
          ],
          "scatterpolargl": [
           {
            "marker": {
             "colorbar": {
              "outlinewidth": 0,
              "ticks": ""
             }
            },
            "type": "scatterpolargl"
           }
          ],
          "scatterternary": [
           {
            "marker": {
             "colorbar": {
              "outlinewidth": 0,
              "ticks": ""
             }
            },
            "type": "scatterternary"
           }
          ],
          "surface": [
           {
            "colorbar": {
             "outlinewidth": 0,
             "ticks": ""
            },
            "colorscale": [
             [
              0,
              "#0d0887"
             ],
             [
              0.1111111111111111,
              "#46039f"
             ],
             [
              0.2222222222222222,
              "#7201a8"
             ],
             [
              0.3333333333333333,
              "#9c179e"
             ],
             [
              0.4444444444444444,
              "#bd3786"
             ],
             [
              0.5555555555555556,
              "#d8576b"
             ],
             [
              0.6666666666666666,
              "#ed7953"
             ],
             [
              0.7777777777777778,
              "#fb9f3a"
             ],
             [
              0.8888888888888888,
              "#fdca26"
             ],
             [
              1,
              "#f0f921"
             ]
            ],
            "type": "surface"
           }
          ],
          "table": [
           {
            "cells": {
             "fill": {
              "color": "#506784"
             },
             "line": {
              "color": "rgb(17,17,17)"
             }
            },
            "header": {
             "fill": {
              "color": "#2a3f5f"
             },
             "line": {
              "color": "rgb(17,17,17)"
             }
            },
            "type": "table"
           }
          ]
         },
         "layout": {
          "annotationdefaults": {
           "arrowcolor": "#f2f5fa",
           "arrowhead": 0,
           "arrowwidth": 1
          },
          "autotypenumbers": "strict",
          "coloraxis": {
           "colorbar": {
            "outlinewidth": 0,
            "ticks": ""
           }
          },
          "colorscale": {
           "diverging": [
            [
             0,
             "#8e0152"
            ],
            [
             0.1,
             "#c51b7d"
            ],
            [
             0.2,
             "#de77ae"
            ],
            [
             0.3,
             "#f1b6da"
            ],
            [
             0.4,
             "#fde0ef"
            ],
            [
             0.5,
             "#f7f7f7"
            ],
            [
             0.6,
             "#e6f5d0"
            ],
            [
             0.7,
             "#b8e186"
            ],
            [
             0.8,
             "#7fbc41"
            ],
            [
             0.9,
             "#4d9221"
            ],
            [
             1,
             "#276419"
            ]
           ],
           "sequential": [
            [
             0,
             "#0d0887"
            ],
            [
             0.1111111111111111,
             "#46039f"
            ],
            [
             0.2222222222222222,
             "#7201a8"
            ],
            [
             0.3333333333333333,
             "#9c179e"
            ],
            [
             0.4444444444444444,
             "#bd3786"
            ],
            [
             0.5555555555555556,
             "#d8576b"
            ],
            [
             0.6666666666666666,
             "#ed7953"
            ],
            [
             0.7777777777777778,
             "#fb9f3a"
            ],
            [
             0.8888888888888888,
             "#fdca26"
            ],
            [
             1,
             "#f0f921"
            ]
           ],
           "sequentialminus": [
            [
             0,
             "#0d0887"
            ],
            [
             0.1111111111111111,
             "#46039f"
            ],
            [
             0.2222222222222222,
             "#7201a8"
            ],
            [
             0.3333333333333333,
             "#9c179e"
            ],
            [
             0.4444444444444444,
             "#bd3786"
            ],
            [
             0.5555555555555556,
             "#d8576b"
            ],
            [
             0.6666666666666666,
             "#ed7953"
            ],
            [
             0.7777777777777778,
             "#fb9f3a"
            ],
            [
             0.8888888888888888,
             "#fdca26"
            ],
            [
             1,
             "#f0f921"
            ]
           ]
          },
          "colorway": [
           "#636efa",
           "#EF553B",
           "#00cc96",
           "#ab63fa",
           "#FFA15A",
           "#19d3f3",
           "#FF6692",
           "#B6E880",
           "#FF97FF",
           "#FECB52"
          ],
          "font": {
           "color": "#f2f5fa"
          },
          "geo": {
           "bgcolor": "rgb(17,17,17)",
           "lakecolor": "rgb(17,17,17)",
           "landcolor": "rgb(17,17,17)",
           "showlakes": true,
           "showland": true,
           "subunitcolor": "#506784"
          },
          "hoverlabel": {
           "align": "left"
          },
          "hovermode": "closest",
          "mapbox": {
           "style": "dark"
          },
          "paper_bgcolor": "rgb(17,17,17)",
          "plot_bgcolor": "rgb(17,17,17)",
          "polar": {
           "angularaxis": {
            "gridcolor": "#506784",
            "linecolor": "#506784",
            "ticks": ""
           },
           "bgcolor": "rgb(17,17,17)",
           "radialaxis": {
            "gridcolor": "#506784",
            "linecolor": "#506784",
            "ticks": ""
           }
          },
          "scene": {
           "xaxis": {
            "backgroundcolor": "rgb(17,17,17)",
            "gridcolor": "#506784",
            "gridwidth": 2,
            "linecolor": "#506784",
            "showbackground": true,
            "ticks": "",
            "zerolinecolor": "#C8D4E3"
           },
           "yaxis": {
            "backgroundcolor": "rgb(17,17,17)",
            "gridcolor": "#506784",
            "gridwidth": 2,
            "linecolor": "#506784",
            "showbackground": true,
            "ticks": "",
            "zerolinecolor": "#C8D4E3"
           },
           "zaxis": {
            "backgroundcolor": "rgb(17,17,17)",
            "gridcolor": "#506784",
            "gridwidth": 2,
            "linecolor": "#506784",
            "showbackground": true,
            "ticks": "",
            "zerolinecolor": "#C8D4E3"
           }
          },
          "shapedefaults": {
           "line": {
            "color": "#f2f5fa"
           }
          },
          "sliderdefaults": {
           "bgcolor": "#C8D4E3",
           "bordercolor": "rgb(17,17,17)",
           "borderwidth": 1,
           "tickwidth": 0
          },
          "ternary": {
           "aaxis": {
            "gridcolor": "#506784",
            "linecolor": "#506784",
            "ticks": ""
           },
           "baxis": {
            "gridcolor": "#506784",
            "linecolor": "#506784",
            "ticks": ""
           },
           "bgcolor": "rgb(17,17,17)",
           "caxis": {
            "gridcolor": "#506784",
            "linecolor": "#506784",
            "ticks": ""
           }
          },
          "title": {
           "x": 0.05
          },
          "updatemenudefaults": {
           "bgcolor": "#506784",
           "borderwidth": 0
          },
          "xaxis": {
           "automargin": true,
           "gridcolor": "#283442",
           "linecolor": "#506784",
           "ticks": "",
           "title": {
            "standoff": 15
           },
           "zerolinecolor": "#283442",
           "zerolinewidth": 2
          },
          "yaxis": {
           "automargin": true,
           "gridcolor": "#283442",
           "linecolor": "#506784",
           "ticks": "",
           "title": {
            "standoff": 15
           },
           "zerolinecolor": "#283442",
           "zerolinewidth": 2
          }
         }
        },
        "title": {
         "text": "Survival by class"
        },
        "width": 800
       }
      }
     },
     "metadata": {},
     "output_type": "display_data"
    }
   ],
   "source": [
    "px.treemap(df, path=['pclass','survived'], values='age',\n",
    "           title='Survival by class', width=800, height=500,\n",
    "           template='plotly_dark', color='age', color_continuous_scale='RdBu',)"
   ]
  },
  {
   "cell_type": "code",
   "execution_count": 28,
   "metadata": {},
   "outputs": [
    {
     "data": {
      "application/vnd.plotly.v1+json": {
       "config": {
        "plotlyServerURL": "https://plot.ly"
       },
       "data": [
        {
         "domain": {
          "x": [
           0,
           1
          ],
          "y": [
           0,
           1
          ]
         },
         "hovertemplate": "label=%{label}<br>value=%{value}<extra></extra>",
         "labels": {
          "bdata": "AAE=",
          "dtype": "i1"
         },
         "legendgroup": "",
         "name": "",
         "showlegend": true,
         "type": "pie",
         "values": {
          "bdata": "JQJWAQ==",
          "dtype": "i2"
         }
        }
       ],
       "layout": {
        "height": 500,
        "legend": {
         "tracegroupgap": 0
        },
        "template": {
         "data": {
          "bar": [
           {
            "error_x": {
             "color": "#f2f5fa"
            },
            "error_y": {
             "color": "#f2f5fa"
            },
            "marker": {
             "line": {
              "color": "rgb(17,17,17)",
              "width": 0.5
             },
             "pattern": {
              "fillmode": "overlay",
              "size": 10,
              "solidity": 0.2
             }
            },
            "type": "bar"
           }
          ],
          "barpolar": [
           {
            "marker": {
             "line": {
              "color": "rgb(17,17,17)",
              "width": 0.5
             },
             "pattern": {
              "fillmode": "overlay",
              "size": 10,
              "solidity": 0.2
             }
            },
            "type": "barpolar"
           }
          ],
          "carpet": [
           {
            "aaxis": {
             "endlinecolor": "#A2B1C6",
             "gridcolor": "#506784",
             "linecolor": "#506784",
             "minorgridcolor": "#506784",
             "startlinecolor": "#A2B1C6"
            },
            "baxis": {
             "endlinecolor": "#A2B1C6",
             "gridcolor": "#506784",
             "linecolor": "#506784",
             "minorgridcolor": "#506784",
             "startlinecolor": "#A2B1C6"
            },
            "type": "carpet"
           }
          ],
          "choropleth": [
           {
            "colorbar": {
             "outlinewidth": 0,
             "ticks": ""
            },
            "type": "choropleth"
           }
          ],
          "contour": [
           {
            "colorbar": {
             "outlinewidth": 0,
             "ticks": ""
            },
            "colorscale": [
             [
              0,
              "#0d0887"
             ],
             [
              0.1111111111111111,
              "#46039f"
             ],
             [
              0.2222222222222222,
              "#7201a8"
             ],
             [
              0.3333333333333333,
              "#9c179e"
             ],
             [
              0.4444444444444444,
              "#bd3786"
             ],
             [
              0.5555555555555556,
              "#d8576b"
             ],
             [
              0.6666666666666666,
              "#ed7953"
             ],
             [
              0.7777777777777778,
              "#fb9f3a"
             ],
             [
              0.8888888888888888,
              "#fdca26"
             ],
             [
              1,
              "#f0f921"
             ]
            ],
            "type": "contour"
           }
          ],
          "contourcarpet": [
           {
            "colorbar": {
             "outlinewidth": 0,
             "ticks": ""
            },
            "type": "contourcarpet"
           }
          ],
          "heatmap": [
           {
            "colorbar": {
             "outlinewidth": 0,
             "ticks": ""
            },
            "colorscale": [
             [
              0,
              "#0d0887"
             ],
             [
              0.1111111111111111,
              "#46039f"
             ],
             [
              0.2222222222222222,
              "#7201a8"
             ],
             [
              0.3333333333333333,
              "#9c179e"
             ],
             [
              0.4444444444444444,
              "#bd3786"
             ],
             [
              0.5555555555555556,
              "#d8576b"
             ],
             [
              0.6666666666666666,
              "#ed7953"
             ],
             [
              0.7777777777777778,
              "#fb9f3a"
             ],
             [
              0.8888888888888888,
              "#fdca26"
             ],
             [
              1,
              "#f0f921"
             ]
            ],
            "type": "heatmap"
           }
          ],
          "histogram": [
           {
            "marker": {
             "pattern": {
              "fillmode": "overlay",
              "size": 10,
              "solidity": 0.2
             }
            },
            "type": "histogram"
           }
          ],
          "histogram2d": [
           {
            "colorbar": {
             "outlinewidth": 0,
             "ticks": ""
            },
            "colorscale": [
             [
              0,
              "#0d0887"
             ],
             [
              0.1111111111111111,
              "#46039f"
             ],
             [
              0.2222222222222222,
              "#7201a8"
             ],
             [
              0.3333333333333333,
              "#9c179e"
             ],
             [
              0.4444444444444444,
              "#bd3786"
             ],
             [
              0.5555555555555556,
              "#d8576b"
             ],
             [
              0.6666666666666666,
              "#ed7953"
             ],
             [
              0.7777777777777778,
              "#fb9f3a"
             ],
             [
              0.8888888888888888,
              "#fdca26"
             ],
             [
              1,
              "#f0f921"
             ]
            ],
            "type": "histogram2d"
           }
          ],
          "histogram2dcontour": [
           {
            "colorbar": {
             "outlinewidth": 0,
             "ticks": ""
            },
            "colorscale": [
             [
              0,
              "#0d0887"
             ],
             [
              0.1111111111111111,
              "#46039f"
             ],
             [
              0.2222222222222222,
              "#7201a8"
             ],
             [
              0.3333333333333333,
              "#9c179e"
             ],
             [
              0.4444444444444444,
              "#bd3786"
             ],
             [
              0.5555555555555556,
              "#d8576b"
             ],
             [
              0.6666666666666666,
              "#ed7953"
             ],
             [
              0.7777777777777778,
              "#fb9f3a"
             ],
             [
              0.8888888888888888,
              "#fdca26"
             ],
             [
              1,
              "#f0f921"
             ]
            ],
            "type": "histogram2dcontour"
           }
          ],
          "mesh3d": [
           {
            "colorbar": {
             "outlinewidth": 0,
             "ticks": ""
            },
            "type": "mesh3d"
           }
          ],
          "parcoords": [
           {
            "line": {
             "colorbar": {
              "outlinewidth": 0,
              "ticks": ""
             }
            },
            "type": "parcoords"
           }
          ],
          "pie": [
           {
            "automargin": true,
            "type": "pie"
           }
          ],
          "scatter": [
           {
            "marker": {
             "line": {
              "color": "#283442"
             }
            },
            "type": "scatter"
           }
          ],
          "scatter3d": [
           {
            "line": {
             "colorbar": {
              "outlinewidth": 0,
              "ticks": ""
             }
            },
            "marker": {
             "colorbar": {
              "outlinewidth": 0,
              "ticks": ""
             }
            },
            "type": "scatter3d"
           }
          ],
          "scattercarpet": [
           {
            "marker": {
             "colorbar": {
              "outlinewidth": 0,
              "ticks": ""
             }
            },
            "type": "scattercarpet"
           }
          ],
          "scattergeo": [
           {
            "marker": {
             "colorbar": {
              "outlinewidth": 0,
              "ticks": ""
             }
            },
            "type": "scattergeo"
           }
          ],
          "scattergl": [
           {
            "marker": {
             "line": {
              "color": "#283442"
             }
            },
            "type": "scattergl"
           }
          ],
          "scattermap": [
           {
            "marker": {
             "colorbar": {
              "outlinewidth": 0,
              "ticks": ""
             }
            },
            "type": "scattermap"
           }
          ],
          "scattermapbox": [
           {
            "marker": {
             "colorbar": {
              "outlinewidth": 0,
              "ticks": ""
             }
            },
            "type": "scattermapbox"
           }
          ],
          "scatterpolar": [
           {
            "marker": {
             "colorbar": {
              "outlinewidth": 0,
              "ticks": ""
             }
            },
            "type": "scatterpolar"
           }
          ],
          "scatterpolargl": [
           {
            "marker": {
             "colorbar": {
              "outlinewidth": 0,
              "ticks": ""
             }
            },
            "type": "scatterpolargl"
           }
          ],
          "scatterternary": [
           {
            "marker": {
             "colorbar": {
              "outlinewidth": 0,
              "ticks": ""
             }
            },
            "type": "scatterternary"
           }
          ],
          "surface": [
           {
            "colorbar": {
             "outlinewidth": 0,
             "ticks": ""
            },
            "colorscale": [
             [
              0,
              "#0d0887"
             ],
             [
              0.1111111111111111,
              "#46039f"
             ],
             [
              0.2222222222222222,
              "#7201a8"
             ],
             [
              0.3333333333333333,
              "#9c179e"
             ],
             [
              0.4444444444444444,
              "#bd3786"
             ],
             [
              0.5555555555555556,
              "#d8576b"
             ],
             [
              0.6666666666666666,
              "#ed7953"
             ],
             [
              0.7777777777777778,
              "#fb9f3a"
             ],
             [
              0.8888888888888888,
              "#fdca26"
             ],
             [
              1,
              "#f0f921"
             ]
            ],
            "type": "surface"
           }
          ],
          "table": [
           {
            "cells": {
             "fill": {
              "color": "#506784"
             },
             "line": {
              "color": "rgb(17,17,17)"
             }
            },
            "header": {
             "fill": {
              "color": "#2a3f5f"
             },
             "line": {
              "color": "rgb(17,17,17)"
             }
            },
            "type": "table"
           }
          ]
         },
         "layout": {
          "annotationdefaults": {
           "arrowcolor": "#f2f5fa",
           "arrowhead": 0,
           "arrowwidth": 1
          },
          "autotypenumbers": "strict",
          "coloraxis": {
           "colorbar": {
            "outlinewidth": 0,
            "ticks": ""
           }
          },
          "colorscale": {
           "diverging": [
            [
             0,
             "#8e0152"
            ],
            [
             0.1,
             "#c51b7d"
            ],
            [
             0.2,
             "#de77ae"
            ],
            [
             0.3,
             "#f1b6da"
            ],
            [
             0.4,
             "#fde0ef"
            ],
            [
             0.5,
             "#f7f7f7"
            ],
            [
             0.6,
             "#e6f5d0"
            ],
            [
             0.7,
             "#b8e186"
            ],
            [
             0.8,
             "#7fbc41"
            ],
            [
             0.9,
             "#4d9221"
            ],
            [
             1,
             "#276419"
            ]
           ],
           "sequential": [
            [
             0,
             "#0d0887"
            ],
            [
             0.1111111111111111,
             "#46039f"
            ],
            [
             0.2222222222222222,
             "#7201a8"
            ],
            [
             0.3333333333333333,
             "#9c179e"
            ],
            [
             0.4444444444444444,
             "#bd3786"
            ],
            [
             0.5555555555555556,
             "#d8576b"
            ],
            [
             0.6666666666666666,
             "#ed7953"
            ],
            [
             0.7777777777777778,
             "#fb9f3a"
            ],
            [
             0.8888888888888888,
             "#fdca26"
            ],
            [
             1,
             "#f0f921"
            ]
           ],
           "sequentialminus": [
            [
             0,
             "#0d0887"
            ],
            [
             0.1111111111111111,
             "#46039f"
            ],
            [
             0.2222222222222222,
             "#7201a8"
            ],
            [
             0.3333333333333333,
             "#9c179e"
            ],
            [
             0.4444444444444444,
             "#bd3786"
            ],
            [
             0.5555555555555556,
             "#d8576b"
            ],
            [
             0.6666666666666666,
             "#ed7953"
            ],
            [
             0.7777777777777778,
             "#fb9f3a"
            ],
            [
             0.8888888888888888,
             "#fdca26"
            ],
            [
             1,
             "#f0f921"
            ]
           ]
          },
          "colorway": [
           "#636efa",
           "#EF553B",
           "#00cc96",
           "#ab63fa",
           "#FFA15A",
           "#19d3f3",
           "#FF6692",
           "#B6E880",
           "#FF97FF",
           "#FECB52"
          ],
          "font": {
           "color": "#f2f5fa"
          },
          "geo": {
           "bgcolor": "rgb(17,17,17)",
           "lakecolor": "rgb(17,17,17)",
           "landcolor": "rgb(17,17,17)",
           "showlakes": true,
           "showland": true,
           "subunitcolor": "#506784"
          },
          "hoverlabel": {
           "align": "left"
          },
          "hovermode": "closest",
          "mapbox": {
           "style": "dark"
          },
          "paper_bgcolor": "rgb(17,17,17)",
          "plot_bgcolor": "rgb(17,17,17)",
          "polar": {
           "angularaxis": {
            "gridcolor": "#506784",
            "linecolor": "#506784",
            "ticks": ""
           },
           "bgcolor": "rgb(17,17,17)",
           "radialaxis": {
            "gridcolor": "#506784",
            "linecolor": "#506784",
            "ticks": ""
           }
          },
          "scene": {
           "xaxis": {
            "backgroundcolor": "rgb(17,17,17)",
            "gridcolor": "#506784",
            "gridwidth": 2,
            "linecolor": "#506784",
            "showbackground": true,
            "ticks": "",
            "zerolinecolor": "#C8D4E3"
           },
           "yaxis": {
            "backgroundcolor": "rgb(17,17,17)",
            "gridcolor": "#506784",
            "gridwidth": 2,
            "linecolor": "#506784",
            "showbackground": true,
            "ticks": "",
            "zerolinecolor": "#C8D4E3"
           },
           "zaxis": {
            "backgroundcolor": "rgb(17,17,17)",
            "gridcolor": "#506784",
            "gridwidth": 2,
            "linecolor": "#506784",
            "showbackground": true,
            "ticks": "",
            "zerolinecolor": "#C8D4E3"
           }
          },
          "shapedefaults": {
           "line": {
            "color": "#f2f5fa"
           }
          },
          "sliderdefaults": {
           "bgcolor": "#C8D4E3",
           "bordercolor": "rgb(17,17,17)",
           "borderwidth": 1,
           "tickwidth": 0
          },
          "ternary": {
           "aaxis": {
            "gridcolor": "#506784",
            "linecolor": "#506784",
            "ticks": ""
           },
           "baxis": {
            "gridcolor": "#506784",
            "linecolor": "#506784",
            "ticks": ""
           },
           "bgcolor": "rgb(17,17,17)",
           "caxis": {
            "gridcolor": "#506784",
            "linecolor": "#506784",
            "ticks": ""
           }
          },
          "title": {
           "x": 0.05
          },
          "updatemenudefaults": {
           "bgcolor": "#506784",
           "borderwidth": 0
          },
          "xaxis": {
           "automargin": true,
           "gridcolor": "#283442",
           "linecolor": "#506784",
           "ticks": "",
           "title": {
            "standoff": 15
           },
           "zerolinecolor": "#283442",
           "zerolinewidth": 2
          },
          "yaxis": {
           "automargin": true,
           "gridcolor": "#283442",
           "linecolor": "#506784",
           "ticks": "",
           "title": {
            "standoff": 15
           },
           "zerolinecolor": "#283442",
           "zerolinewidth": 2
          }
         }
        },
        "title": {
         "text": "Survival Rate"
        },
        "width": 500
       }
      }
     },
     "metadata": {},
     "output_type": "display_data"
    }
   ],
   "source": [
    "survived_counts = df['survived'].value_counts()\n",
    "px.pie(names=survived_counts.index, values=survived_counts.values,\n",
    "       title='Survival Rate', template='plotly_dark',\n",
    "       width=500, height=500)"
   ]
  },
  {
   "cell_type": "code",
   "execution_count": 32,
   "metadata": {},
   "outputs": [
    {
     "data": {
      "application/vnd.plotly.v1+json": {
       "config": {
        "plotlyServerURL": "https://plot.ly"
       },
       "data": [
        {
         "alignmentgroup": "True",
         "hovertemplate": "pclass=%{x}<br>fare=%{y}<extra></extra>",
         "legendgroup": "3",
         "marker": {
          "color": "#636efa"
         },
         "name": "3",
         "notched": false,
         "offsetgroup": "3",
         "orientation": "v",
         "showlegend": true,
         "type": "box",
         "x": {
          "bdata": "AwMDAwMDAwMDAwMDAwMDAwMDAwMDAwMDAwMDAwMDAwMDAwMDAwMDAwMDAwMDAwMDAwMDAwMDAwMDAwMDAwMDAwMDAwMDAwMDAwMDAwMDAwMDAwMDAwMDAwMDAwMDAwMDAwMDAwMDAwMDAwMDAwMDAwMDAwMDAwMDAwMDAwMDAwMDAwMDAwMDAwMDAwMDAwMDAwMDAwMDAwMDAwMDAwMDAwMDAwMDAwMDAwMDAwMDAwMDAwMDAwMDAwMDAwMDAwMDAwMDAwMDAwMDAwMDAwMDAwMDAwMDAwMDAwMDAwMDAwMDAwMDAwMDAwMDAwMDAwMDAwMDAwMDAwMDAwMDAwMDAwMDAwMDAwMDAwMDAwMDAwMDAwMDAwMDAwMDAwMDAwMDAwMDAwMDAwMDAwMDAwMDAwMDAwMDAwMDAwMDAwMDAwMDAwMDAwMDAwMDAwMDAwMDAwMDAwMDAwMDAwMDAwMDAwMDAwMDAwMDAwMDAwMDAwMDAwMDAwMDAwMDAwMDAwMDAwMDAwMDAwMDAwMDAwMDAwMDAwMDAwMDAwMDAwMDAwMDAwMDAwMDAwMDAwMDAwMDAwMDAwMDAwMDAwMDAwMDAwMDAwMDAwMDAwMDAwMDAwMDAwMDAwMDAwMDAwMDAwMDAwMDAwMDAwMDAwM=",
          "dtype": "i1"
         },
         "x0": " ",
         "xaxis": "x",
         "y": {
          "bdata": "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",
          "dtype": "f8"
         },
         "y0": " ",
         "yaxis": "y"
        },
        {
         "alignmentgroup": "True",
         "hovertemplate": "pclass=%{x}<br>fare=%{y}<extra></extra>",
         "legendgroup": "1",
         "marker": {
          "color": "#EF553B"
         },
         "name": "1",
         "notched": false,
         "offsetgroup": "1",
         "orientation": "v",
         "showlegend": true,
         "type": "box",
         "x": {
          "bdata": "AQEBAQEBAQEBAQEBAQEBAQEBAQEBAQEBAQEBAQEBAQEBAQEBAQEBAQEBAQEBAQEBAQEBAQEBAQEBAQEBAQEBAQEBAQEBAQEBAQEBAQEBAQEBAQEBAQEBAQEBAQEBAQEBAQEBAQEBAQEBAQEBAQEBAQEBAQEBAQEBAQEBAQEBAQEBAQEBAQEBAQEBAQEBAQEBAQEBAQEBAQEBAQEBAQEBAQEBAQEBAQEBAQEBAQEBAQEBAQEBAQEBAQEBAQEBAQEBAQEBAQEBAQEBAQEBAQEBAQEBAQEBAQEB",
          "dtype": "i1"
         },
         "x0": " ",
         "xaxis": "x",
         "y": {
          "bdata": "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",
          "dtype": "f8"
         },
         "y0": " ",
         "yaxis": "y"
        },
        {
         "alignmentgroup": "True",
         "hovertemplate": "pclass=%{x}<br>fare=%{y}<extra></extra>",
         "legendgroup": "2",
         "marker": {
          "color": "#00cc96"
         },
         "name": "2",
         "notched": false,
         "offsetgroup": "2",
         "orientation": "v",
         "showlegend": true,
         "type": "box",
         "x": {
          "bdata": "AgICAgICAgICAgICAgICAgICAgICAgICAgICAgICAgICAgICAgICAgICAgICAgICAgICAgICAgICAgICAgICAgICAgICAgICAgICAgICAgICAgICAgICAgICAgICAgICAgICAgICAgICAgICAgICAgICAgICAgICAgICAgICAgICAgICAgICAgICAgICAgICAgICAgICAgICAgICAgICAgICAgICAgICAgICAgICAgICAgICAgICAg==",
          "dtype": "i1"
         },
         "x0": " ",
         "xaxis": "x",
         "y": {
          "bdata": "io7k8h8SPkAAAAAAAAAwQAAAAAAAACpAAAAAAAAAOkAAAAAAAAAqQAAAAAAAACVAAAAAAAAANUDu68A5I8pEQAAAAAAAADpAAAAAAAAAJUAAAAAAAMA7QAAAAAAAACVAAAAAAAAAJUAAAAAAAGBSQAAAAAAAAD1AAAAAAAAAJUAAAAAAAAA3QAAAAAAAADpAAAAAAAAANUAAAAAAAGBSQIqO5PIfEj5AAAAAAAAAKkAAAAAAAAA6QAAAAAAAACpASFD8GHMXLkAAAAAAAAAnQAAAAAAAYEJAAAAAAAAAOkAAAAAAAAAqQM3MzMzMDClAAAAAAACAL0AAAAAAAAAqQJqZmZmZGS5AAAAAAACAQ0AAAAAAAAAqQAAAAAAAACpAAAAAAAAAOkAAAAAAAAAqQAAAAAAAADVAAAAAAAAAKkAAAAAAAAA7QAAAAAAAACVAAAAAAAAAKkAAAAAAAAAlQAAAAAAAACpAAAAAAAAAK0AAAAAAAAAlQAAAAAAAADpAAAAAAABAOkAAAAAAAAAlQM3MzMzMjChAAAAAAAAAJUAAAAAAAAAtQAAAAAAAADpAAAAAAAAAOkAAAAAAAAAlQAAAAAAAgDNAAAAAAAAAAAAAAAAAAAAqQAAAAAAAwClAMzMzMzOzKEAAAAAAAAA4QAAAAAAAADpAAAAAAABAOkAAAAAAAAA6QAAAAAAAACxAMzMzMzOzKEAAAAAAAAA9QAAAAAAAACpAAAAAAAAAOkAAAAAAAAAqQAAAAAAAACpAAAAAAAAAKkAAAAAAAAAqQAAAAAAAACpAAAAAAAAAKkDx9EpZhrg7QAAAAAAAYFJAAAAAAAAAKkAAAAAAAAAoQAAAAAAAADpAAAAAAAAAJUDNzMzMzEwpQAAAAAAAADVAAAAAAADAMkAAAAAAAAAAAAAAAAAAQEBAAAAAAAAAKkAAAAAAAAAqQAAAAAAAADpAAAAAAAAAOkAAAAAAAAA6QAAAAAAAwDJAAAAAAAAAJUAAAAAAAEA6QAAAAAAAACpAAAAAAACAM0AAAAAAAMA7QAAAAAAAACVAAAAAAAAAKkAAAAAAAAAAAAAAAAAAwDtAhXzQs1mVK0AAAAAAAAA1QAAAAAAAAAAAAAAAAAAAOkAAAAAAAAAlQAAAAAAAADpAAAAAAAAAJUAAAAAAAAAnQAAAAAAAADpAAAAAAABAOkAAAAAAAAA6QAAAAAAAADpAmpmZmZm5K0AAAAAAAGBCQAAAAAAAADpAAAAAAAAAK0AAAAAAAAAlQAAAAAAAACpAAAAAAAAAPkAAAAAAAAA6QAAAAAAAAC5AAAAAAAAAOkAAAAAAAIBAQAAAAAAAADtA7uvAOSPKREAAAAAAAEBQQAAAAAAAgENAAAAAAAAAJUAzMzMzM7MoQAAAAAAAACpAAAAAAABAOkAAAAAAAAA3QAAAAAAAYFJAAAAAAAAAKkAAAAAAAGBSQAAAAAAAACpAAAAAAACAQ0AAAAAAAAAlQAAAAAAAACpAAAAAAAAAAAAAAAAAAIBDQO7rwDkjykRAAAAAAAAAK0AAAAAAAAA6QAAAAAAAACtAAAAAAAAAKkAAAAAAAAAlQAAAAAAAgEBAAAAAAAAAKkAAAAAAAAAqQAAAAAAAADVAAAAAAAAAOkAAAAAAAAAAAAAAAAAAACpAAAAAAAAAKkAAAAAAAAAqQAAAAAAAADdAAAAAAABAUEAAAAAAAAAtQAAAAAAAACdAAAAAAAAAJUAAAAAAAAA3QAAAAAAAADpAAAAAAAAAKkAAAAAAAAAqQAAAAAAAQDpAAAAAAAAAKkAAAAAAAAAlQFRSJ6CJgEJAVFInoImAQkAAAAAAAMAyQAAAAAAAACVAAAAAAACAQEAAAAAAAAA6QAAAAAAAACdAAAAAAAAAKkAAAAAAAAAqQEhQ/BhztytAAAAAAAAAOEAAAAAAAAA6QAAAAAAAACVAAAAAAAAAKkA=",
          "dtype": "f8"
         },
         "y0": " ",
         "yaxis": "y"
        }
       ],
       "layout": {
        "boxmode": "overlay",
        "legend": {
         "title": {
          "text": "pclass"
         },
         "tracegroupgap": 0
        },
        "template": {
         "data": {
          "bar": [
           {
            "error_x": {
             "color": "#f2f5fa"
            },
            "error_y": {
             "color": "#f2f5fa"
            },
            "marker": {
             "line": {
              "color": "rgb(17,17,17)",
              "width": 0.5
             },
             "pattern": {
              "fillmode": "overlay",
              "size": 10,
              "solidity": 0.2
             }
            },
            "type": "bar"
           }
          ],
          "barpolar": [
           {
            "marker": {
             "line": {
              "color": "rgb(17,17,17)",
              "width": 0.5
             },
             "pattern": {
              "fillmode": "overlay",
              "size": 10,
              "solidity": 0.2
             }
            },
            "type": "barpolar"
           }
          ],
          "carpet": [
           {
            "aaxis": {
             "endlinecolor": "#A2B1C6",
             "gridcolor": "#506784",
             "linecolor": "#506784",
             "minorgridcolor": "#506784",
             "startlinecolor": "#A2B1C6"
            },
            "baxis": {
             "endlinecolor": "#A2B1C6",
             "gridcolor": "#506784",
             "linecolor": "#506784",
             "minorgridcolor": "#506784",
             "startlinecolor": "#A2B1C6"
            },
            "type": "carpet"
           }
          ],
          "choropleth": [
           {
            "colorbar": {
             "outlinewidth": 0,
             "ticks": ""
            },
            "type": "choropleth"
           }
          ],
          "contour": [
           {
            "colorbar": {
             "outlinewidth": 0,
             "ticks": ""
            },
            "colorscale": [
             [
              0,
              "#0d0887"
             ],
             [
              0.1111111111111111,
              "#46039f"
             ],
             [
              0.2222222222222222,
              "#7201a8"
             ],
             [
              0.3333333333333333,
              "#9c179e"
             ],
             [
              0.4444444444444444,
              "#bd3786"
             ],
             [
              0.5555555555555556,
              "#d8576b"
             ],
             [
              0.6666666666666666,
              "#ed7953"
             ],
             [
              0.7777777777777778,
              "#fb9f3a"
             ],
             [
              0.8888888888888888,
              "#fdca26"
             ],
             [
              1,
              "#f0f921"
             ]
            ],
            "type": "contour"
           }
          ],
          "contourcarpet": [
           {
            "colorbar": {
             "outlinewidth": 0,
             "ticks": ""
            },
            "type": "contourcarpet"
           }
          ],
          "heatmap": [
           {
            "colorbar": {
             "outlinewidth": 0,
             "ticks": ""
            },
            "colorscale": [
             [
              0,
              "#0d0887"
             ],
             [
              0.1111111111111111,
              "#46039f"
             ],
             [
              0.2222222222222222,
              "#7201a8"
             ],
             [
              0.3333333333333333,
              "#9c179e"
             ],
             [
              0.4444444444444444,
              "#bd3786"
             ],
             [
              0.5555555555555556,
              "#d8576b"
             ],
             [
              0.6666666666666666,
              "#ed7953"
             ],
             [
              0.7777777777777778,
              "#fb9f3a"
             ],
             [
              0.8888888888888888,
              "#fdca26"
             ],
             [
              1,
              "#f0f921"
             ]
            ],
            "type": "heatmap"
           }
          ],
          "histogram": [
           {
            "marker": {
             "pattern": {
              "fillmode": "overlay",
              "size": 10,
              "solidity": 0.2
             }
            },
            "type": "histogram"
           }
          ],
          "histogram2d": [
           {
            "colorbar": {
             "outlinewidth": 0,
             "ticks": ""
            },
            "colorscale": [
             [
              0,
              "#0d0887"
             ],
             [
              0.1111111111111111,
              "#46039f"
             ],
             [
              0.2222222222222222,
              "#7201a8"
             ],
             [
              0.3333333333333333,
              "#9c179e"
             ],
             [
              0.4444444444444444,
              "#bd3786"
             ],
             [
              0.5555555555555556,
              "#d8576b"
             ],
             [
              0.6666666666666666,
              "#ed7953"
             ],
             [
              0.7777777777777778,
              "#fb9f3a"
             ],
             [
              0.8888888888888888,
              "#fdca26"
             ],
             [
              1,
              "#f0f921"
             ]
            ],
            "type": "histogram2d"
           }
          ],
          "histogram2dcontour": [
           {
            "colorbar": {
             "outlinewidth": 0,
             "ticks": ""
            },
            "colorscale": [
             [
              0,
              "#0d0887"
             ],
             [
              0.1111111111111111,
              "#46039f"
             ],
             [
              0.2222222222222222,
              "#7201a8"
             ],
             [
              0.3333333333333333,
              "#9c179e"
             ],
             [
              0.4444444444444444,
              "#bd3786"
             ],
             [
              0.5555555555555556,
              "#d8576b"
             ],
             [
              0.6666666666666666,
              "#ed7953"
             ],
             [
              0.7777777777777778,
              "#fb9f3a"
             ],
             [
              0.8888888888888888,
              "#fdca26"
             ],
             [
              1,
              "#f0f921"
             ]
            ],
            "type": "histogram2dcontour"
           }
          ],
          "mesh3d": [
           {
            "colorbar": {
             "outlinewidth": 0,
             "ticks": ""
            },
            "type": "mesh3d"
           }
          ],
          "parcoords": [
           {
            "line": {
             "colorbar": {
              "outlinewidth": 0,
              "ticks": ""
             }
            },
            "type": "parcoords"
           }
          ],
          "pie": [
           {
            "automargin": true,
            "type": "pie"
           }
          ],
          "scatter": [
           {
            "marker": {
             "line": {
              "color": "#283442"
             }
            },
            "type": "scatter"
           }
          ],
          "scatter3d": [
           {
            "line": {
             "colorbar": {
              "outlinewidth": 0,
              "ticks": ""
             }
            },
            "marker": {
             "colorbar": {
              "outlinewidth": 0,
              "ticks": ""
             }
            },
            "type": "scatter3d"
           }
          ],
          "scattercarpet": [
           {
            "marker": {
             "colorbar": {
              "outlinewidth": 0,
              "ticks": ""
             }
            },
            "type": "scattercarpet"
           }
          ],
          "scattergeo": [
           {
            "marker": {
             "colorbar": {
              "outlinewidth": 0,
              "ticks": ""
             }
            },
            "type": "scattergeo"
           }
          ],
          "scattergl": [
           {
            "marker": {
             "line": {
              "color": "#283442"
             }
            },
            "type": "scattergl"
           }
          ],
          "scattermap": [
           {
            "marker": {
             "colorbar": {
              "outlinewidth": 0,
              "ticks": ""
             }
            },
            "type": "scattermap"
           }
          ],
          "scattermapbox": [
           {
            "marker": {
             "colorbar": {
              "outlinewidth": 0,
              "ticks": ""
             }
            },
            "type": "scattermapbox"
           }
          ],
          "scatterpolar": [
           {
            "marker": {
             "colorbar": {
              "outlinewidth": 0,
              "ticks": ""
             }
            },
            "type": "scatterpolar"
           }
          ],
          "scatterpolargl": [
           {
            "marker": {
             "colorbar": {
              "outlinewidth": 0,
              "ticks": ""
             }
            },
            "type": "scatterpolargl"
           }
          ],
          "scatterternary": [
           {
            "marker": {
             "colorbar": {
              "outlinewidth": 0,
              "ticks": ""
             }
            },
            "type": "scatterternary"
           }
          ],
          "surface": [
           {
            "colorbar": {
             "outlinewidth": 0,
             "ticks": ""
            },
            "colorscale": [
             [
              0,
              "#0d0887"
             ],
             [
              0.1111111111111111,
              "#46039f"
             ],
             [
              0.2222222222222222,
              "#7201a8"
             ],
             [
              0.3333333333333333,
              "#9c179e"
             ],
             [
              0.4444444444444444,
              "#bd3786"
             ],
             [
              0.5555555555555556,
              "#d8576b"
             ],
             [
              0.6666666666666666,
              "#ed7953"
             ],
             [
              0.7777777777777778,
              "#fb9f3a"
             ],
             [
              0.8888888888888888,
              "#fdca26"
             ],
             [
              1,
              "#f0f921"
             ]
            ],
            "type": "surface"
           }
          ],
          "table": [
           {
            "cells": {
             "fill": {
              "color": "#506784"
             },
             "line": {
              "color": "rgb(17,17,17)"
             }
            },
            "header": {
             "fill": {
              "color": "#2a3f5f"
             },
             "line": {
              "color": "rgb(17,17,17)"
             }
            },
            "type": "table"
           }
          ]
         },
         "layout": {
          "annotationdefaults": {
           "arrowcolor": "#f2f5fa",
           "arrowhead": 0,
           "arrowwidth": 1
          },
          "autotypenumbers": "strict",
          "coloraxis": {
           "colorbar": {
            "outlinewidth": 0,
            "ticks": ""
           }
          },
          "colorscale": {
           "diverging": [
            [
             0,
             "#8e0152"
            ],
            [
             0.1,
             "#c51b7d"
            ],
            [
             0.2,
             "#de77ae"
            ],
            [
             0.3,
             "#f1b6da"
            ],
            [
             0.4,
             "#fde0ef"
            ],
            [
             0.5,
             "#f7f7f7"
            ],
            [
             0.6,
             "#e6f5d0"
            ],
            [
             0.7,
             "#b8e186"
            ],
            [
             0.8,
             "#7fbc41"
            ],
            [
             0.9,
             "#4d9221"
            ],
            [
             1,
             "#276419"
            ]
           ],
           "sequential": [
            [
             0,
             "#0d0887"
            ],
            [
             0.1111111111111111,
             "#46039f"
            ],
            [
             0.2222222222222222,
             "#7201a8"
            ],
            [
             0.3333333333333333,
             "#9c179e"
            ],
            [
             0.4444444444444444,
             "#bd3786"
            ],
            [
             0.5555555555555556,
             "#d8576b"
            ],
            [
             0.6666666666666666,
             "#ed7953"
            ],
            [
             0.7777777777777778,
             "#fb9f3a"
            ],
            [
             0.8888888888888888,
             "#fdca26"
            ],
            [
             1,
             "#f0f921"
            ]
           ],
           "sequentialminus": [
            [
             0,
             "#0d0887"
            ],
            [
             0.1111111111111111,
             "#46039f"
            ],
            [
             0.2222222222222222,
             "#7201a8"
            ],
            [
             0.3333333333333333,
             "#9c179e"
            ],
            [
             0.4444444444444444,
             "#bd3786"
            ],
            [
             0.5555555555555556,
             "#d8576b"
            ],
            [
             0.6666666666666666,
             "#ed7953"
            ],
            [
             0.7777777777777778,
             "#fb9f3a"
            ],
            [
             0.8888888888888888,
             "#fdca26"
            ],
            [
             1,
             "#f0f921"
            ]
           ]
          },
          "colorway": [
           "#636efa",
           "#EF553B",
           "#00cc96",
           "#ab63fa",
           "#FFA15A",
           "#19d3f3",
           "#FF6692",
           "#B6E880",
           "#FF97FF",
           "#FECB52"
          ],
          "font": {
           "color": "#f2f5fa"
          },
          "geo": {
           "bgcolor": "rgb(17,17,17)",
           "lakecolor": "rgb(17,17,17)",
           "landcolor": "rgb(17,17,17)",
           "showlakes": true,
           "showland": true,
           "subunitcolor": "#506784"
          },
          "hoverlabel": {
           "align": "left"
          },
          "hovermode": "closest",
          "mapbox": {
           "style": "dark"
          },
          "paper_bgcolor": "rgb(17,17,17)",
          "plot_bgcolor": "rgb(17,17,17)",
          "polar": {
           "angularaxis": {
            "gridcolor": "#506784",
            "linecolor": "#506784",
            "ticks": ""
           },
           "bgcolor": "rgb(17,17,17)",
           "radialaxis": {
            "gridcolor": "#506784",
            "linecolor": "#506784",
            "ticks": ""
           }
          },
          "scene": {
           "xaxis": {
            "backgroundcolor": "rgb(17,17,17)",
            "gridcolor": "#506784",
            "gridwidth": 2,
            "linecolor": "#506784",
            "showbackground": true,
            "ticks": "",
            "zerolinecolor": "#C8D4E3"
           },
           "yaxis": {
            "backgroundcolor": "rgb(17,17,17)",
            "gridcolor": "#506784",
            "gridwidth": 2,
            "linecolor": "#506784",
            "showbackground": true,
            "ticks": "",
            "zerolinecolor": "#C8D4E3"
           },
           "zaxis": {
            "backgroundcolor": "rgb(17,17,17)",
            "gridcolor": "#506784",
            "gridwidth": 2,
            "linecolor": "#506784",
            "showbackground": true,
            "ticks": "",
            "zerolinecolor": "#C8D4E3"
           }
          },
          "shapedefaults": {
           "line": {
            "color": "#f2f5fa"
           }
          },
          "sliderdefaults": {
           "bgcolor": "#C8D4E3",
           "bordercolor": "rgb(17,17,17)",
           "borderwidth": 1,
           "tickwidth": 0
          },
          "ternary": {
           "aaxis": {
            "gridcolor": "#506784",
            "linecolor": "#506784",
            "ticks": ""
           },
           "baxis": {
            "gridcolor": "#506784",
            "linecolor": "#506784",
            "ticks": ""
           },
           "bgcolor": "rgb(17,17,17)",
           "caxis": {
            "gridcolor": "#506784",
            "linecolor": "#506784",
            "ticks": ""
           }
          },
          "title": {
           "x": 0.05
          },
          "updatemenudefaults": {
           "bgcolor": "#506784",
           "borderwidth": 0
          },
          "xaxis": {
           "automargin": true,
           "gridcolor": "#283442",
           "linecolor": "#506784",
           "ticks": "",
           "title": {
            "standoff": 15
           },
           "zerolinecolor": "#283442",
           "zerolinewidth": 2
          },
          "yaxis": {
           "automargin": true,
           "gridcolor": "#283442",
           "linecolor": "#506784",
           "ticks": "",
           "title": {
            "standoff": 15
           },
           "zerolinecolor": "#283442",
           "zerolinewidth": 2
          }
         }
        },
        "title": {
         "text": "Fare Distribution by Class"
        },
        "xaxis": {
         "anchor": "y",
         "categoryarray": [
          3,
          1,
          2
         ],
         "categoryorder": "array",
         "domain": [
          0,
          1
         ],
         "title": {
          "text": "pclass"
         }
        },
        "yaxis": {
         "anchor": "x",
         "domain": [
          0,
          1
         ],
         "title": {
          "text": "fare"
         }
        }
       }
      }
     },
     "metadata": {},
     "output_type": "display_data"
    }
   ],
   "source": [
    "px.box(df, x='pclass', y='fare', color='pclass',\n",
    "       title='Fare Distribution by Class', template='plotly_dark')"
   ]
  },
  {
   "cell_type": "code",
   "execution_count": 33,
   "metadata": {},
   "outputs": [
    {
     "data": {
      "application/vnd.plotly.v1+json": {
       "config": {
        "plotlyServerURL": "https://plot.ly"
       },
       "data": [
        {
         "hovertemplate": "embark_town=%{x}<br>survived=%{y}<extra></extra>",
         "legendgroup": "Southampton",
         "marker": {
          "color": "#636efa",
          "pattern": {
           "shape": ""
          }
         },
         "name": "Southampton",
         "orientation": "v",
         "showlegend": true,
         "textposition": "auto",
         "type": "bar",
         "x": [
          "Southampton",
          "Southampton",
          "Southampton",
          "Southampton",
          "Southampton",
          "Southampton",
          "Southampton",
          "Southampton",
          "Southampton",
          "Southampton",
          "Southampton",
          "Southampton",
          "Southampton",
          "Southampton",
          "Southampton",
          "Southampton",
          "Southampton",
          "Southampton",
          "Southampton",
          "Southampton",
          "Southampton",
          "Southampton",
          "Southampton",
          "Southampton",
          "Southampton",
          "Southampton",
          "Southampton",
          "Southampton",
          "Southampton",
          "Southampton",
          "Southampton",
          "Southampton",
          "Southampton",
          "Southampton",
          "Southampton",
          "Southampton",
          "Southampton",
          "Southampton",
          "Southampton",
          "Southampton",
          "Southampton",
          "Southampton",
          "Southampton",
          "Southampton",
          "Southampton",
          "Southampton",
          "Southampton",
          "Southampton",
          "Southampton",
          "Southampton",
          "Southampton",
          "Southampton",
          "Southampton",
          "Southampton",
          "Southampton",
          "Southampton",
          "Southampton",
          "Southampton",
          "Southampton",
          "Southampton",
          "Southampton",
          "Southampton",
          "Southampton",
          "Southampton",
          "Southampton",
          "Southampton",
          "Southampton",
          "Southampton",
          "Southampton",
          "Southampton",
          "Southampton",
          "Southampton",
          "Southampton",
          "Southampton",
          "Southampton",
          "Southampton",
          "Southampton",
          "Southampton",
          "Southampton",
          "Southampton",
          "Southampton",
          "Southampton",
          "Southampton",
          "Southampton",
          "Southampton",
          "Southampton",
          "Southampton",
          "Southampton",
          "Southampton",
          "Southampton",
          "Southampton",
          "Southampton",
          "Southampton",
          "Southampton",
          "Southampton",
          "Southampton",
          "Southampton",
          "Southampton",
          "Southampton",
          "Southampton",
          "Southampton",
          "Southampton",
          "Southampton",
          "Southampton",
          "Southampton",
          "Southampton",
          "Southampton",
          "Southampton",
          "Southampton",
          "Southampton",
          "Southampton",
          "Southampton",
          "Southampton",
          "Southampton",
          "Southampton",
          "Southampton",
          "Southampton",
          "Southampton",
          "Southampton",
          "Southampton",
          "Southampton",
          "Southampton",
          "Southampton",
          "Southampton",
          "Southampton",
          "Southampton",
          "Southampton",
          "Southampton",
          "Southampton",
          "Southampton",
          "Southampton",
          "Southampton",
          "Southampton",
          "Southampton",
          "Southampton",
          "Southampton",
          "Southampton",
          "Southampton",
          "Southampton",
          "Southampton",
          "Southampton",
          "Southampton",
          "Southampton",
          "Southampton",
          "Southampton",
          "Southampton",
          "Southampton",
          "Southampton",
          "Southampton",
          "Southampton",
          "Southampton",
          "Southampton",
          "Southampton",
          "Southampton",
          "Southampton",
          "Southampton",
          "Southampton",
          "Southampton",
          "Southampton",
          "Southampton",
          "Southampton",
          "Southampton",
          "Southampton",
          "Southampton",
          "Southampton",
          "Southampton",
          "Southampton",
          "Southampton",
          "Southampton",
          "Southampton",
          "Southampton",
          "Southampton",
          "Southampton",
          "Southampton",
          "Southampton",
          "Southampton",
          "Southampton",
          "Southampton",
          "Southampton",
          "Southampton",
          "Southampton",
          "Southampton",
          "Southampton",
          "Southampton",
          "Southampton",
          "Southampton",
          "Southampton",
          "Southampton",
          "Southampton",
          "Southampton",
          "Southampton",
          "Southampton",
          "Southampton",
          "Southampton",
          "Southampton",
          "Southampton",
          "Southampton",
          "Southampton",
          "Southampton",
          "Southampton",
          "Southampton",
          "Southampton",
          "Southampton",
          "Southampton",
          "Southampton",
          "Southampton",
          "Southampton",
          "Southampton",
          "Southampton",
          "Southampton",
          "Southampton",
          "Southampton",
          "Southampton",
          "Southampton",
          "Southampton",
          "Southampton",
          "Southampton",
          "Southampton",
          "Southampton",
          "Southampton",
          "Southampton",
          "Southampton",
          "Southampton",
          "Southampton",
          "Southampton",
          "Southampton",
          "Southampton",
          "Southampton",
          "Southampton",
          "Southampton",
          "Southampton",
          "Southampton",
          "Southampton",
          "Southampton",
          "Southampton",
          "Southampton",
          "Southampton",
          "Southampton",
          "Southampton",
          "Southampton",
          "Southampton",
          "Southampton",
          "Southampton",
          "Southampton",
          "Southampton",
          "Southampton",
          "Southampton",
          "Southampton",
          "Southampton",
          "Southampton",
          "Southampton",
          "Southampton",
          "Southampton",
          "Southampton",
          "Southampton",
          "Southampton",
          "Southampton",
          "Southampton",
          "Southampton",
          "Southampton",
          "Southampton",
          "Southampton",
          "Southampton",
          "Southampton",
          "Southampton",
          "Southampton",
          "Southampton",
          "Southampton",
          "Southampton",
          "Southampton",
          "Southampton",
          "Southampton",
          "Southampton",
          "Southampton",
          "Southampton",
          "Southampton",
          "Southampton",
          "Southampton",
          "Southampton",
          "Southampton",
          "Southampton",
          "Southampton",
          "Southampton",
          "Southampton",
          "Southampton",
          "Southampton",
          "Southampton",
          "Southampton",
          "Southampton",
          "Southampton",
          "Southampton",
          "Southampton",
          "Southampton",
          "Southampton",
          "Southampton",
          "Southampton",
          "Southampton",
          "Southampton",
          "Southampton",
          "Southampton",
          "Southampton",
          "Southampton",
          "Southampton",
          "Southampton",
          "Southampton",
          "Southampton",
          "Southampton",
          "Southampton",
          "Southampton",
          "Southampton",
          "Southampton",
          "Southampton",
          "Southampton",
          "Southampton",
          "Southampton",
          "Southampton",
          "Southampton",
          "Southampton",
          "Southampton",
          "Southampton",
          "Southampton",
          "Southampton",
          "Southampton",
          "Southampton",
          "Southampton",
          "Southampton",
          "Southampton",
          "Southampton",
          "Southampton",
          "Southampton",
          "Southampton",
          "Southampton",
          "Southampton",
          "Southampton",
          "Southampton",
          "Southampton",
          "Southampton",
          "Southampton",
          "Southampton",
          "Southampton",
          "Southampton",
          "Southampton",
          "Southampton",
          "Southampton",
          "Southampton",
          "Southampton",
          "Southampton",
          "Southampton",
          "Southampton",
          "Southampton",
          "Southampton",
          "Southampton",
          "Southampton",
          "Southampton",
          "Southampton",
          "Southampton",
          "Southampton",
          "Southampton",
          "Southampton",
          "Southampton",
          "Southampton",
          "Southampton",
          "Southampton",
          "Southampton",
          "Southampton",
          "Southampton",
          "Southampton",
          "Southampton",
          "Southampton",
          "Southampton",
          "Southampton",
          "Southampton",
          "Southampton",
          "Southampton",
          "Southampton",
          "Southampton",
          "Southampton",
          "Southampton",
          "Southampton",
          "Southampton",
          "Southampton",
          "Southampton",
          "Southampton",
          "Southampton",
          "Southampton",
          "Southampton",
          "Southampton",
          "Southampton",
          "Southampton",
          "Southampton",
          "Southampton",
          "Southampton",
          "Southampton",
          "Southampton",
          "Southampton",
          "Southampton",
          "Southampton",
          "Southampton",
          "Southampton",
          "Southampton",
          "Southampton",
          "Southampton",
          "Southampton",
          "Southampton",
          "Southampton",
          "Southampton",
          "Southampton",
          "Southampton",
          "Southampton",
          "Southampton",
          "Southampton",
          "Southampton",
          "Southampton",
          "Southampton",
          "Southampton",
          "Southampton",
          "Southampton",
          "Southampton",
          "Southampton",
          "Southampton",
          "Southampton",
          "Southampton",
          "Southampton",
          "Southampton",
          "Southampton",
          "Southampton",
          "Southampton",
          "Southampton",
          "Southampton",
          "Southampton",
          "Southampton",
          "Southampton",
          "Southampton",
          "Southampton",
          "Southampton",
          "Southampton",
          "Southampton",
          "Southampton",
          "Southampton",
          "Southampton",
          "Southampton",
          "Southampton",
          "Southampton",
          "Southampton",
          "Southampton",
          "Southampton",
          "Southampton",
          "Southampton",
          "Southampton",
          "Southampton",
          "Southampton",
          "Southampton",
          "Southampton",
          "Southampton",
          "Southampton",
          "Southampton",
          "Southampton",
          "Southampton",
          "Southampton",
          "Southampton",
          "Southampton",
          "Southampton",
          "Southampton",
          "Southampton",
          "Southampton",
          "Southampton",
          "Southampton",
          "Southampton",
          "Southampton",
          "Southampton",
          "Southampton",
          "Southampton",
          "Southampton",
          "Southampton",
          "Southampton",
          "Southampton",
          "Southampton",
          "Southampton",
          "Southampton",
          "Southampton",
          "Southampton",
          "Southampton",
          "Southampton",
          "Southampton",
          "Southampton",
          "Southampton",
          "Southampton",
          "Southampton",
          "Southampton",
          "Southampton",
          "Southampton",
          "Southampton",
          "Southampton",
          "Southampton",
          "Southampton",
          "Southampton",
          "Southampton",
          "Southampton",
          "Southampton",
          "Southampton",
          "Southampton",
          "Southampton",
          "Southampton",
          "Southampton",
          "Southampton",
          "Southampton",
          "Southampton",
          "Southampton",
          "Southampton",
          "Southampton",
          "Southampton",
          "Southampton",
          "Southampton",
          "Southampton",
          "Southampton",
          "Southampton",
          "Southampton",
          "Southampton",
          "Southampton",
          "Southampton",
          "Southampton",
          "Southampton",
          "Southampton",
          "Southampton",
          "Southampton",
          "Southampton",
          "Southampton",
          "Southampton",
          "Southampton",
          "Southampton",
          "Southampton",
          "Southampton",
          "Southampton",
          "Southampton",
          "Southampton",
          "Southampton",
          "Southampton",
          "Southampton",
          "Southampton",
          "Southampton",
          "Southampton",
          "Southampton",
          "Southampton",
          "Southampton",
          "Southampton",
          "Southampton",
          "Southampton",
          "Southampton",
          "Southampton",
          "Southampton",
          "Southampton",
          "Southampton",
          "Southampton",
          "Southampton",
          "Southampton",
          "Southampton",
          "Southampton",
          "Southampton",
          "Southampton",
          "Southampton",
          "Southampton",
          "Southampton",
          "Southampton",
          "Southampton",
          "Southampton",
          "Southampton",
          "Southampton",
          "Southampton",
          "Southampton",
          "Southampton",
          "Southampton",
          "Southampton",
          "Southampton",
          "Southampton",
          "Southampton",
          "Southampton",
          "Southampton",
          "Southampton",
          "Southampton",
          "Southampton",
          "Southampton",
          "Southampton",
          "Southampton",
          "Southampton",
          "Southampton",
          "Southampton",
          "Southampton",
          "Southampton",
          "Southampton",
          "Southampton",
          "Southampton",
          "Southampton",
          "Southampton",
          "Southampton",
          "Southampton",
          "Southampton",
          "Southampton",
          "Southampton",
          "Southampton",
          "Southampton",
          "Southampton",
          "Southampton",
          "Southampton",
          "Southampton",
          "Southampton",
          "Southampton",
          "Southampton",
          "Southampton",
          "Southampton",
          "Southampton",
          "Southampton",
          "Southampton",
          "Southampton",
          "Southampton",
          "Southampton",
          "Southampton",
          "Southampton",
          "Southampton",
          "Southampton",
          "Southampton",
          "Southampton",
          "Southampton",
          "Southampton",
          "Southampton",
          "Southampton",
          "Southampton",
          "Southampton",
          "Southampton",
          "Southampton",
          "Southampton",
          "Southampton",
          "Southampton",
          "Southampton",
          "Southampton",
          "Southampton",
          "Southampton",
          "Southampton",
          "Southampton",
          "Southampton",
          "Southampton",
          "Southampton",
          "Southampton",
          "Southampton",
          "Southampton"
         ],
         "xaxis": "x",
         "y": {
          "bdata": "AAEBAAAAAQEBAAAAAQEAAAEBAAEAAAAAAAAAAAAAAAABAQEBAAAAAQABAAAAAAEAAAABAQABAAEBAAABAAAAAAAAAAEAAAAAAAAAAQEAAAAAAAAAAAABAAEAAAABAAEAAAEBAAABAAAAAAEAAAAAAAAAAQAAAAEBAAAAAAEAAAAAAAAAAQEAAQABAAEBAAAAAAABAAAAAQAAAQAAAQAAAAEAAQAAAAEAAAEAAAABAAAAAAABAQAAAAAAAAEBAQAAAAABAQEAAQEBAAABAAABAAEAAQEAAAABAAABAAAAAQEAAQAAAQAAAQEAAAABAAABAAEBAAAAAQEBAQAAAAAAAQAAAAAAAAABAAABAAAAAQEBAAEAAAAAAQEAAAAAAAABAAAAAAEAAQEAAAAAAAABAQEBAQEAAAEAAQAAAQAAAQEBAQEBAAAAAAEBAQAAAAAAAAAAAAEAAAAAAAEAAAABAAEAAQAAAAAAAAAAAAEBAQABAAEAAAEBAAEAAQAAAAEAAQAAAQAAAQABAAEAAQABAQAAAAAAAAABAQEBAAABAQEBAAEAAAAAAAAAAQABAAAAAAABAQAAAAEAAAEAAQAAAAEAAQAAAAEAAAAAAAABAAABAAEAAAAAAQAAAQAAAAABAQAAAQAAAAEAAAAAAAAAAQEBAAAAAAEAAAEBAQABAAAAAQABAAAAAQABAAABAAAAAAAAAAEAAAEAAAEAAQEAAAEBAAAAAQAAAQABAAAAAAEAAQEBAAAAAAEBAAAAAAEBAAABAQEAAAAAAQAAAAAAAAAAAAEBAAEAAAEAAAAAAQAAAAAAAAAAAQABAQEAAAEAAAEAAAEAAQAAAAAAAQAAAAAAAQA=",
          "dtype": "i1"
         },
         "yaxis": "y"
        },
        {
         "hovertemplate": "embark_town=%{x}<br>survived=%{y}<extra></extra>",
         "legendgroup": "Cherbourg",
         "marker": {
          "color": "#EF553B",
          "pattern": {
           "shape": ""
          }
         },
         "name": "Cherbourg",
         "orientation": "v",
         "showlegend": true,
         "textposition": "auto",
         "type": "bar",
         "x": [
          "Cherbourg",
          "Cherbourg",
          "Cherbourg",
          "Cherbourg",
          "Cherbourg",
          "Cherbourg",
          "Cherbourg",
          "Cherbourg",
          "Cherbourg",
          "Cherbourg",
          "Cherbourg",
          "Cherbourg",
          "Cherbourg",
          "Cherbourg",
          "Cherbourg",
          "Cherbourg",
          "Cherbourg",
          "Cherbourg",
          "Cherbourg",
          "Cherbourg",
          "Cherbourg",
          "Cherbourg",
          "Cherbourg",
          "Cherbourg",
          "Cherbourg",
          "Cherbourg",
          "Cherbourg",
          "Cherbourg",
          "Cherbourg",
          "Cherbourg",
          "Cherbourg",
          "Cherbourg",
          "Cherbourg",
          "Cherbourg",
          "Cherbourg",
          "Cherbourg",
          "Cherbourg",
          "Cherbourg",
          "Cherbourg",
          "Cherbourg",
          "Cherbourg",
          "Cherbourg",
          "Cherbourg",
          "Cherbourg",
          "Cherbourg",
          "Cherbourg",
          "Cherbourg",
          "Cherbourg",
          "Cherbourg",
          "Cherbourg",
          "Cherbourg",
          "Cherbourg",
          "Cherbourg",
          "Cherbourg",
          "Cherbourg",
          "Cherbourg",
          "Cherbourg",
          "Cherbourg",
          "Cherbourg",
          "Cherbourg",
          "Cherbourg",
          "Cherbourg",
          "Cherbourg",
          "Cherbourg",
          "Cherbourg",
          "Cherbourg",
          "Cherbourg",
          "Cherbourg",
          "Cherbourg",
          "Cherbourg",
          "Cherbourg",
          "Cherbourg",
          "Cherbourg",
          "Cherbourg",
          "Cherbourg",
          "Cherbourg",
          "Cherbourg",
          "Cherbourg",
          "Cherbourg",
          "Cherbourg",
          "Cherbourg",
          "Cherbourg",
          "Cherbourg",
          "Cherbourg",
          "Cherbourg",
          "Cherbourg",
          "Cherbourg",
          "Cherbourg",
          "Cherbourg",
          "Cherbourg",
          "Cherbourg",
          "Cherbourg",
          "Cherbourg",
          "Cherbourg",
          "Cherbourg",
          "Cherbourg",
          "Cherbourg",
          "Cherbourg",
          "Cherbourg",
          "Cherbourg",
          "Cherbourg",
          "Cherbourg",
          "Cherbourg",
          "Cherbourg",
          "Cherbourg",
          "Cherbourg",
          "Cherbourg",
          "Cherbourg",
          "Cherbourg",
          "Cherbourg",
          "Cherbourg",
          "Cherbourg",
          "Cherbourg",
          "Cherbourg",
          "Cherbourg",
          "Cherbourg",
          "Cherbourg",
          "Cherbourg",
          "Cherbourg",
          "Cherbourg",
          "Cherbourg",
          "Cherbourg",
          "Cherbourg",
          "Cherbourg",
          "Cherbourg",
          "Cherbourg",
          "Cherbourg",
          "Cherbourg",
          "Cherbourg",
          "Cherbourg",
          "Cherbourg",
          "Cherbourg",
          "Cherbourg",
          "Cherbourg",
          "Cherbourg",
          "Cherbourg",
          "Cherbourg",
          "Cherbourg",
          "Cherbourg",
          "Cherbourg",
          "Cherbourg",
          "Cherbourg",
          "Cherbourg",
          "Cherbourg",
          "Cherbourg",
          "Cherbourg",
          "Cherbourg",
          "Cherbourg",
          "Cherbourg",
          "Cherbourg",
          "Cherbourg",
          "Cherbourg",
          "Cherbourg",
          "Cherbourg",
          "Cherbourg",
          "Cherbourg",
          "Cherbourg",
          "Cherbourg",
          "Cherbourg",
          "Cherbourg",
          "Cherbourg",
          "Cherbourg",
          "Cherbourg",
          "Cherbourg",
          "Cherbourg",
          "Cherbourg",
          "Cherbourg",
          "Cherbourg"
         ],
         "xaxis": "x",
         "y": {
          "bdata": "AQEBAAABAAEBAAEAAQAAAAABAAABAAAAAAEBAAAAAAAAAAABAQABAQEBAAABAQEAAAEAAAABAQEAAQEBAQEBAQAAAAABAQEBAAEAAAEBAQEAAQABAQEBAQAAAAEAAQABAAAAAQEBAAEBAQEAAAABAAABAQABAQEAAQEBAQEBAAABAQABAAABAAEBAQABAQEAAAEAAAABAAEBAAEBAQAAAQABAAEBAQEB",
          "dtype": "i1"
         },
         "yaxis": "y"
        },
        {
         "hovertemplate": "embark_town=%{x}<br>survived=%{y}<extra></extra>",
         "legendgroup": "Queenstown",
         "marker": {
          "color": "#00cc96",
          "pattern": {
           "shape": ""
          }
         },
         "name": "Queenstown",
         "orientation": "v",
         "showlegend": true,
         "textposition": "auto",
         "type": "bar",
         "x": [
          "Queenstown",
          "Queenstown",
          "Queenstown",
          "Queenstown",
          "Queenstown",
          "Queenstown",
          "Queenstown",
          "Queenstown",
          "Queenstown",
          "Queenstown",
          "Queenstown",
          "Queenstown",
          "Queenstown",
          "Queenstown",
          "Queenstown",
          "Queenstown",
          "Queenstown",
          "Queenstown",
          "Queenstown",
          "Queenstown",
          "Queenstown",
          "Queenstown",
          "Queenstown",
          "Queenstown",
          "Queenstown",
          "Queenstown",
          "Queenstown",
          "Queenstown",
          "Queenstown",
          "Queenstown",
          "Queenstown",
          "Queenstown",
          "Queenstown",
          "Queenstown",
          "Queenstown",
          "Queenstown",
          "Queenstown",
          "Queenstown",
          "Queenstown",
          "Queenstown",
          "Queenstown",
          "Queenstown",
          "Queenstown",
          "Queenstown",
          "Queenstown",
          "Queenstown",
          "Queenstown",
          "Queenstown",
          "Queenstown",
          "Queenstown",
          "Queenstown",
          "Queenstown",
          "Queenstown",
          "Queenstown",
          "Queenstown",
          "Queenstown",
          "Queenstown",
          "Queenstown",
          "Queenstown",
          "Queenstown",
          "Queenstown",
          "Queenstown",
          "Queenstown",
          "Queenstown",
          "Queenstown",
          "Queenstown",
          "Queenstown",
          "Queenstown",
          "Queenstown",
          "Queenstown",
          "Queenstown",
          "Queenstown",
          "Queenstown",
          "Queenstown",
          "Queenstown",
          "Queenstown",
          "Queenstown"
         ],
         "xaxis": "x",
         "y": {
          "bdata": "AAABAQEBAAEBAQAAAAEAAQAAAQEAAQAAAAEAAAEBAQEBAQEBAAEAAAEAAAAAAAABAAAAAAEAAQAAAAEAAAABAAABAAAAAAAAAAABAAA=",
          "dtype": "i1"
         },
         "yaxis": "y"
        }
       ],
       "layout": {
        "barmode": "relative",
        "legend": {
         "title": {
          "text": "embark_town"
         },
         "tracegroupgap": 0
        },
        "template": {
         "data": {
          "bar": [
           {
            "error_x": {
             "color": "#f2f5fa"
            },
            "error_y": {
             "color": "#f2f5fa"
            },
            "marker": {
             "line": {
              "color": "rgb(17,17,17)",
              "width": 0.5
             },
             "pattern": {
              "fillmode": "overlay",
              "size": 10,
              "solidity": 0.2
             }
            },
            "type": "bar"
           }
          ],
          "barpolar": [
           {
            "marker": {
             "line": {
              "color": "rgb(17,17,17)",
              "width": 0.5
             },
             "pattern": {
              "fillmode": "overlay",
              "size": 10,
              "solidity": 0.2
             }
            },
            "type": "barpolar"
           }
          ],
          "carpet": [
           {
            "aaxis": {
             "endlinecolor": "#A2B1C6",
             "gridcolor": "#506784",
             "linecolor": "#506784",
             "minorgridcolor": "#506784",
             "startlinecolor": "#A2B1C6"
            },
            "baxis": {
             "endlinecolor": "#A2B1C6",
             "gridcolor": "#506784",
             "linecolor": "#506784",
             "minorgridcolor": "#506784",
             "startlinecolor": "#A2B1C6"
            },
            "type": "carpet"
           }
          ],
          "choropleth": [
           {
            "colorbar": {
             "outlinewidth": 0,
             "ticks": ""
            },
            "type": "choropleth"
           }
          ],
          "contour": [
           {
            "colorbar": {
             "outlinewidth": 0,
             "ticks": ""
            },
            "colorscale": [
             [
              0,
              "#0d0887"
             ],
             [
              0.1111111111111111,
              "#46039f"
             ],
             [
              0.2222222222222222,
              "#7201a8"
             ],
             [
              0.3333333333333333,
              "#9c179e"
             ],
             [
              0.4444444444444444,
              "#bd3786"
             ],
             [
              0.5555555555555556,
              "#d8576b"
             ],
             [
              0.6666666666666666,
              "#ed7953"
             ],
             [
              0.7777777777777778,
              "#fb9f3a"
             ],
             [
              0.8888888888888888,
              "#fdca26"
             ],
             [
              1,
              "#f0f921"
             ]
            ],
            "type": "contour"
           }
          ],
          "contourcarpet": [
           {
            "colorbar": {
             "outlinewidth": 0,
             "ticks": ""
            },
            "type": "contourcarpet"
           }
          ],
          "heatmap": [
           {
            "colorbar": {
             "outlinewidth": 0,
             "ticks": ""
            },
            "colorscale": [
             [
              0,
              "#0d0887"
             ],
             [
              0.1111111111111111,
              "#46039f"
             ],
             [
              0.2222222222222222,
              "#7201a8"
             ],
             [
              0.3333333333333333,
              "#9c179e"
             ],
             [
              0.4444444444444444,
              "#bd3786"
             ],
             [
              0.5555555555555556,
              "#d8576b"
             ],
             [
              0.6666666666666666,
              "#ed7953"
             ],
             [
              0.7777777777777778,
              "#fb9f3a"
             ],
             [
              0.8888888888888888,
              "#fdca26"
             ],
             [
              1,
              "#f0f921"
             ]
            ],
            "type": "heatmap"
           }
          ],
          "histogram": [
           {
            "marker": {
             "pattern": {
              "fillmode": "overlay",
              "size": 10,
              "solidity": 0.2
             }
            },
            "type": "histogram"
           }
          ],
          "histogram2d": [
           {
            "colorbar": {
             "outlinewidth": 0,
             "ticks": ""
            },
            "colorscale": [
             [
              0,
              "#0d0887"
             ],
             [
              0.1111111111111111,
              "#46039f"
             ],
             [
              0.2222222222222222,
              "#7201a8"
             ],
             [
              0.3333333333333333,
              "#9c179e"
             ],
             [
              0.4444444444444444,
              "#bd3786"
             ],
             [
              0.5555555555555556,
              "#d8576b"
             ],
             [
              0.6666666666666666,
              "#ed7953"
             ],
             [
              0.7777777777777778,
              "#fb9f3a"
             ],
             [
              0.8888888888888888,
              "#fdca26"
             ],
             [
              1,
              "#f0f921"
             ]
            ],
            "type": "histogram2d"
           }
          ],
          "histogram2dcontour": [
           {
            "colorbar": {
             "outlinewidth": 0,
             "ticks": ""
            },
            "colorscale": [
             [
              0,
              "#0d0887"
             ],
             [
              0.1111111111111111,
              "#46039f"
             ],
             [
              0.2222222222222222,
              "#7201a8"
             ],
             [
              0.3333333333333333,
              "#9c179e"
             ],
             [
              0.4444444444444444,
              "#bd3786"
             ],
             [
              0.5555555555555556,
              "#d8576b"
             ],
             [
              0.6666666666666666,
              "#ed7953"
             ],
             [
              0.7777777777777778,
              "#fb9f3a"
             ],
             [
              0.8888888888888888,
              "#fdca26"
             ],
             [
              1,
              "#f0f921"
             ]
            ],
            "type": "histogram2dcontour"
           }
          ],
          "mesh3d": [
           {
            "colorbar": {
             "outlinewidth": 0,
             "ticks": ""
            },
            "type": "mesh3d"
           }
          ],
          "parcoords": [
           {
            "line": {
             "colorbar": {
              "outlinewidth": 0,
              "ticks": ""
             }
            },
            "type": "parcoords"
           }
          ],
          "pie": [
           {
            "automargin": true,
            "type": "pie"
           }
          ],
          "scatter": [
           {
            "marker": {
             "line": {
              "color": "#283442"
             }
            },
            "type": "scatter"
           }
          ],
          "scatter3d": [
           {
            "line": {
             "colorbar": {
              "outlinewidth": 0,
              "ticks": ""
             }
            },
            "marker": {
             "colorbar": {
              "outlinewidth": 0,
              "ticks": ""
             }
            },
            "type": "scatter3d"
           }
          ],
          "scattercarpet": [
           {
            "marker": {
             "colorbar": {
              "outlinewidth": 0,
              "ticks": ""
             }
            },
            "type": "scattercarpet"
           }
          ],
          "scattergeo": [
           {
            "marker": {
             "colorbar": {
              "outlinewidth": 0,
              "ticks": ""
             }
            },
            "type": "scattergeo"
           }
          ],
          "scattergl": [
           {
            "marker": {
             "line": {
              "color": "#283442"
             }
            },
            "type": "scattergl"
           }
          ],
          "scattermap": [
           {
            "marker": {
             "colorbar": {
              "outlinewidth": 0,
              "ticks": ""
             }
            },
            "type": "scattermap"
           }
          ],
          "scattermapbox": [
           {
            "marker": {
             "colorbar": {
              "outlinewidth": 0,
              "ticks": ""
             }
            },
            "type": "scattermapbox"
           }
          ],
          "scatterpolar": [
           {
            "marker": {
             "colorbar": {
              "outlinewidth": 0,
              "ticks": ""
             }
            },
            "type": "scatterpolar"
           }
          ],
          "scatterpolargl": [
           {
            "marker": {
             "colorbar": {
              "outlinewidth": 0,
              "ticks": ""
             }
            },
            "type": "scatterpolargl"
           }
          ],
          "scatterternary": [
           {
            "marker": {
             "colorbar": {
              "outlinewidth": 0,
              "ticks": ""
             }
            },
            "type": "scatterternary"
           }
          ],
          "surface": [
           {
            "colorbar": {
             "outlinewidth": 0,
             "ticks": ""
            },
            "colorscale": [
             [
              0,
              "#0d0887"
             ],
             [
              0.1111111111111111,
              "#46039f"
             ],
             [
              0.2222222222222222,
              "#7201a8"
             ],
             [
              0.3333333333333333,
              "#9c179e"
             ],
             [
              0.4444444444444444,
              "#bd3786"
             ],
             [
              0.5555555555555556,
              "#d8576b"
             ],
             [
              0.6666666666666666,
              "#ed7953"
             ],
             [
              0.7777777777777778,
              "#fb9f3a"
             ],
             [
              0.8888888888888888,
              "#fdca26"
             ],
             [
              1,
              "#f0f921"
             ]
            ],
            "type": "surface"
           }
          ],
          "table": [
           {
            "cells": {
             "fill": {
              "color": "#506784"
             },
             "line": {
              "color": "rgb(17,17,17)"
             }
            },
            "header": {
             "fill": {
              "color": "#2a3f5f"
             },
             "line": {
              "color": "rgb(17,17,17)"
             }
            },
            "type": "table"
           }
          ]
         },
         "layout": {
          "annotationdefaults": {
           "arrowcolor": "#f2f5fa",
           "arrowhead": 0,
           "arrowwidth": 1
          },
          "autotypenumbers": "strict",
          "coloraxis": {
           "colorbar": {
            "outlinewidth": 0,
            "ticks": ""
           }
          },
          "colorscale": {
           "diverging": [
            [
             0,
             "#8e0152"
            ],
            [
             0.1,
             "#c51b7d"
            ],
            [
             0.2,
             "#de77ae"
            ],
            [
             0.3,
             "#f1b6da"
            ],
            [
             0.4,
             "#fde0ef"
            ],
            [
             0.5,
             "#f7f7f7"
            ],
            [
             0.6,
             "#e6f5d0"
            ],
            [
             0.7,
             "#b8e186"
            ],
            [
             0.8,
             "#7fbc41"
            ],
            [
             0.9,
             "#4d9221"
            ],
            [
             1,
             "#276419"
            ]
           ],
           "sequential": [
            [
             0,
             "#0d0887"
            ],
            [
             0.1111111111111111,
             "#46039f"
            ],
            [
             0.2222222222222222,
             "#7201a8"
            ],
            [
             0.3333333333333333,
             "#9c179e"
            ],
            [
             0.4444444444444444,
             "#bd3786"
            ],
            [
             0.5555555555555556,
             "#d8576b"
            ],
            [
             0.6666666666666666,
             "#ed7953"
            ],
            [
             0.7777777777777778,
             "#fb9f3a"
            ],
            [
             0.8888888888888888,
             "#fdca26"
            ],
            [
             1,
             "#f0f921"
            ]
           ],
           "sequentialminus": [
            [
             0,
             "#0d0887"
            ],
            [
             0.1111111111111111,
             "#46039f"
            ],
            [
             0.2222222222222222,
             "#7201a8"
            ],
            [
             0.3333333333333333,
             "#9c179e"
            ],
            [
             0.4444444444444444,
             "#bd3786"
            ],
            [
             0.5555555555555556,
             "#d8576b"
            ],
            [
             0.6666666666666666,
             "#ed7953"
            ],
            [
             0.7777777777777778,
             "#fb9f3a"
            ],
            [
             0.8888888888888888,
             "#fdca26"
            ],
            [
             1,
             "#f0f921"
            ]
           ]
          },
          "colorway": [
           "#636efa",
           "#EF553B",
           "#00cc96",
           "#ab63fa",
           "#FFA15A",
           "#19d3f3",
           "#FF6692",
           "#B6E880",
           "#FF97FF",
           "#FECB52"
          ],
          "font": {
           "color": "#f2f5fa"
          },
          "geo": {
           "bgcolor": "rgb(17,17,17)",
           "lakecolor": "rgb(17,17,17)",
           "landcolor": "rgb(17,17,17)",
           "showlakes": true,
           "showland": true,
           "subunitcolor": "#506784"
          },
          "hoverlabel": {
           "align": "left"
          },
          "hovermode": "closest",
          "mapbox": {
           "style": "dark"
          },
          "paper_bgcolor": "rgb(17,17,17)",
          "plot_bgcolor": "rgb(17,17,17)",
          "polar": {
           "angularaxis": {
            "gridcolor": "#506784",
            "linecolor": "#506784",
            "ticks": ""
           },
           "bgcolor": "rgb(17,17,17)",
           "radialaxis": {
            "gridcolor": "#506784",
            "linecolor": "#506784",
            "ticks": ""
           }
          },
          "scene": {
           "xaxis": {
            "backgroundcolor": "rgb(17,17,17)",
            "gridcolor": "#506784",
            "gridwidth": 2,
            "linecolor": "#506784",
            "showbackground": true,
            "ticks": "",
            "zerolinecolor": "#C8D4E3"
           },
           "yaxis": {
            "backgroundcolor": "rgb(17,17,17)",
            "gridcolor": "#506784",
            "gridwidth": 2,
            "linecolor": "#506784",
            "showbackground": true,
            "ticks": "",
            "zerolinecolor": "#C8D4E3"
           },
           "zaxis": {
            "backgroundcolor": "rgb(17,17,17)",
            "gridcolor": "#506784",
            "gridwidth": 2,
            "linecolor": "#506784",
            "showbackground": true,
            "ticks": "",
            "zerolinecolor": "#C8D4E3"
           }
          },
          "shapedefaults": {
           "line": {
            "color": "#f2f5fa"
           }
          },
          "sliderdefaults": {
           "bgcolor": "#C8D4E3",
           "bordercolor": "rgb(17,17,17)",
           "borderwidth": 1,
           "tickwidth": 0
          },
          "ternary": {
           "aaxis": {
            "gridcolor": "#506784",
            "linecolor": "#506784",
            "ticks": ""
           },
           "baxis": {
            "gridcolor": "#506784",
            "linecolor": "#506784",
            "ticks": ""
           },
           "bgcolor": "rgb(17,17,17)",
           "caxis": {
            "gridcolor": "#506784",
            "linecolor": "#506784",
            "ticks": ""
           }
          },
          "title": {
           "x": 0.05
          },
          "updatemenudefaults": {
           "bgcolor": "#506784",
           "borderwidth": 0
          },
          "xaxis": {
           "automargin": true,
           "gridcolor": "#283442",
           "linecolor": "#506784",
           "ticks": "",
           "title": {
            "standoff": 15
           },
           "zerolinecolor": "#283442",
           "zerolinewidth": 2
          },
          "yaxis": {
           "automargin": true,
           "gridcolor": "#283442",
           "linecolor": "#506784",
           "ticks": "",
           "title": {
            "standoff": 15
           },
           "zerolinecolor": "#283442",
           "zerolinewidth": 2
          }
         }
        },
        "title": {
         "text": "Survival Rate by Embarkation Town"
        },
        "xaxis": {
         "anchor": "y",
         "categoryarray": [
          "Southampton",
          "Cherbourg",
          "Queenstown",
          null
         ],
         "categoryorder": "array",
         "domain": [
          0,
          1
         ],
         "title": {
          "text": "embark_town"
         }
        },
        "yaxis": {
         "anchor": "x",
         "domain": [
          0,
          1
         ],
         "title": {
          "text": "survived"
         }
        }
       }
      }
     },
     "metadata": {},
     "output_type": "display_data"
    }
   ],
   "source": [
    "px.bar(df, x='embark_town', y='survived', color='embark_town',\n",
    "       title='Survival Rate by Embarkation Town', template='plotly_dark')"
   ]
  },
  {
   "cell_type": "code",
   "execution_count": 34,
   "metadata": {},
   "outputs": [
    {
     "data": {
      "application/vnd.plotly.v1+json": {
       "config": {
        "plotlyServerURL": "https://plot.ly"
       },
       "data": [
        {
         "alignmentgroup": "True",
         "box": {
          "visible": true
         },
         "hovertemplate": "survived=0<br>sex=%{x}<br>age=%{y}<extra></extra>",
         "legendgroup": "0",
         "marker": {
          "color": "#636efa"
         },
         "name": "0",
         "offsetgroup": "0",
         "orientation": "v",
         "scalegroup": "True",
         "showlegend": true,
         "type": "violin",
         "x": [
          "male",
          "male",
          "male",
          "male",
          "male",
          "male",
          "male",
          "female",
          "male",
          "female",
          "male",
          "female",
          "male",
          "male",
          "male",
          "male",
          "male",
          "male",
          "male",
          "male",
          "female",
          "female",
          "female",
          "male",
          "male",
          "male",
          "male",
          "female",
          "male",
          "male",
          "male",
          "male",
          "male",
          "male",
          "male",
          "male",
          "male",
          "male",
          "male",
          "male",
          "female",
          "male",
          "male",
          "male",
          "male",
          "male",
          "male",
          "male",
          "male",
          "male",
          "male",
          "male",
          "male",
          "male",
          "male",
          "male",
          "male",
          "male",
          "male",
          "female",
          "male",
          "male",
          "male",
          "male",
          "male",
          "male",
          "male",
          "female",
          "male",
          "female",
          "female",
          "male",
          "male",
          "male",
          "male",
          "female",
          "male",
          "male",
          "male",
          "male",
          "male",
          "male",
          "male",
          "male",
          "female",
          "male",
          "male",
          "male",
          "male",
          "male",
          "female",
          "male",
          "male",
          "male",
          "female",
          "male",
          "male",
          "male",
          "male",
          "male",
          "male",
          "male",
          "male",
          "male",
          "male",
          "male",
          "male",
          "male",
          "male",
          "female",
          "male",
          "male",
          "male",
          "male",
          "male",
          "male",
          "male",
          "male",
          "female",
          "male",
          "male",
          "female",
          "male",
          "male",
          "male",
          "male",
          "male",
          "male",
          "male",
          "male",
          "female",
          "male",
          "male",
          "male",
          "male",
          "female",
          "male",
          "male",
          "male",
          "male",
          "male",
          "male",
          "male",
          "male",
          "male",
          "male",
          "male",
          "male",
          "male",
          "female",
          "male",
          "male",
          "male",
          "female",
          "male",
          "male",
          "male",
          "female",
          "male",
          "male",
          "male",
          "male",
          "female",
          "male",
          "male",
          "female",
          "male",
          "male",
          "female",
          "male",
          "male",
          "male",
          "female",
          "male",
          "male",
          "male",
          "male",
          "female",
          "male",
          "male",
          "male",
          "male",
          "male",
          "male",
          "male",
          "male",
          "male",
          "female",
          "male",
          "male",
          "male",
          "female",
          "male",
          "male",
          "male",
          "female",
          "male",
          "male",
          "male",
          "male",
          "male",
          "male",
          "male",
          "male",
          "male",
          "male",
          "male",
          "male",
          "male",
          "male",
          "male",
          "male",
          "male",
          "male",
          "male",
          "male",
          "male",
          "male",
          "male",
          "female",
          "male",
          "male",
          "female",
          "male",
          "male",
          "male",
          "male",
          "male",
          "male",
          "female",
          "male",
          "male",
          "male",
          "male",
          "male",
          "male",
          "male",
          "male",
          "male",
          "male",
          "female",
          "male",
          "male",
          "male",
          "female",
          "male",
          "female",
          "male",
          "male",
          "male",
          "female",
          "male",
          "male",
          "male",
          "female",
          "male",
          "female",
          "male",
          "male",
          "male",
          "female",
          "male",
          "male",
          "male",
          "male",
          "male",
          "female",
          "male",
          "male",
          "male",
          "male",
          "male",
          "male",
          "male",
          "male",
          "male",
          "male",
          "male",
          "male",
          "male",
          "male",
          "male",
          "male",
          "male",
          "male",
          "male",
          "male",
          "female",
          "male",
          "male",
          "male",
          "male",
          "male",
          "male",
          "male",
          "female",
          "male",
          "male",
          "male",
          "male",
          "male",
          "male",
          "male",
          "male",
          "male",
          "female",
          "male",
          "male",
          "female",
          "female",
          "female",
          "male",
          "male",
          "male",
          "male",
          "male",
          "male",
          "male",
          "male",
          "male",
          "male",
          "male",
          "male",
          "male",
          "male",
          "male",
          "male",
          "female",
          "male",
          "male",
          "female",
          "female",
          "male",
          "male",
          "male",
          "male",
          "male",
          "male",
          "male",
          "male",
          "male",
          "male",
          "male",
          "female",
          "male",
          "male",
          "female",
          "male",
          "male",
          "male",
          "female",
          "male",
          "male",
          "male",
          "male",
          "male",
          "male",
          "male",
          "male",
          "female",
          "male",
          "male",
          "male",
          "male",
          "male",
          "male",
          "male",
          "male",
          "male",
          "female",
          "male",
          "male",
          "male",
          "male",
          "female",
          "male",
          "male",
          "male",
          "male",
          "male",
          "male",
          "male",
          "male",
          "male",
          "male",
          "female",
          "male",
          "male",
          "female",
          "male",
          "male",
          "female",
          "male",
          "male",
          "male",
          "male",
          "female",
          "male",
          "male",
          "female",
          "male",
          "male",
          "male",
          "male",
          "male",
          "male",
          "male",
          "male",
          "male",
          "male",
          "male",
          "male",
          "male",
          "male",
          "female",
          "female",
          "male",
          "male",
          "male",
          "male",
          "male",
          "male",
          "male",
          "male",
          "male",
          "male",
          "male",
          "male",
          "male",
          "female",
          "male",
          "male",
          "male",
          "male",
          "male",
          "male",
          "male",
          "male",
          "male",
          "male",
          "male",
          "male",
          "male",
          "male",
          "female",
          "male",
          "male",
          "male",
          "male",
          "male",
          "female",
          "male",
          "male",
          "male",
          "male",
          "male",
          "male",
          "male",
          "male",
          "male",
          "male",
          "male",
          "male",
          "male",
          "male",
          "male",
          "male",
          "male",
          "female",
          "male",
          "male",
          "male",
          "male",
          "female",
          "male",
          "male",
          "male",
          "male",
          "male",
          "male",
          "male",
          "male",
          "male",
          "male",
          "male",
          "male",
          "female",
          "male",
          "male",
          "male",
          "male",
          "female",
          "male",
          "male",
          "male",
          "female",
          "male",
          "male",
          "male",
          "male",
          "female",
          "male",
          "male",
          "female",
          "male",
          "male",
          "male",
          "male",
          "male",
          "male",
          "male",
          "male",
          "male",
          "male",
          "male",
          "male",
          "male",
          "male",
          "male",
          "male",
          "male",
          "male",
          "male",
          "male",
          "male",
          "male",
          "female",
          "female",
          "male",
          "male",
          "male",
          "female",
          "male",
          "male",
          "male",
          "male",
          "male",
          "male",
          "male",
          "male",
          "male",
          "male",
          "female",
          "male",
          "male",
          "female",
          "male",
          "female",
          "male"
         ],
         "x0": " ",
         "xaxis": "x",
         "y": {
          "bdata": "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",
          "dtype": "f8"
         },
         "y0": " ",
         "yaxis": "y"
        },
        {
         "alignmentgroup": "True",
         "box": {
          "visible": true
         },
         "hovertemplate": "survived=1<br>sex=%{x}<br>age=%{y}<extra></extra>",
         "legendgroup": "1",
         "marker": {
          "color": "#EF553B"
         },
         "name": "1",
         "offsetgroup": "1",
         "orientation": "v",
         "scalegroup": "True",
         "showlegend": true,
         "type": "violin",
         "x": [
          "female",
          "female",
          "female",
          "female",
          "female",
          "female",
          "female",
          "female",
          "male",
          "female",
          "male",
          "female",
          "male",
          "female",
          "female",
          "female",
          "female",
          "male",
          "female",
          "female",
          "female",
          "female",
          "female",
          "female",
          "male",
          "female",
          "female",
          "female",
          "male",
          "female",
          "female",
          "male",
          "male",
          "female",
          "male",
          "female",
          "female",
          "female",
          "female",
          "male",
          "female",
          "female",
          "male",
          "female",
          "female",
          "male",
          "male",
          "female",
          "female",
          "female",
          "female",
          "female",
          "male",
          "female",
          "female",
          "female",
          "male",
          "female",
          "female",
          "male",
          "female",
          "female",
          "male",
          "female",
          "female",
          "male",
          "female",
          "female",
          "female",
          "male",
          "male",
          "female",
          "male",
          "female",
          "female",
          "female",
          "female",
          "male",
          "male",
          "male",
          "female",
          "female",
          "female",
          "female",
          "female",
          "male",
          "female",
          "female",
          "female",
          "female",
          "female",
          "male",
          "male",
          "female",
          "female",
          "male",
          "female",
          "female",
          "female",
          "female",
          "male",
          "male",
          "male",
          "female",
          "female",
          "female",
          "male",
          "female",
          "female",
          "male",
          "female",
          "male",
          "female",
          "female",
          "female",
          "female",
          "female",
          "female",
          "female",
          "female",
          "female",
          "female",
          "female",
          "female",
          "female",
          "female",
          "female",
          "female",
          "female",
          "female",
          "male",
          "male",
          "female",
          "female",
          "female",
          "female",
          "male",
          "female",
          "female",
          "female",
          "female",
          "female",
          "female",
          "female",
          "male",
          "female",
          "female",
          "female",
          "female",
          "female",
          "female",
          "female",
          "male",
          "male",
          "female",
          "female",
          "female",
          "male",
          "male",
          "female",
          "male",
          "female",
          "female",
          "female",
          "female",
          "male",
          "male",
          "female",
          "female",
          "female",
          "female",
          "female",
          "female",
          "male",
          "male",
          "female",
          "male",
          "female",
          "male",
          "male",
          "male",
          "female",
          "female",
          "male",
          "female",
          "female",
          "female",
          "female",
          "female",
          "male",
          "female",
          "male",
          "female",
          "female",
          "female",
          "male",
          "male",
          "male",
          "male",
          "female",
          "female",
          "female",
          "female",
          "female",
          "female",
          "female",
          "female",
          "female",
          "female",
          "female",
          "female",
          "male",
          "female",
          "male",
          "male",
          "male",
          "male",
          "female",
          "female",
          "female",
          "female",
          "male",
          "male",
          "female",
          "male",
          "female",
          "female",
          "female",
          "male",
          "female",
          "female",
          "female",
          "male",
          "female",
          "female",
          "male",
          "female",
          "male",
          "male",
          "female",
          "female",
          "female",
          "female",
          "female",
          "male",
          "male",
          "female",
          "male",
          "male",
          "female",
          "female",
          "male",
          "female",
          "male",
          "male",
          "female",
          "female",
          "female",
          "male",
          "male",
          "female",
          "female",
          "male",
          "female",
          "male",
          "male",
          "female",
          "male",
          "female",
          "male",
          "female",
          "female",
          "male",
          "female",
          "male",
          "female",
          "male",
          "female",
          "male",
          "female",
          "female",
          "female",
          "male",
          "female",
          "female",
          "female",
          "male",
          "male",
          "female",
          "male",
          "female",
          "female",
          "male",
          "female",
          "male",
          "female",
          "male",
          "female",
          "female",
          "female",
          "female",
          "female",
          "female",
          "female",
          "female",
          "male",
          "female",
          "female",
          "female",
          "male",
          "male",
          "male",
          "female",
          "female",
          "male",
          "female",
          "male",
          "male",
          "female",
          "female",
          "male",
          "female",
          "male",
          "male",
          "female",
          "female",
          "female",
          "female",
          "female",
          "male",
          "female",
          "female",
          "female",
          "female",
          "male",
          "female",
          "female",
          "female",
          "female",
          "female",
          "female",
          "male"
         ],
         "x0": " ",
         "xaxis": "x",
         "y": {
          "bdata": "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",
          "dtype": "f8"
         },
         "y0": " ",
         "yaxis": "y"
        }
       ],
       "layout": {
        "legend": {
         "title": {
          "text": "survived"
         },
         "tracegroupgap": 0
        },
        "template": {
         "data": {
          "bar": [
           {
            "error_x": {
             "color": "#f2f5fa"
            },
            "error_y": {
             "color": "#f2f5fa"
            },
            "marker": {
             "line": {
              "color": "rgb(17,17,17)",
              "width": 0.5
             },
             "pattern": {
              "fillmode": "overlay",
              "size": 10,
              "solidity": 0.2
             }
            },
            "type": "bar"
           }
          ],
          "barpolar": [
           {
            "marker": {
             "line": {
              "color": "rgb(17,17,17)",
              "width": 0.5
             },
             "pattern": {
              "fillmode": "overlay",
              "size": 10,
              "solidity": 0.2
             }
            },
            "type": "barpolar"
           }
          ],
          "carpet": [
           {
            "aaxis": {
             "endlinecolor": "#A2B1C6",
             "gridcolor": "#506784",
             "linecolor": "#506784",
             "minorgridcolor": "#506784",
             "startlinecolor": "#A2B1C6"
            },
            "baxis": {
             "endlinecolor": "#A2B1C6",
             "gridcolor": "#506784",
             "linecolor": "#506784",
             "minorgridcolor": "#506784",
             "startlinecolor": "#A2B1C6"
            },
            "type": "carpet"
           }
          ],
          "choropleth": [
           {
            "colorbar": {
             "outlinewidth": 0,
             "ticks": ""
            },
            "type": "choropleth"
           }
          ],
          "contour": [
           {
            "colorbar": {
             "outlinewidth": 0,
             "ticks": ""
            },
            "colorscale": [
             [
              0,
              "#0d0887"
             ],
             [
              0.1111111111111111,
              "#46039f"
             ],
             [
              0.2222222222222222,
              "#7201a8"
             ],
             [
              0.3333333333333333,
              "#9c179e"
             ],
             [
              0.4444444444444444,
              "#bd3786"
             ],
             [
              0.5555555555555556,
              "#d8576b"
             ],
             [
              0.6666666666666666,
              "#ed7953"
             ],
             [
              0.7777777777777778,
              "#fb9f3a"
             ],
             [
              0.8888888888888888,
              "#fdca26"
             ],
             [
              1,
              "#f0f921"
             ]
            ],
            "type": "contour"
           }
          ],
          "contourcarpet": [
           {
            "colorbar": {
             "outlinewidth": 0,
             "ticks": ""
            },
            "type": "contourcarpet"
           }
          ],
          "heatmap": [
           {
            "colorbar": {
             "outlinewidth": 0,
             "ticks": ""
            },
            "colorscale": [
             [
              0,
              "#0d0887"
             ],
             [
              0.1111111111111111,
              "#46039f"
             ],
             [
              0.2222222222222222,
              "#7201a8"
             ],
             [
              0.3333333333333333,
              "#9c179e"
             ],
             [
              0.4444444444444444,
              "#bd3786"
             ],
             [
              0.5555555555555556,
              "#d8576b"
             ],
             [
              0.6666666666666666,
              "#ed7953"
             ],
             [
              0.7777777777777778,
              "#fb9f3a"
             ],
             [
              0.8888888888888888,
              "#fdca26"
             ],
             [
              1,
              "#f0f921"
             ]
            ],
            "type": "heatmap"
           }
          ],
          "histogram": [
           {
            "marker": {
             "pattern": {
              "fillmode": "overlay",
              "size": 10,
              "solidity": 0.2
             }
            },
            "type": "histogram"
           }
          ],
          "histogram2d": [
           {
            "colorbar": {
             "outlinewidth": 0,
             "ticks": ""
            },
            "colorscale": [
             [
              0,
              "#0d0887"
             ],
             [
              0.1111111111111111,
              "#46039f"
             ],
             [
              0.2222222222222222,
              "#7201a8"
             ],
             [
              0.3333333333333333,
              "#9c179e"
             ],
             [
              0.4444444444444444,
              "#bd3786"
             ],
             [
              0.5555555555555556,
              "#d8576b"
             ],
             [
              0.6666666666666666,
              "#ed7953"
             ],
             [
              0.7777777777777778,
              "#fb9f3a"
             ],
             [
              0.8888888888888888,
              "#fdca26"
             ],
             [
              1,
              "#f0f921"
             ]
            ],
            "type": "histogram2d"
           }
          ],
          "histogram2dcontour": [
           {
            "colorbar": {
             "outlinewidth": 0,
             "ticks": ""
            },
            "colorscale": [
             [
              0,
              "#0d0887"
             ],
             [
              0.1111111111111111,
              "#46039f"
             ],
             [
              0.2222222222222222,
              "#7201a8"
             ],
             [
              0.3333333333333333,
              "#9c179e"
             ],
             [
              0.4444444444444444,
              "#bd3786"
             ],
             [
              0.5555555555555556,
              "#d8576b"
             ],
             [
              0.6666666666666666,
              "#ed7953"
             ],
             [
              0.7777777777777778,
              "#fb9f3a"
             ],
             [
              0.8888888888888888,
              "#fdca26"
             ],
             [
              1,
              "#f0f921"
             ]
            ],
            "type": "histogram2dcontour"
           }
          ],
          "mesh3d": [
           {
            "colorbar": {
             "outlinewidth": 0,
             "ticks": ""
            },
            "type": "mesh3d"
           }
          ],
          "parcoords": [
           {
            "line": {
             "colorbar": {
              "outlinewidth": 0,
              "ticks": ""
             }
            },
            "type": "parcoords"
           }
          ],
          "pie": [
           {
            "automargin": true,
            "type": "pie"
           }
          ],
          "scatter": [
           {
            "marker": {
             "line": {
              "color": "#283442"
             }
            },
            "type": "scatter"
           }
          ],
          "scatter3d": [
           {
            "line": {
             "colorbar": {
              "outlinewidth": 0,
              "ticks": ""
             }
            },
            "marker": {
             "colorbar": {
              "outlinewidth": 0,
              "ticks": ""
             }
            },
            "type": "scatter3d"
           }
          ],
          "scattercarpet": [
           {
            "marker": {
             "colorbar": {
              "outlinewidth": 0,
              "ticks": ""
             }
            },
            "type": "scattercarpet"
           }
          ],
          "scattergeo": [
           {
            "marker": {
             "colorbar": {
              "outlinewidth": 0,
              "ticks": ""
             }
            },
            "type": "scattergeo"
           }
          ],
          "scattergl": [
           {
            "marker": {
             "line": {
              "color": "#283442"
             }
            },
            "type": "scattergl"
           }
          ],
          "scattermap": [
           {
            "marker": {
             "colorbar": {
              "outlinewidth": 0,
              "ticks": ""
             }
            },
            "type": "scattermap"
           }
          ],
          "scattermapbox": [
           {
            "marker": {
             "colorbar": {
              "outlinewidth": 0,
              "ticks": ""
             }
            },
            "type": "scattermapbox"
           }
          ],
          "scatterpolar": [
           {
            "marker": {
             "colorbar": {
              "outlinewidth": 0,
              "ticks": ""
             }
            },
            "type": "scatterpolar"
           }
          ],
          "scatterpolargl": [
           {
            "marker": {
             "colorbar": {
              "outlinewidth": 0,
              "ticks": ""
             }
            },
            "type": "scatterpolargl"
           }
          ],
          "scatterternary": [
           {
            "marker": {
             "colorbar": {
              "outlinewidth": 0,
              "ticks": ""
             }
            },
            "type": "scatterternary"
           }
          ],
          "surface": [
           {
            "colorbar": {
             "outlinewidth": 0,
             "ticks": ""
            },
            "colorscale": [
             [
              0,
              "#0d0887"
             ],
             [
              0.1111111111111111,
              "#46039f"
             ],
             [
              0.2222222222222222,
              "#7201a8"
             ],
             [
              0.3333333333333333,
              "#9c179e"
             ],
             [
              0.4444444444444444,
              "#bd3786"
             ],
             [
              0.5555555555555556,
              "#d8576b"
             ],
             [
              0.6666666666666666,
              "#ed7953"
             ],
             [
              0.7777777777777778,
              "#fb9f3a"
             ],
             [
              0.8888888888888888,
              "#fdca26"
             ],
             [
              1,
              "#f0f921"
             ]
            ],
            "type": "surface"
           }
          ],
          "table": [
           {
            "cells": {
             "fill": {
              "color": "#506784"
             },
             "line": {
              "color": "rgb(17,17,17)"
             }
            },
            "header": {
             "fill": {
              "color": "#2a3f5f"
             },
             "line": {
              "color": "rgb(17,17,17)"
             }
            },
            "type": "table"
           }
          ]
         },
         "layout": {
          "annotationdefaults": {
           "arrowcolor": "#f2f5fa",
           "arrowhead": 0,
           "arrowwidth": 1
          },
          "autotypenumbers": "strict",
          "coloraxis": {
           "colorbar": {
            "outlinewidth": 0,
            "ticks": ""
           }
          },
          "colorscale": {
           "diverging": [
            [
             0,
             "#8e0152"
            ],
            [
             0.1,
             "#c51b7d"
            ],
            [
             0.2,
             "#de77ae"
            ],
            [
             0.3,
             "#f1b6da"
            ],
            [
             0.4,
             "#fde0ef"
            ],
            [
             0.5,
             "#f7f7f7"
            ],
            [
             0.6,
             "#e6f5d0"
            ],
            [
             0.7,
             "#b8e186"
            ],
            [
             0.8,
             "#7fbc41"
            ],
            [
             0.9,
             "#4d9221"
            ],
            [
             1,
             "#276419"
            ]
           ],
           "sequential": [
            [
             0,
             "#0d0887"
            ],
            [
             0.1111111111111111,
             "#46039f"
            ],
            [
             0.2222222222222222,
             "#7201a8"
            ],
            [
             0.3333333333333333,
             "#9c179e"
            ],
            [
             0.4444444444444444,
             "#bd3786"
            ],
            [
             0.5555555555555556,
             "#d8576b"
            ],
            [
             0.6666666666666666,
             "#ed7953"
            ],
            [
             0.7777777777777778,
             "#fb9f3a"
            ],
            [
             0.8888888888888888,
             "#fdca26"
            ],
            [
             1,
             "#f0f921"
            ]
           ],
           "sequentialminus": [
            [
             0,
             "#0d0887"
            ],
            [
             0.1111111111111111,
             "#46039f"
            ],
            [
             0.2222222222222222,
             "#7201a8"
            ],
            [
             0.3333333333333333,
             "#9c179e"
            ],
            [
             0.4444444444444444,
             "#bd3786"
            ],
            [
             0.5555555555555556,
             "#d8576b"
            ],
            [
             0.6666666666666666,
             "#ed7953"
            ],
            [
             0.7777777777777778,
             "#fb9f3a"
            ],
            [
             0.8888888888888888,
             "#fdca26"
            ],
            [
             1,
             "#f0f921"
            ]
           ]
          },
          "colorway": [
           "#636efa",
           "#EF553B",
           "#00cc96",
           "#ab63fa",
           "#FFA15A",
           "#19d3f3",
           "#FF6692",
           "#B6E880",
           "#FF97FF",
           "#FECB52"
          ],
          "font": {
           "color": "#f2f5fa"
          },
          "geo": {
           "bgcolor": "rgb(17,17,17)",
           "lakecolor": "rgb(17,17,17)",
           "landcolor": "rgb(17,17,17)",
           "showlakes": true,
           "showland": true,
           "subunitcolor": "#506784"
          },
          "hoverlabel": {
           "align": "left"
          },
          "hovermode": "closest",
          "mapbox": {
           "style": "dark"
          },
          "paper_bgcolor": "rgb(17,17,17)",
          "plot_bgcolor": "rgb(17,17,17)",
          "polar": {
           "angularaxis": {
            "gridcolor": "#506784",
            "linecolor": "#506784",
            "ticks": ""
           },
           "bgcolor": "rgb(17,17,17)",
           "radialaxis": {
            "gridcolor": "#506784",
            "linecolor": "#506784",
            "ticks": ""
           }
          },
          "scene": {
           "xaxis": {
            "backgroundcolor": "rgb(17,17,17)",
            "gridcolor": "#506784",
            "gridwidth": 2,
            "linecolor": "#506784",
            "showbackground": true,
            "ticks": "",
            "zerolinecolor": "#C8D4E3"
           },
           "yaxis": {
            "backgroundcolor": "rgb(17,17,17)",
            "gridcolor": "#506784",
            "gridwidth": 2,
            "linecolor": "#506784",
            "showbackground": true,
            "ticks": "",
            "zerolinecolor": "#C8D4E3"
           },
           "zaxis": {
            "backgroundcolor": "rgb(17,17,17)",
            "gridcolor": "#506784",
            "gridwidth": 2,
            "linecolor": "#506784",
            "showbackground": true,
            "ticks": "",
            "zerolinecolor": "#C8D4E3"
           }
          },
          "shapedefaults": {
           "line": {
            "color": "#f2f5fa"
           }
          },
          "sliderdefaults": {
           "bgcolor": "#C8D4E3",
           "bordercolor": "rgb(17,17,17)",
           "borderwidth": 1,
           "tickwidth": 0
          },
          "ternary": {
           "aaxis": {
            "gridcolor": "#506784",
            "linecolor": "#506784",
            "ticks": ""
           },
           "baxis": {
            "gridcolor": "#506784",
            "linecolor": "#506784",
            "ticks": ""
           },
           "bgcolor": "rgb(17,17,17)",
           "caxis": {
            "gridcolor": "#506784",
            "linecolor": "#506784",
            "ticks": ""
           }
          },
          "title": {
           "x": 0.05
          },
          "updatemenudefaults": {
           "bgcolor": "#506784",
           "borderwidth": 0
          },
          "xaxis": {
           "automargin": true,
           "gridcolor": "#283442",
           "linecolor": "#506784",
           "ticks": "",
           "title": {
            "standoff": 15
           },
           "zerolinecolor": "#283442",
           "zerolinewidth": 2
          },
          "yaxis": {
           "automargin": true,
           "gridcolor": "#283442",
           "linecolor": "#506784",
           "ticks": "",
           "title": {
            "standoff": 15
           },
           "zerolinecolor": "#283442",
           "zerolinewidth": 2
          }
         }
        },
        "title": {
         "text": "Age Distribution by Gender and Survival"
        },
        "violinmode": "group",
        "xaxis": {
         "anchor": "y",
         "domain": [
          0,
          1
         ],
         "title": {
          "text": "sex"
         }
        },
        "yaxis": {
         "anchor": "x",
         "domain": [
          0,
          1
         ],
         "title": {
          "text": "age"
         }
        }
       }
      }
     },
     "metadata": {},
     "output_type": "display_data"
    }
   ],
   "source": [
    "px.violin(df, x='sex', y='age', color='survived', box=True,\n",
    "          title='Age Distribution by Gender and Survival', template='plotly_dark')"
   ]
  },
  {
   "cell_type": "code",
   "execution_count": 35,
   "metadata": {},
   "outputs": [
    {
     "data": {
      "application/vnd.plotly.v1+json": {
       "config": {
        "plotlyServerURL": "https://plot.ly"
       },
       "data": [
        {
         "coloraxis": "coloraxis",
         "histfunc": "sum",
         "hovertemplate": "age=%{x}<br>fare=%{y}<br>sum of survived=%{z}<extra></extra>",
         "name": "",
         "type": "histogram2d",
         "x": {
          "bdata": "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",
          "dtype": "f8"
         },
         "xaxis": "x",
         "xbingroup": "x",
         "y": {
          "bdata": "AAAAAAAAHUA8vVKWIdJRQDMzMzMzsx9AzczMzMyMSkCamZmZmRkgQHuDL0ym6iBAZmZmZmbuSUAzMzMzMxM1QBUdyeU/RCZAio7k8h8SPkAzMzMzM7MwQM3MzMzMjDpAmpmZmZkZIEBmZmZmZkY/QAn5oGezah9AAAAAAAAAMEAAAAAAACA9QAAAAAAAACpAAAAAAAAAMkBmZmZmZuYcQAAAAAAAADpAAAAAAAAAKkAeFmpN8w4gQAAAAAAAwEFAMzMzMzMTNUAzMzMzM2M/QGZmZmZm5hxAAAAAAABwcECjkjoBTYQfQPcGX5hMlR9A8fRKWYa4O0A4+MJkqlBiQAAAAAAAAB9AAAAAAAAAJUAJih9j7opUQAAAAAAAAEpACfmgZ7PqHECamZmZmRkgQAAAAAAAADJA6+I2GsB7JkAzMzMzM/MiQAAAAAAAADVA9wZfmEyVH0Du68A5I8pEQKOSOgFNhB9AmpmZmZkZIEAAAAAAAAAvQAAAAAAAAB9AdnEbDeCtNUDNzMzMzMwxQAAAAAAA2ENAMzMzMzMzH0CRD3o2qy5TQAAAAAAAADpAIR/0bFb9TkAAAAAAAMBBQAAAAAAAACVACfmgZ7PqHEAAAAAAAMA7QDMzMzMzc0dACfmgZ7PqHEAAAAAAAABUQGZmZmZm3lRAZmZmZmbmO0Dx9EpZhrg7QK62Yn/ZfS5AAAAAAAAAJUDi6ZWyDFEgQDMzMzMzsx9AMzMzMzNTIUAAAAAAAAAlQDMzMzMzc0dAAAAAAABgUkC4rwPnjOgsQKyt2F92P0xAmpmZmZmZHkD3Bl+YTJUfQJqZmZmZGSBAAAAAAAAAPUAzMzMzM/MoQAAAAAAAACJAAAAAAAAAI0BmZmZmZiYfQM3MzMzMjEdAAAAAAAAAJUAzMzMzM7MvQAAAAAAAMEFAmpmZmZkZIEAAAAAAAHBwQJqZmZmZGSBAmpmZmZkZIEAJ+aBns2ofQGZmZmZmlk5AMzMzMzOTNEAAAAAAAAAdQJqZmZmZGSBAiIVa07xTQUASFD/G3K1PQAAAAAAAADdAAAAAAAAAOkD3Bl+YTJUfQPcGX5hMlR9AZmZmZmZSU0AeFmpN804hQDMzMzMzsx9A9wZfmEyVH0CamZmZmZkeQJqZmZmZGR9A9wZfmEyVH0BmZmZmZiY4QAAAAAAAAEpAuK8D54zoLECamZmZmRkgQGZmZmZmpiNAe4MvTKbqLEAzMzMzM7MfQAAAAAAAAB9AAAAAAAAANUA4+MJkqvBuQGZmZmZmRj9AAAAAAABgUkCamZmZmRkgQIqO5PIfEj5AAAAAAAAAKkBmZmZmZlJTQOviNhrAeyZAAAAAAAAAH0BwXwfOGZEcQCQofoy5WzZAZmZmZmbmG0D3Bl+YTJUfQDMzMzMzMxxAAAAAAAAALUAAAAAAAAA6QAAAAAAAACpASFD8GHMXLkDx9EpZhkg6QM3MzMzMjEpAHhZqTfNuIkDNzMzMzMxTQK62Yn/ZfS5AAAAAAAAAH0AzMzMzM7MvQAAAAAAAABtAAAAAAAAAJ0AAAAAAAGBCQJCg+DHmLh9AAAAAAAAwQUAAAAAAAAA6QAAAAAAAACpAzczMzMwMKUBmZmZmZqZQQJqZmZmZGSBAAAAAAAAALUAAAAAAAEAdQFRSJ6CJsE5AkKD4MebuHkCamZmZmRkgQDMzMzMzUyFAMzMzMzNjUUCamZmZmRkwQAAAAAAAgC9AmpmZmZkZH0AzMzMzM1MhQAAAAAAA2ENAZmZmZmaGNEAAAAAAAIBLQGZmZmZm5jtAzczMzMzsOUCsrdhfdj9MQAAAAAAAwEBAAAAAAAAgPUAVHcnlP0QmQDMzMzMzsx9Aio7k8h+yPkAJ+aBns2ofQA8LtaZ5dzlAZmZmZma2PEAAAAAAAAAqQAAAAAAAAAAAMzMzMzNjUUCamZmZmRkuQDMzMzMzYz9AAAAAAACAQ0BmZmZmZgY2QAAAAAAAAElAAAAAAAAAL0DNzMzMzIw6QAAAAAAAAC9A9wZfmEyVH0AAAAAAAAAqQAAAAAAAACpACfmgZ7NqH0AAAAAAAAA6QPH0SlmGuDtAOPjCZKpQYkAAAAAAAAAfQB4Wak3zziBAAAAAAAAAH0AAAAAAAAAqQAAAAAAAACNAMzMzMzNjUUBdbcX+svsZQGZmZmZm5hxAmpmZmZkZIEDNzMzMzOwkQDMzMzMzsy9AmpmZmZnJMkAAAAAAAAAfQAAAAAAAAD9AMzMzMzMzHEAAAAAAAAA1QAAAAAAAAB1AAAAAAAAAKkAAAAAAAAAfQJqZmZmZUVxAMzMzMzOzH0AAAAAAAAA7QJEPejarElNAAAAAAAAAJUCamZmZmRkgQAAAAAAAACpAmpmZmZkZIED3Bl+YTJUfQAAAAAAAgFZAMzMzMzOzIkAAAAAAAAAlQAAAAAAAAB1AAAAAAAAAKkAPC7WmeXc5QGZmZmZm3lRAmpmZmZkZH0AAAAAAAAArQDMzMzMzYz9AAAAAAAAAJUAzMzMzMzMeQAAAAAAAADpAAAAAAABAOkAAAAAAAAAlQM3MzMzMjChAuK8D54zoLEAAAAAAAAAvQAAAAAAAACVAAAAAAACAHEBmZmZmZuYcQAAAAAAAgFZAmpmZmZkZH0AAAAAAAAAtQLu4jQbwRkpAAAAAAAAAOkAAAAAAAAAdQM3MzMzM7CRAzczMzMyMOkCamZmZmRkwQGZmZmZmNjRArrZif9l9LkDNzMzMzMxTQAAAAAAAoFVAvw6cM6ICgEAAAAAAAAA6QAAAAAAAAB9AMzMzMzNjP0CamZmZmelTQAAAAAAAAAAAAAAAAAAAH0AAAAAAAAAlQAAAAAAA2ENAmpmZmZkZH0DNzMzMzC5jQNGRXP5D9GBAAAAAAAAAP0AAAAAAAAAAAAAAAAAAgDNAMzMzMzOzPUAAAAAAAAAfQG/whclUfVNAAAAAAAAAH0AAAAAAAAAAAAAAAAAAID1AAAAAAABANEAAAAAAAAAfQAn5oGezah9AAAAAAAAAI0CamZmZmRkgQAAAAAAAADpAMzMzMzNTIUAAAAAAAAAjQPcGX5hMlR9AAAAAAAAAKkAAAAAAAAAfQGZmZmZmtlNA93XgnBHFVkAAAAAAAMApQDMzMzMzsyFA9wZfmEyVH0Dx9EpZhrg7QAn5oGez6hxAmpmZmZnxYkAAAAAAAIA+QDj4wmSq8G5AAAAAAAAAH0AAAAAAAEA3QAAAAAAAAAAAMzMzMzOzKECamZmZmRkgQJqZmZmZ8WJAoyO5/Ie4W0CamZmZmTlbQAAAAAAAADhAu7iNBvB2TEA8vVKWIcpUQAAAAAAAZnBAAAAAAAAAOkD3Bl+YTJUfQAAAAAAAQDpACfmgZ7NqH0AAAAAAAAA6QAAAAAAAACxAL26jAbybZEAAAAAAANBgQAAAAAAAAB1A9wZfmEyVH0AzMzMzM7MoQAAAAAAAAD1AMzMzMzNjUUDRkVz+Q/RgQDMzMzMz8xhAAAAAAAAAKkBmZmZmZoY0QCEf9GxW/UxAAAAAAABAN0AAAAAAAIA8QM3MzMzMLmNAAAAAAAAAMkDNzMzMzLRgQPcGX5hMlR9AZmZmZmamUEAAAAAAANBgQJqZmZmZGSBAAAAAAADAQUAAAAAAAAA6QAAAAAAAcHBAAAAAAAAAKkAAAAAAAAAqQAAAAAAAACpAAAAAAAAAKkAAAAAAAAAqQJqZmZmZGTBAzczMzMzML0AzMzMzM1MhQDMzMzMzcyJAAAAAAACAQUAJ+aBns+ocQM3MzMzMzDFAZmZmZmbmHEAAAAAAAAAjQAAAAAAAgEtAAAAAAAAAKkCjkjoBTYQfQKOSOgFNhB9AZmZmZmbmO0Dx9EpZhrg7QLivA+eM6CxAMzMzMzMzHEAAAAAAAAAvQAAAAAAAAB1AAAAAAADQUkAJ+aBns+ocQAAAAAAAAB9AMzMzMzNTUUBUUiegibhLQF1txf6y+xlAmpmZmZkZIEDRkVz+Q/RgQDMzMzMzEzVACYofY+6KVEAAAAAAAAAdQAAAAAAAcGpAzczMzMwMEECamZmZmRkfQM3MzMzMcGxA6+I2GsB7L0AzMzMzM7MfQAAAAAAAAEpA9wZfmEyVH0AAAAAAAGBSQDMzMzMzc0dAAAAAAAAAKkAJ+aBns+oeQAAAAAAAAChAAAAAAAAAXkCQoPgx5i4fQDMzMzMzsx9AmpmZmZlRXEAzMzMzM7MwQJCg+DHmLh9ACfmgZ7NqH0AAAAAAAAA6QAAAAAAAACVAzczMzMxMKUAzMzMzM7MfQJqZmZmZGSBAZmZmZmamI0AzMzMzM7MvQDMzMzMzUyFAAAAAAAAANUAAAAAAAAAfQAAAAAAAwDJAmpmZmZkZH0APC7WmeXc5QPcGX5hMlR9AkKD4MeZuG0AAAAAAAIBWQAAAAAAAAAAAMzMzMzOzH0CamZmZmRkgQAAAAAAAQEBAAAAAAAAAKkAAAAAAAAAqQGZmZmZmJjhA9wZfmEyVH0CQoPgx5u4eQAAAAAAAgB9AzczMzMzMLEBmZmZmZjY0QAAAAAAAAB1AAAAAAAAAOkAAAAAAAAA6QAAAAAAAAB9AmpmZmZkZIEDNzMzMzIw6QJqZmZmZGTBAAAAAAAAAOkAAAAAAAIAcQDMzMzMz80tAAAAAAAAAXkAAAAAAADBBQAAAAAAAwDJAAAAAAABwcEAAAAAAAAAlQAAAAAAAQDpAAAAAAAAAI0CamZmZmRkfQAAAAAAAACpAmpmZmZk5IEAJih9j7nZUQAAAAAAAgDNAzczMzMyMOkCKjuTyH0IzQAAAAAAAgD5AAAAAAADAO0APC7WmefczQAAAAAAAwDtAkQ96NqtGVkCamZmZmRkgQPcGX5hMlR9AzczMzMyMOkBmZmZmZu5JQAAAAAAAACVAAAAAAAAAH0DNzMzMzIw6QJqZmZmZGSBAAAAAAABAQ0AAAAAAAAAqQJqZmZmZGSBAMzMzMzMzHEAAAAAAAAAAAM3MzMzMjDpAZmZmZmbmHkCKjuTyH0IzQAAAAAAAAB1AMzMzMzNTIUAAAAAAAMA7QIV80LNZlStAzczMzMysI0AAAAAAAABKQAAAAAAAADVAkKD4MeYuHED3Bl+YTBUeQDMzMzMzkyhAMzMzMzNzR0AAAAAAAAAAAJqZmZmZGSBAzczMzMwsI0D3deCcEcVWQA8LtaZ5dzlAAAAAAACAVkAzMzMzM7M9QJqZmZmZGSBAzczMzMzML0APC7WmefczQAAAAAAAAB1AAAAAAACAPkBUUiegicBIQJqZmZmZGSBAe4MvTKbqLED3deCcEZFTQDMzMzMzMy5AmpmZmZnxYkCQoPgx5i4fQDMzMzMzUyFAAAAAAAAAH0CjkjoBTYQeQM3MzMzMLCNAAAAAAACgVUCamZmZmTlbQAAAAAAAADpAzczMzMyMOkBmZmZmZoY2QKyt2F92P0xAAAAAAAAAH0CamZmZmRkgQJqZmZmZSTpAMzMzMzOzTUBdbcX+svsdQN/gC5OpAkFAAAAAAAAAJUBmZmZmZiY4QAAAAAAAADpA9wZfmEyVH0AAAAAAAGBXQPcGX5hMlR9AZmZmZmbmHEAhH/RsVv1MQAn5oGez6hxAAAAAAAAAH0AAAAAAAAAlQGKh1jTvuGtAMzMzMzOzH0AAAAAAAAAnQAAAAAAAADpACfmgZ7PqHEAJ+aBns+ocQCQofoy5WzZAMzMzMzNTIUAAAAAAAEA6QM3MzMzMjDpAMzMzMzObWkAAAAAAAAAtQAAAAAAAwEhAAAAAAADAUUBmZmZmZkY/QGZmZmZmRj9AAAAAAAAAOkAzMzMzM5taQAAAAAAAADpAAAAAAAAAOkCamZmZmbkrQGZmZmZmhjRAAAAAAABgQkCjI7n8h7hbQAAAAAAAADpAcF8HzhlRH0BmZmZmZuYcQJqZmZmZGR9AzczMzMyMOkDNzMzMzMxDQM3MzMzMcGxAmpmZmZnpU0BmZmZmZmYxQAAAAAAAAB9A9wZfmEyVH0AAAAAAAAArQJqZmZmZGSBAmpmZmZkZIEBmZmZmZiY4QPcGX5hMlR9AMzMzMzMTNUAJ+aBns+ocQAn5oGezah9AAAAAAAAAJUAhH/RsVr1JQDMzMzMzYzpAAAAAAAAAH0CamZmZmRkgQAAAAAAAAC1AAAAAAAAAKkAzMzMzM/NLQHuDL0ym6ixAMzMzMzOzH0AAAAAAAAA+QKMjufyHuFtAAAAAAAAAOkAAAAAAABBEQM3MzMzMbCFAmpmZmZnpU0AAAAAAAAAuQM3MzMzMzFNAmpmZmZkZIECamZmZmRkgQAAAAAAAgBxA93XgnBGRU0AAAAAAAAAdQAAAAAAAAB9AAAAAAAAAOkBmZmZmZiY4QAAAAAAAgEBAAAAAAAAAAABmZmZmZuYcQLu4jQbwdkxAAAAAAAAAO0D3Bl+YTJUfQDMzMzMzM0VAmpmZmZkZIEDNzMzMzIw6QJqZmZmZGS9A9wZfmEyVH0AAAAAAAIA+QO7rwDkjykRAzczMzMwuY0BmZmZmZkY/QDMzMzMzMxxAAAAAAAAAL0AAAAAAAAAfQJqZmZmZGSBAAAAAAABAUEDNzMzMzMwsQJqZmZmZGTBAAAAAAACAQ0AAAAAAAAAlQLivA+eM6CxAu7iNBvBGSkDr4jYawHsvQAn5oGezah9AmpmZmZkZMEBFR3L5DylAQDMzMzMzsyhAb/CFyVR9U0D3Bl+YTJUfQJCg+DHm7h5AAAAAAAAAPkDWxW00gDccQAAAAAAAgD5AAAAAAAAAAABmZmZmZuY7QAAAAAAAACpAMzMzMzOzH0AAAAAAAEA6QAAAAAAA2ENAmpmZmZkZMEAJ+aBns2ofQDMzMzMzU1FAZmZmZmbmO0Csrdhfdj9MQIqO5PIfQjNAkQ96NqsuU0D3Bl+YTJUfQAAAAAAAwEFAMzMzMzMzHkAzMzMzMzMeQPcGX5hMlR9AAAAAAAAAN0CutmJ/2d0gQHBfB84ZUR9AAAAAAAAAG0AAAAAAAGBSQPcGX5hMlR9AAAAAAAAAL0AAAAAAAAAqQJqZmZmZUVxAzczMzMy0YEBmZmZmZuYcQGZmZmZmljlAXW3F/rL7HUAzMzMzM7MfQAAAAAAAYFJAAAAAAAAAKkCamZmZmRkfQJqZmZmZGSBAAAAAAAAASkAAAAAAAIBDQAAAAAAAAEpAAAAAAAAAJUAAAAAAAAAqQAAAAAAAAAAAmpmZmZkZH0CamZmZmRkgQB4Wak3zriNAMzMzMzNzR0C/DpwzogKAQGZmZmZmRiBAkQ96NqsuU0AzMzMzM3MiQDMzMzMzc0dAAAAAAACAQ0Du68A5I8pEQAAAAAAA2ENASFD8GHNXJECQoPgx5i4fQM3MzMzMampAAAAAAACATECFfNCzWdUqQKyt2F92P0xAZmZmZmbmHEDNzMzMzIw6QAAAAAAAACtAmpmZmZkZIECQoPgx5u4eQKMjufyHuFtAmpmZmZmZHkDNzMzMzHBsQJqZmZmZSTpAuK8D54zoLEDWxW00gPceQAn5oGezah9AAAAAAAAAOkAAAAAAAAArQJqZmZmZSTpAmpmZmZnxYkCutmJ/2X0uQFRSJ6CJwEhAzczMzMyMOkAAAAAAAABKQEhQ/Bhz9yJAAAAAAAAAKkCamZmZmZkeQM3MzMzMcGxAAAAAAAAAJUAAAAAAAAAvQJqZmZmZGR9AAAAAAACAQEDWxW00gDccQAAAAAAAACpAAAAAAAAAKkDNzMzMzIxKQDMzMzMzUyFAAAAAAAAANUAzMzMzM/MeQAAAAAAAADpAMzMzMzOzH0DNzMzMzGpqQJqZmZmZyTJAAAAAAAAAAAAAAAAAAAAqQAAAAAAAACpAmpmZmZkZMEAAAAAAADBBQL8OnDOiAoBA9wZfmEyVH0D3Bl+YTJUfQAAAAAAAAD5AZmZmZma2U0AAAAAAAGZwQJqZmZmZGTBAMzMzMzOzH0AAAAAAAMBRQAAAAAAAQDRAAAAAAAAAKkDNzMzMzIxKQAAAAAAAAB9AAAAAAAAAN0AzMzMzM/MoQAAAAAAAACNA9wZfmEyVH0AAAAAAAEBQQAAAAAAAAC1AkKD4MeYuH0AAAAAAAAAnQJqZmZmZGSBAAAAAAACgVUAAAAAAAAAtQAAAAAAAgBxACfmgZ7PqHEAAAAAAAABeQJqZmZmZGR9Ab/CFyVR9U0DNzMzMzMxDQAAAAAAAAB9AZmZmZmYmOECamZmZmbkgQAAAAAAAACNACfmgZ7NqH0AAAAAAAAAlQGZmZmZm5hxAAAAAAAAAN0AAAAAAAAAfQAAAAAAAAB9AMzMzMzPzKEAzMzMzM/MeQM3MzMzMampACfmgZ7PqHEAAAAAAAIBMQAAAAAAAAD5AMzMzMzNzN0AzMzMzMzMcQAAAAAAAAB1AXW3F/rL7HUAAAAAAACA9QDMzMzMzkzRAzczMzMzMU0AAAAAAAAAfQAAAAAAAADpAMzMzMzNjUUCKjuTyH7I+QPcGX5hMlR9AAAAAAAAAKkB2cRsN4O05QK62Yn/ZXSFACfmgZ7PqHEBmZmZmZiY4QAAAAAAAACpAAAAAAABAOkAAAAAAAABeQLivA+eMCCFAZmZmZmbmG0CamZmZmRkfQAAAAAAAAAAAmpmZmZkZH0AAAAAAAAAqQM3MzMzMjEpAzczMzMyMH0BmZmZmZiY4QAAAAAAAACVAZmZmZmZGP0CamZmZmRkgQAAAAAAAAAAAMzMzMzOzH0BUUiegiYBCQM3MzMzMzBlAZmZmZmbmO0AAAAAAAGBXQDMzMzMzUyFAAAAAAAAAAAAzMzMzM/MoQAAAAAAA2ENAzczMzMzMG0Csrdhfdj9MQFRSJ6CJgEJAAAAAAAAAH0AAAAAAAABUQLivA+eM6CxAAAAAAADAMkAJ+aBns+ocQAn5oGezah9AmpmZmZmZIEA8vVKWIcpUQDMzMzMzUyFAmpmZmZkZIECsrdhfdj9MQDMzMzMzsz1AMzMzMzOzH0AAAAAAAAAlQAAAAAAAAD9AAAAAAADAGUAzMzMzM1MhQDMzMzMzMx5AMzMzMzNjUUD3Bl+YTJUfQAAAAAAAgEBAkQ96NqtGVkBmZmZmZkY/QJqZmZmZGR9ArrZif9l9LkAzMzMzM7NDQAAAAAAAADpAMzMzMzOzIkAvbqMBvJtkQM3MzMzMjDpAio7k8h9CM0AJ+aBns+ocQEhQ/BhzNyxAAAAAAAAAJ0B2cRsN4O05QDMzMzMzY1FAAAAAAAAAKkAAAAAAAAAqQEhQ/BhztytArK3YX3Y/SUAAAAAAAAAjQBUdyeU/RCZA9wZfmEyVH0C7uI0G8EZKQAAAAAAAABRAAAAAAAAAIkAAAAAAAAA4QGZmZmZm5hxA4umVsgyxI0D3Bl+YTJUfQPcGX5hMlR9APL1SliHKVEAAAAAAAAA6QPcGX5hMlR9AuK8D54wIJUAAAAAAAAAlQDMzMzMzMxxAAAAAAAAgPUAAAAAAAAAqQAAAAAAAAD5AMzMzMzNzN0AAAAAAAAA+QAAAAAAAAB9A",
          "dtype": "f8"
         },
         "yaxis": "y",
         "ybingroup": "y",
         "z": {
          "bdata": "AAEBAQAAAAABAQEBAAAAAQABAAEAAQEBAAEAAAEAAAEBAAAAAQAAAQAAAAEBAAABAAAAAAEBAAEBAAEAAAEAAAABAQABAAAAAAABAAAAAQEAAQEAAQEAAAEAAAAAAAAAAAEBAAAAAAAAAAEBAAEAAAAAAAAAAAAAAAAAAQABAAEBAAAAAAEAAAEAAAAAAQEAAAABAAAAAAEAAAAAAQAAAAABAAAAAQEAAAAAAAEAAAAAAAAAAAAAAQEAAQEAAAEAAQEBAQAAAQAAAAAAAQAAAQEBAAEAAAABAQABAAEAAAABAAEAAAABAAABAAAAAQAAAAEAAAAAAAEBAAAAAAAAAQEBAQEAAQAAAAAAAQEBAAEBAAEBAAAAAQAAAAEAAAEAAQEBAQAAAAAAAAEBAQEAAQABAQEAAQEBAAAAAQEAAQEAAAEBAAEAAQEBAQAAAAEAAAEBAAEBAAAAAQEBAQAAAAAAAAABAAEBAAAAAAAAAQEBAQEAAAAAAQEAAAABAQABAAAAAQABAQEAAQEAAAAAAQEAAAAAAAABAAAAAAEAAQABAQAAAAAAAAAAAQEAAQEBAQAAAQABAAABAAABAQEBAQEBAAAAAQABAAEBAAEAAAAAAAAAAAEAAAEBAAAAAAABAAAAAQEAAQAAAQAAAAAAAAEAAAAAAAAAAQABAQABAQABAQAAAQABAAEAAAEAAAEAAAABAAABAAEAAQABAQAAAQAAAQEAAQEAAAEBAAEAAQEAAAAAAAAAAAABAQEBAQAAAQEAAQEBAAAAAQABAAAAAQAAAAABAAABAQAAAAEAAAEBAQAAAQAAAQAAAQAAAQEAAAAAAQAAAQABAAABAAAAAAABAAEBAQABAAEAAQABAAAAAAAAAQAAAAEAAAAAAQEAAAEAAAABAAEAAQAAAAAAAAABAQEBAAAAAAEAAAEBAAAAAAEBAQEBAAEAAAABAQAAAQAAAAEAAQEAAAEAAAAAAAABAAABAAEAAQAAAQAAAQEAAAEBAAAAAQAAAQEAAQAAAAAAAAAAAQAAAQABAQEAAAAAAQABAAAAAAAAAAEBAAAAAQEBAQAAAAABAAAAAAAAAAAAAAEBAAEAAAABAQEBAQAAAAEAAAEBAAABAAAAAAAAAQAAAAEAAQEBAQAAAAEAAAEBAAABAAEAAAEBAAAAAQEAAAAAAAABAAEA",
          "dtype": "i1"
         }
        }
       ],
       "layout": {
        "coloraxis": {
         "colorbar": {
          "title": {
           "text": "sum of survived"
          }
         },
         "colorscale": [
          [
           0,
           "#0d0887"
          ],
          [
           0.1111111111111111,
           "#46039f"
          ],
          [
           0.2222222222222222,
           "#7201a8"
          ],
          [
           0.3333333333333333,
           "#9c179e"
          ],
          [
           0.4444444444444444,
           "#bd3786"
          ],
          [
           0.5555555555555556,
           "#d8576b"
          ],
          [
           0.6666666666666666,
           "#ed7953"
          ],
          [
           0.7777777777777778,
           "#fb9f3a"
          ],
          [
           0.8888888888888888,
           "#fdca26"
          ],
          [
           1,
           "#f0f921"
          ]
         ]
        },
        "legend": {
         "tracegroupgap": 0
        },
        "template": {
         "data": {
          "bar": [
           {
            "error_x": {
             "color": "#f2f5fa"
            },
            "error_y": {
             "color": "#f2f5fa"
            },
            "marker": {
             "line": {
              "color": "rgb(17,17,17)",
              "width": 0.5
             },
             "pattern": {
              "fillmode": "overlay",
              "size": 10,
              "solidity": 0.2
             }
            },
            "type": "bar"
           }
          ],
          "barpolar": [
           {
            "marker": {
             "line": {
              "color": "rgb(17,17,17)",
              "width": 0.5
             },
             "pattern": {
              "fillmode": "overlay",
              "size": 10,
              "solidity": 0.2
             }
            },
            "type": "barpolar"
           }
          ],
          "carpet": [
           {
            "aaxis": {
             "endlinecolor": "#A2B1C6",
             "gridcolor": "#506784",
             "linecolor": "#506784",
             "minorgridcolor": "#506784",
             "startlinecolor": "#A2B1C6"
            },
            "baxis": {
             "endlinecolor": "#A2B1C6",
             "gridcolor": "#506784",
             "linecolor": "#506784",
             "minorgridcolor": "#506784",
             "startlinecolor": "#A2B1C6"
            },
            "type": "carpet"
           }
          ],
          "choropleth": [
           {
            "colorbar": {
             "outlinewidth": 0,
             "ticks": ""
            },
            "type": "choropleth"
           }
          ],
          "contour": [
           {
            "colorbar": {
             "outlinewidth": 0,
             "ticks": ""
            },
            "colorscale": [
             [
              0,
              "#0d0887"
             ],
             [
              0.1111111111111111,
              "#46039f"
             ],
             [
              0.2222222222222222,
              "#7201a8"
             ],
             [
              0.3333333333333333,
              "#9c179e"
             ],
             [
              0.4444444444444444,
              "#bd3786"
             ],
             [
              0.5555555555555556,
              "#d8576b"
             ],
             [
              0.6666666666666666,
              "#ed7953"
             ],
             [
              0.7777777777777778,
              "#fb9f3a"
             ],
             [
              0.8888888888888888,
              "#fdca26"
             ],
             [
              1,
              "#f0f921"
             ]
            ],
            "type": "contour"
           }
          ],
          "contourcarpet": [
           {
            "colorbar": {
             "outlinewidth": 0,
             "ticks": ""
            },
            "type": "contourcarpet"
           }
          ],
          "heatmap": [
           {
            "colorbar": {
             "outlinewidth": 0,
             "ticks": ""
            },
            "colorscale": [
             [
              0,
              "#0d0887"
             ],
             [
              0.1111111111111111,
              "#46039f"
             ],
             [
              0.2222222222222222,
              "#7201a8"
             ],
             [
              0.3333333333333333,
              "#9c179e"
             ],
             [
              0.4444444444444444,
              "#bd3786"
             ],
             [
              0.5555555555555556,
              "#d8576b"
             ],
             [
              0.6666666666666666,
              "#ed7953"
             ],
             [
              0.7777777777777778,
              "#fb9f3a"
             ],
             [
              0.8888888888888888,
              "#fdca26"
             ],
             [
              1,
              "#f0f921"
             ]
            ],
            "type": "heatmap"
           }
          ],
          "histogram": [
           {
            "marker": {
             "pattern": {
              "fillmode": "overlay",
              "size": 10,
              "solidity": 0.2
             }
            },
            "type": "histogram"
           }
          ],
          "histogram2d": [
           {
            "colorbar": {
             "outlinewidth": 0,
             "ticks": ""
            },
            "colorscale": [
             [
              0,
              "#0d0887"
             ],
             [
              0.1111111111111111,
              "#46039f"
             ],
             [
              0.2222222222222222,
              "#7201a8"
             ],
             [
              0.3333333333333333,
              "#9c179e"
             ],
             [
              0.4444444444444444,
              "#bd3786"
             ],
             [
              0.5555555555555556,
              "#d8576b"
             ],
             [
              0.6666666666666666,
              "#ed7953"
             ],
             [
              0.7777777777777778,
              "#fb9f3a"
             ],
             [
              0.8888888888888888,
              "#fdca26"
             ],
             [
              1,
              "#f0f921"
             ]
            ],
            "type": "histogram2d"
           }
          ],
          "histogram2dcontour": [
           {
            "colorbar": {
             "outlinewidth": 0,
             "ticks": ""
            },
            "colorscale": [
             [
              0,
              "#0d0887"
             ],
             [
              0.1111111111111111,
              "#46039f"
             ],
             [
              0.2222222222222222,
              "#7201a8"
             ],
             [
              0.3333333333333333,
              "#9c179e"
             ],
             [
              0.4444444444444444,
              "#bd3786"
             ],
             [
              0.5555555555555556,
              "#d8576b"
             ],
             [
              0.6666666666666666,
              "#ed7953"
             ],
             [
              0.7777777777777778,
              "#fb9f3a"
             ],
             [
              0.8888888888888888,
              "#fdca26"
             ],
             [
              1,
              "#f0f921"
             ]
            ],
            "type": "histogram2dcontour"
           }
          ],
          "mesh3d": [
           {
            "colorbar": {
             "outlinewidth": 0,
             "ticks": ""
            },
            "type": "mesh3d"
           }
          ],
          "parcoords": [
           {
            "line": {
             "colorbar": {
              "outlinewidth": 0,
              "ticks": ""
             }
            },
            "type": "parcoords"
           }
          ],
          "pie": [
           {
            "automargin": true,
            "type": "pie"
           }
          ],
          "scatter": [
           {
            "marker": {
             "line": {
              "color": "#283442"
             }
            },
            "type": "scatter"
           }
          ],
          "scatter3d": [
           {
            "line": {
             "colorbar": {
              "outlinewidth": 0,
              "ticks": ""
             }
            },
            "marker": {
             "colorbar": {
              "outlinewidth": 0,
              "ticks": ""
             }
            },
            "type": "scatter3d"
           }
          ],
          "scattercarpet": [
           {
            "marker": {
             "colorbar": {
              "outlinewidth": 0,
              "ticks": ""
             }
            },
            "type": "scattercarpet"
           }
          ],
          "scattergeo": [
           {
            "marker": {
             "colorbar": {
              "outlinewidth": 0,
              "ticks": ""
             }
            },
            "type": "scattergeo"
           }
          ],
          "scattergl": [
           {
            "marker": {
             "line": {
              "color": "#283442"
             }
            },
            "type": "scattergl"
           }
          ],
          "scattermap": [
           {
            "marker": {
             "colorbar": {
              "outlinewidth": 0,
              "ticks": ""
             }
            },
            "type": "scattermap"
           }
          ],
          "scattermapbox": [
           {
            "marker": {
             "colorbar": {
              "outlinewidth": 0,
              "ticks": ""
             }
            },
            "type": "scattermapbox"
           }
          ],
          "scatterpolar": [
           {
            "marker": {
             "colorbar": {
              "outlinewidth": 0,
              "ticks": ""
             }
            },
            "type": "scatterpolar"
           }
          ],
          "scatterpolargl": [
           {
            "marker": {
             "colorbar": {
              "outlinewidth": 0,
              "ticks": ""
             }
            },
            "type": "scatterpolargl"
           }
          ],
          "scatterternary": [
           {
            "marker": {
             "colorbar": {
              "outlinewidth": 0,
              "ticks": ""
             }
            },
            "type": "scatterternary"
           }
          ],
          "surface": [
           {
            "colorbar": {
             "outlinewidth": 0,
             "ticks": ""
            },
            "colorscale": [
             [
              0,
              "#0d0887"
             ],
             [
              0.1111111111111111,
              "#46039f"
             ],
             [
              0.2222222222222222,
              "#7201a8"
             ],
             [
              0.3333333333333333,
              "#9c179e"
             ],
             [
              0.4444444444444444,
              "#bd3786"
             ],
             [
              0.5555555555555556,
              "#d8576b"
             ],
             [
              0.6666666666666666,
              "#ed7953"
             ],
             [
              0.7777777777777778,
              "#fb9f3a"
             ],
             [
              0.8888888888888888,
              "#fdca26"
             ],
             [
              1,
              "#f0f921"
             ]
            ],
            "type": "surface"
           }
          ],
          "table": [
           {
            "cells": {
             "fill": {
              "color": "#506784"
             },
             "line": {
              "color": "rgb(17,17,17)"
             }
            },
            "header": {
             "fill": {
              "color": "#2a3f5f"
             },
             "line": {
              "color": "rgb(17,17,17)"
             }
            },
            "type": "table"
           }
          ]
         },
         "layout": {
          "annotationdefaults": {
           "arrowcolor": "#f2f5fa",
           "arrowhead": 0,
           "arrowwidth": 1
          },
          "autotypenumbers": "strict",
          "coloraxis": {
           "colorbar": {
            "outlinewidth": 0,
            "ticks": ""
           }
          },
          "colorscale": {
           "diverging": [
            [
             0,
             "#8e0152"
            ],
            [
             0.1,
             "#c51b7d"
            ],
            [
             0.2,
             "#de77ae"
            ],
            [
             0.3,
             "#f1b6da"
            ],
            [
             0.4,
             "#fde0ef"
            ],
            [
             0.5,
             "#f7f7f7"
            ],
            [
             0.6,
             "#e6f5d0"
            ],
            [
             0.7,
             "#b8e186"
            ],
            [
             0.8,
             "#7fbc41"
            ],
            [
             0.9,
             "#4d9221"
            ],
            [
             1,
             "#276419"
            ]
           ],
           "sequential": [
            [
             0,
             "#0d0887"
            ],
            [
             0.1111111111111111,
             "#46039f"
            ],
            [
             0.2222222222222222,
             "#7201a8"
            ],
            [
             0.3333333333333333,
             "#9c179e"
            ],
            [
             0.4444444444444444,
             "#bd3786"
            ],
            [
             0.5555555555555556,
             "#d8576b"
            ],
            [
             0.6666666666666666,
             "#ed7953"
            ],
            [
             0.7777777777777778,
             "#fb9f3a"
            ],
            [
             0.8888888888888888,
             "#fdca26"
            ],
            [
             1,
             "#f0f921"
            ]
           ],
           "sequentialminus": [
            [
             0,
             "#0d0887"
            ],
            [
             0.1111111111111111,
             "#46039f"
            ],
            [
             0.2222222222222222,
             "#7201a8"
            ],
            [
             0.3333333333333333,
             "#9c179e"
            ],
            [
             0.4444444444444444,
             "#bd3786"
            ],
            [
             0.5555555555555556,
             "#d8576b"
            ],
            [
             0.6666666666666666,
             "#ed7953"
            ],
            [
             0.7777777777777778,
             "#fb9f3a"
            ],
            [
             0.8888888888888888,
             "#fdca26"
            ],
            [
             1,
             "#f0f921"
            ]
           ]
          },
          "colorway": [
           "#636efa",
           "#EF553B",
           "#00cc96",
           "#ab63fa",
           "#FFA15A",
           "#19d3f3",
           "#FF6692",
           "#B6E880",
           "#FF97FF",
           "#FECB52"
          ],
          "font": {
           "color": "#f2f5fa"
          },
          "geo": {
           "bgcolor": "rgb(17,17,17)",
           "lakecolor": "rgb(17,17,17)",
           "landcolor": "rgb(17,17,17)",
           "showlakes": true,
           "showland": true,
           "subunitcolor": "#506784"
          },
          "hoverlabel": {
           "align": "left"
          },
          "hovermode": "closest",
          "mapbox": {
           "style": "dark"
          },
          "paper_bgcolor": "rgb(17,17,17)",
          "plot_bgcolor": "rgb(17,17,17)",
          "polar": {
           "angularaxis": {
            "gridcolor": "#506784",
            "linecolor": "#506784",
            "ticks": ""
           },
           "bgcolor": "rgb(17,17,17)",
           "radialaxis": {
            "gridcolor": "#506784",
            "linecolor": "#506784",
            "ticks": ""
           }
          },
          "scene": {
           "xaxis": {
            "backgroundcolor": "rgb(17,17,17)",
            "gridcolor": "#506784",
            "gridwidth": 2,
            "linecolor": "#506784",
            "showbackground": true,
            "ticks": "",
            "zerolinecolor": "#C8D4E3"
           },
           "yaxis": {
            "backgroundcolor": "rgb(17,17,17)",
            "gridcolor": "#506784",
            "gridwidth": 2,
            "linecolor": "#506784",
            "showbackground": true,
            "ticks": "",
            "zerolinecolor": "#C8D4E3"
           },
           "zaxis": {
            "backgroundcolor": "rgb(17,17,17)",
            "gridcolor": "#506784",
            "gridwidth": 2,
            "linecolor": "#506784",
            "showbackground": true,
            "ticks": "",
            "zerolinecolor": "#C8D4E3"
           }
          },
          "shapedefaults": {
           "line": {
            "color": "#f2f5fa"
           }
          },
          "sliderdefaults": {
           "bgcolor": "#C8D4E3",
           "bordercolor": "rgb(17,17,17)",
           "borderwidth": 1,
           "tickwidth": 0
          },
          "ternary": {
           "aaxis": {
            "gridcolor": "#506784",
            "linecolor": "#506784",
            "ticks": ""
           },
           "baxis": {
            "gridcolor": "#506784",
            "linecolor": "#506784",
            "ticks": ""
           },
           "bgcolor": "rgb(17,17,17)",
           "caxis": {
            "gridcolor": "#506784",
            "linecolor": "#506784",
            "ticks": ""
           }
          },
          "title": {
           "x": 0.05
          },
          "updatemenudefaults": {
           "bgcolor": "#506784",
           "borderwidth": 0
          },
          "xaxis": {
           "automargin": true,
           "gridcolor": "#283442",
           "linecolor": "#506784",
           "ticks": "",
           "title": {
            "standoff": 15
           },
           "zerolinecolor": "#283442",
           "zerolinewidth": 2
          },
          "yaxis": {
           "automargin": true,
           "gridcolor": "#283442",
           "linecolor": "#506784",
           "ticks": "",
           "title": {
            "standoff": 15
           },
           "zerolinecolor": "#283442",
           "zerolinewidth": 2
          }
         }
        },
        "title": {
         "text": "Age vs Fare Heatmap"
        },
        "xaxis": {
         "anchor": "y",
         "domain": [
          0,
          1
         ],
         "title": {
          "text": "age"
         }
        },
        "yaxis": {
         "anchor": "x",
         "domain": [
          0,
          1
         ],
         "title": {
          "text": "fare"
         }
        }
       }
      }
     },
     "metadata": {},
     "output_type": "display_data"
    }
   ],
   "source": [
    "px.density_heatmap(df, x='age', y='fare', z='survived',\n",
    "                   title='Age vs Fare Heatmap', template='plotly_dark')"
   ]
  },
  {
   "cell_type": "code",
   "execution_count": 36,
   "metadata": {},
   "outputs": [
    {
     "data": {
      "application/vnd.plotly.v1+json": {
       "config": {
        "plotlyServerURL": "https://plot.ly"
       },
       "data": [
        {
         "hovertemplate": "age=%{x}<br>fare=%{y}<br>sibsp=%{marker.size}<br>survived=%{marker.color}<extra></extra>",
         "legendgroup": "",
         "marker": {
          "color": {
           "bdata": "AAEBAQAAAAABAQEBAAAAAQABAAEAAQEBAAEAAAEAAAEBAAAAAQAAAQAAAAEBAAABAAAAAAEBAAEBAAEAAAEAAAABAQABAAAAAAABAAAAAQEAAQEAAQEAAAEAAAAAAAAAAAEBAAAAAAAAAAEBAAEAAAAAAAAAAAAAAAAAAQABAAEBAAAAAAEAAAEAAAAAAQEAAAABAAAAAAEAAAAAAQAAAAABAAAAAQEAAAAAAAEAAAAAAAAAAAAAAQEAAQEAAAEAAQEBAQAAAQAAAAAAAQAAAQEBAAEAAAABAQABAAEAAAABAAEAAAABAAABAAAAAQAAAAEAAAAAAAEBAAAAAAAAAQEBAQEAAQAAAAAAAQEBAAEBAAEBAAAAAQAAAAEAAAEAAQEBAQAAAAAAAAEBAQEAAQABAQEAAQEBAAAAAQEAAQEAAAEBAAEAAQEBAQAAAAEAAAEBAAEBAAAAAQEBAQAAAAAAAAABAAEBAAAAAAAAAQEBAQEAAAAAAQEAAAABAQABAAAAAQABAQEAAQEAAAAAAQEAAAAAAAABAAAAAAEAAQABAQAAAAAAAAAAAQEAAQEBAQAAAQABAAABAAABAQEBAQEBAAAAAQABAAEBAAEAAAAAAAAAAAEAAAEBAAAAAAABAAAAAQEAAQAAAQAAAAAAAAEAAAAAAAAAAQABAQABAQABAQAAAQABAAEAAAEAAAEAAAABAAABAAEAAQABAQAAAQAAAQEAAQEAAAEBAAEAAQEAAAAAAAAAAAABAQEBAQAAAQEAAQEBAAAAAQABAAAAAQAAAAABAAABAQAAAAEAAAEBAQAAAQAAAQAAAQAAAQEAAAAAAQAAAQABAAABAAAAAAABAAEBAQABAAEAAQABAAAAAAAAAQAAAAEAAAAAAQEAAAEAAAABAAEAAQAAAAAAAAABAQEBAAAAAAEAAAEBAAAAAAEBAQEBAAEAAAABAQAAAQAAAAEAAQEAAAEAAAAAAAABAAABAAEAAQAAAQAAAQEAAAEBAAAAAQAAAQEAAQAAAAAAAAAAAQAAAQABAQEAAAAAAQABAAAAAAAAAAEBAAAAAQEBAQAAAAABAAAAAAAAAAAAAAEBAAEAAAABAQEBAQAAAAEAAAEBAAABAAAAAAAAAQAAAAEAAQEBAQAAAAEAAAEBAAABAAEAAAEBAAAAAQEAAAAAAAABAAEA",
           "dtype": "i1"
          },
          "coloraxis": "coloraxis",
          "size": {
           "bdata": "AQEAAQAAAAMAAQEAAAEAAAQAAQAAAAAAAwEAAwAAAAEAAAEBAAACAQEBAAEAAAEAAgEEAAEBAAAAAAEFAAABAwABAAAEAgAFAAEAAAAAAAAAAAAAAAMBAAMAAAABAQAAAAAAAQAAAAACAAAAAAEAAQABAAAAAQAEAgABAAABAAABAAAAAQEAAAABAAAAAAEAAAEAAgAAAAEAAAAAAAAACAAAAAAEAAABAAAABAEAAAEDAAAACAAEAgAAAQABAAAAAQEAAAAAAAAACAAAAAABAAAAAAAAAAEBAAEAAAAAAAABAAAAAAMBAAAEAAABAAAAAQEAAAACAAABAQABAAEAAAAAAAAABAEAAAAEAQAAAAAAAAABAAAEAQAAAAAAAAAAAAAAAQAAAAAAAQAAAAIAAAABAAEBAAACAQABAAEAAAEAAAABCAAAAAEAAgAAAgEAAQAAAAEDAAAAAAABAQAAAAEBAAAAAAAAAQEAAAEAAQAAAAEBAAADAQAAAAAAAAABAAAFAAAAAQACAQAAAAAAAAAAAQEAAQABAAMAAAEAAAABAAAAAAAAAQEAAQAAAAABAQABAQICAQABAAEAAAAAAAIAAQEAAQAAAAEAAAAAAAAAAAAAAAIAAAEAAAABAQAABQAAAAEDAQAAAQEAAAAAAAEAAQAAAAAAAAEAAAAAAAAAAQAAAAABAAAAAAAAAAAAAAIBAAEAAAAAAAAAAAQEAQEAAQABAQAAAAAAAAEAAQEAAAAAAAIAAAAAAAIAAAAAAAEBAAEBAAAAAAABAAAAAQAAAQEAAAABAgAAAAABAAABAAEAAQAAAQEBAgABAQEAAAAAAAAAAAAAAAMAAAEAAQAAAwACAQAAAAAAAAAAAAIAAQAAAgAAAAECAAAAAQEBAAAAAAAAAQAAAAAFAQEEAAAAAQAAAAAAAAABAAEAAAABAAAAAAEAAAEAAAAAAAAAAAEAAAEAAwABAQAAAAAAAAEAAAAAAQIBAAEBAAEAAQAAAAEBAAAAAAAAAAEAAQAAAQAAAAAAAQAAAAAAAAEAAQAAAAQBAAAACAAAAAAAAAEAAQEAAAAAAAABAAAABAAAAAEAAwEAAAAEAAAAAAABAQAAAAEAAAAAAAAAAAAACAAAAQQAAQABAAEAAAACAQAIAAABAAABAAEAAAEAAAAAAAAAAAAAAAAAAQAA",
           "dtype": "i1"
          },
          "sizemode": "area",
          "sizeref": 0.02,
          "symbol": "circle"
         },
         "mode": "markers",
         "name": "",
         "orientation": "v",
         "showlegend": false,
         "type": "scatter",
         "x": {
          "bdata": "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",
          "dtype": "f8"
         },
         "xaxis": "x",
         "y": {
          "bdata": "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",
          "dtype": "f8"
         },
         "yaxis": "y"
        }
       ],
       "layout": {
        "coloraxis": {
         "colorbar": {
          "title": {
           "text": "survived"
          }
         },
         "colorscale": [
          [
           0,
           "#0d0887"
          ],
          [
           0.1111111111111111,
           "#46039f"
          ],
          [
           0.2222222222222222,
           "#7201a8"
          ],
          [
           0.3333333333333333,
           "#9c179e"
          ],
          [
           0.4444444444444444,
           "#bd3786"
          ],
          [
           0.5555555555555556,
           "#d8576b"
          ],
          [
           0.6666666666666666,
           "#ed7953"
          ],
          [
           0.7777777777777778,
           "#fb9f3a"
          ],
          [
           0.8888888888888888,
           "#fdca26"
          ],
          [
           1,
           "#f0f921"
          ]
         ]
        },
        "legend": {
         "itemsizing": "constant",
         "tracegroupgap": 0
        },
        "template": {
         "data": {
          "bar": [
           {
            "error_x": {
             "color": "#f2f5fa"
            },
            "error_y": {
             "color": "#f2f5fa"
            },
            "marker": {
             "line": {
              "color": "rgb(17,17,17)",
              "width": 0.5
             },
             "pattern": {
              "fillmode": "overlay",
              "size": 10,
              "solidity": 0.2
             }
            },
            "type": "bar"
           }
          ],
          "barpolar": [
           {
            "marker": {
             "line": {
              "color": "rgb(17,17,17)",
              "width": 0.5
             },
             "pattern": {
              "fillmode": "overlay",
              "size": 10,
              "solidity": 0.2
             }
            },
            "type": "barpolar"
           }
          ],
          "carpet": [
           {
            "aaxis": {
             "endlinecolor": "#A2B1C6",
             "gridcolor": "#506784",
             "linecolor": "#506784",
             "minorgridcolor": "#506784",
             "startlinecolor": "#A2B1C6"
            },
            "baxis": {
             "endlinecolor": "#A2B1C6",
             "gridcolor": "#506784",
             "linecolor": "#506784",
             "minorgridcolor": "#506784",
             "startlinecolor": "#A2B1C6"
            },
            "type": "carpet"
           }
          ],
          "choropleth": [
           {
            "colorbar": {
             "outlinewidth": 0,
             "ticks": ""
            },
            "type": "choropleth"
           }
          ],
          "contour": [
           {
            "colorbar": {
             "outlinewidth": 0,
             "ticks": ""
            },
            "colorscale": [
             [
              0,
              "#0d0887"
             ],
             [
              0.1111111111111111,
              "#46039f"
             ],
             [
              0.2222222222222222,
              "#7201a8"
             ],
             [
              0.3333333333333333,
              "#9c179e"
             ],
             [
              0.4444444444444444,
              "#bd3786"
             ],
             [
              0.5555555555555556,
              "#d8576b"
             ],
             [
              0.6666666666666666,
              "#ed7953"
             ],
             [
              0.7777777777777778,
              "#fb9f3a"
             ],
             [
              0.8888888888888888,
              "#fdca26"
             ],
             [
              1,
              "#f0f921"
             ]
            ],
            "type": "contour"
           }
          ],
          "contourcarpet": [
           {
            "colorbar": {
             "outlinewidth": 0,
             "ticks": ""
            },
            "type": "contourcarpet"
           }
          ],
          "heatmap": [
           {
            "colorbar": {
             "outlinewidth": 0,
             "ticks": ""
            },
            "colorscale": [
             [
              0,
              "#0d0887"
             ],
             [
              0.1111111111111111,
              "#46039f"
             ],
             [
              0.2222222222222222,
              "#7201a8"
             ],
             [
              0.3333333333333333,
              "#9c179e"
             ],
             [
              0.4444444444444444,
              "#bd3786"
             ],
             [
              0.5555555555555556,
              "#d8576b"
             ],
             [
              0.6666666666666666,
              "#ed7953"
             ],
             [
              0.7777777777777778,
              "#fb9f3a"
             ],
             [
              0.8888888888888888,
              "#fdca26"
             ],
             [
              1,
              "#f0f921"
             ]
            ],
            "type": "heatmap"
           }
          ],
          "histogram": [
           {
            "marker": {
             "pattern": {
              "fillmode": "overlay",
              "size": 10,
              "solidity": 0.2
             }
            },
            "type": "histogram"
           }
          ],
          "histogram2d": [
           {
            "colorbar": {
             "outlinewidth": 0,
             "ticks": ""
            },
            "colorscale": [
             [
              0,
              "#0d0887"
             ],
             [
              0.1111111111111111,
              "#46039f"
             ],
             [
              0.2222222222222222,
              "#7201a8"
             ],
             [
              0.3333333333333333,
              "#9c179e"
             ],
             [
              0.4444444444444444,
              "#bd3786"
             ],
             [
              0.5555555555555556,
              "#d8576b"
             ],
             [
              0.6666666666666666,
              "#ed7953"
             ],
             [
              0.7777777777777778,
              "#fb9f3a"
             ],
             [
              0.8888888888888888,
              "#fdca26"
             ],
             [
              1,
              "#f0f921"
             ]
            ],
            "type": "histogram2d"
           }
          ],
          "histogram2dcontour": [
           {
            "colorbar": {
             "outlinewidth": 0,
             "ticks": ""
            },
            "colorscale": [
             [
              0,
              "#0d0887"
             ],
             [
              0.1111111111111111,
              "#46039f"
             ],
             [
              0.2222222222222222,
              "#7201a8"
             ],
             [
              0.3333333333333333,
              "#9c179e"
             ],
             [
              0.4444444444444444,
              "#bd3786"
             ],
             [
              0.5555555555555556,
              "#d8576b"
             ],
             [
              0.6666666666666666,
              "#ed7953"
             ],
             [
              0.7777777777777778,
              "#fb9f3a"
             ],
             [
              0.8888888888888888,
              "#fdca26"
             ],
             [
              1,
              "#f0f921"
             ]
            ],
            "type": "histogram2dcontour"
           }
          ],
          "mesh3d": [
           {
            "colorbar": {
             "outlinewidth": 0,
             "ticks": ""
            },
            "type": "mesh3d"
           }
          ],
          "parcoords": [
           {
            "line": {
             "colorbar": {
              "outlinewidth": 0,
              "ticks": ""
             }
            },
            "type": "parcoords"
           }
          ],
          "pie": [
           {
            "automargin": true,
            "type": "pie"
           }
          ],
          "scatter": [
           {
            "marker": {
             "line": {
              "color": "#283442"
             }
            },
            "type": "scatter"
           }
          ],
          "scatter3d": [
           {
            "line": {
             "colorbar": {
              "outlinewidth": 0,
              "ticks": ""
             }
            },
            "marker": {
             "colorbar": {
              "outlinewidth": 0,
              "ticks": ""
             }
            },
            "type": "scatter3d"
           }
          ],
          "scattercarpet": [
           {
            "marker": {
             "colorbar": {
              "outlinewidth": 0,
              "ticks": ""
             }
            },
            "type": "scattercarpet"
           }
          ],
          "scattergeo": [
           {
            "marker": {
             "colorbar": {
              "outlinewidth": 0,
              "ticks": ""
             }
            },
            "type": "scattergeo"
           }
          ],
          "scattergl": [
           {
            "marker": {
             "line": {
              "color": "#283442"
             }
            },
            "type": "scattergl"
           }
          ],
          "scattermap": [
           {
            "marker": {
             "colorbar": {
              "outlinewidth": 0,
              "ticks": ""
             }
            },
            "type": "scattermap"
           }
          ],
          "scattermapbox": [
           {
            "marker": {
             "colorbar": {
              "outlinewidth": 0,
              "ticks": ""
             }
            },
            "type": "scattermapbox"
           }
          ],
          "scatterpolar": [
           {
            "marker": {
             "colorbar": {
              "outlinewidth": 0,
              "ticks": ""
             }
            },
            "type": "scatterpolar"
           }
          ],
          "scatterpolargl": [
           {
            "marker": {
             "colorbar": {
              "outlinewidth": 0,
              "ticks": ""
             }
            },
            "type": "scatterpolargl"
           }
          ],
          "scatterternary": [
           {
            "marker": {
             "colorbar": {
              "outlinewidth": 0,
              "ticks": ""
             }
            },
            "type": "scatterternary"
           }
          ],
          "surface": [
           {
            "colorbar": {
             "outlinewidth": 0,
             "ticks": ""
            },
            "colorscale": [
             [
              0,
              "#0d0887"
             ],
             [
              0.1111111111111111,
              "#46039f"
             ],
             [
              0.2222222222222222,
              "#7201a8"
             ],
             [
              0.3333333333333333,
              "#9c179e"
             ],
             [
              0.4444444444444444,
              "#bd3786"
             ],
             [
              0.5555555555555556,
              "#d8576b"
             ],
             [
              0.6666666666666666,
              "#ed7953"
             ],
             [
              0.7777777777777778,
              "#fb9f3a"
             ],
             [
              0.8888888888888888,
              "#fdca26"
             ],
             [
              1,
              "#f0f921"
             ]
            ],
            "type": "surface"
           }
          ],
          "table": [
           {
            "cells": {
             "fill": {
              "color": "#506784"
             },
             "line": {
              "color": "rgb(17,17,17)"
             }
            },
            "header": {
             "fill": {
              "color": "#2a3f5f"
             },
             "line": {
              "color": "rgb(17,17,17)"
             }
            },
            "type": "table"
           }
          ]
         },
         "layout": {
          "annotationdefaults": {
           "arrowcolor": "#f2f5fa",
           "arrowhead": 0,
           "arrowwidth": 1
          },
          "autotypenumbers": "strict",
          "coloraxis": {
           "colorbar": {
            "outlinewidth": 0,
            "ticks": ""
           }
          },
          "colorscale": {
           "diverging": [
            [
             0,
             "#8e0152"
            ],
            [
             0.1,
             "#c51b7d"
            ],
            [
             0.2,
             "#de77ae"
            ],
            [
             0.3,
             "#f1b6da"
            ],
            [
             0.4,
             "#fde0ef"
            ],
            [
             0.5,
             "#f7f7f7"
            ],
            [
             0.6,
             "#e6f5d0"
            ],
            [
             0.7,
             "#b8e186"
            ],
            [
             0.8,
             "#7fbc41"
            ],
            [
             0.9,
             "#4d9221"
            ],
            [
             1,
             "#276419"
            ]
           ],
           "sequential": [
            [
             0,
             "#0d0887"
            ],
            [
             0.1111111111111111,
             "#46039f"
            ],
            [
             0.2222222222222222,
             "#7201a8"
            ],
            [
             0.3333333333333333,
             "#9c179e"
            ],
            [
             0.4444444444444444,
             "#bd3786"
            ],
            [
             0.5555555555555556,
             "#d8576b"
            ],
            [
             0.6666666666666666,
             "#ed7953"
            ],
            [
             0.7777777777777778,
             "#fb9f3a"
            ],
            [
             0.8888888888888888,
             "#fdca26"
            ],
            [
             1,
             "#f0f921"
            ]
           ],
           "sequentialminus": [
            [
             0,
             "#0d0887"
            ],
            [
             0.1111111111111111,
             "#46039f"
            ],
            [
             0.2222222222222222,
             "#7201a8"
            ],
            [
             0.3333333333333333,
             "#9c179e"
            ],
            [
             0.4444444444444444,
             "#bd3786"
            ],
            [
             0.5555555555555556,
             "#d8576b"
            ],
            [
             0.6666666666666666,
             "#ed7953"
            ],
            [
             0.7777777777777778,
             "#fb9f3a"
            ],
            [
             0.8888888888888888,
             "#fdca26"
            ],
            [
             1,
             "#f0f921"
            ]
           ]
          },
          "colorway": [
           "#636efa",
           "#EF553B",
           "#00cc96",
           "#ab63fa",
           "#FFA15A",
           "#19d3f3",
           "#FF6692",
           "#B6E880",
           "#FF97FF",
           "#FECB52"
          ],
          "font": {
           "color": "#f2f5fa"
          },
          "geo": {
           "bgcolor": "rgb(17,17,17)",
           "lakecolor": "rgb(17,17,17)",
           "landcolor": "rgb(17,17,17)",
           "showlakes": true,
           "showland": true,
           "subunitcolor": "#506784"
          },
          "hoverlabel": {
           "align": "left"
          },
          "hovermode": "closest",
          "mapbox": {
           "style": "dark"
          },
          "paper_bgcolor": "rgb(17,17,17)",
          "plot_bgcolor": "rgb(17,17,17)",
          "polar": {
           "angularaxis": {
            "gridcolor": "#506784",
            "linecolor": "#506784",
            "ticks": ""
           },
           "bgcolor": "rgb(17,17,17)",
           "radialaxis": {
            "gridcolor": "#506784",
            "linecolor": "#506784",
            "ticks": ""
           }
          },
          "scene": {
           "xaxis": {
            "backgroundcolor": "rgb(17,17,17)",
            "gridcolor": "#506784",
            "gridwidth": 2,
            "linecolor": "#506784",
            "showbackground": true,
            "ticks": "",
            "zerolinecolor": "#C8D4E3"
           },
           "yaxis": {
            "backgroundcolor": "rgb(17,17,17)",
            "gridcolor": "#506784",
            "gridwidth": 2,
            "linecolor": "#506784",
            "showbackground": true,
            "ticks": "",
            "zerolinecolor": "#C8D4E3"
           },
           "zaxis": {
            "backgroundcolor": "rgb(17,17,17)",
            "gridcolor": "#506784",
            "gridwidth": 2,
            "linecolor": "#506784",
            "showbackground": true,
            "ticks": "",
            "zerolinecolor": "#C8D4E3"
           }
          },
          "shapedefaults": {
           "line": {
            "color": "#f2f5fa"
           }
          },
          "sliderdefaults": {
           "bgcolor": "#C8D4E3",
           "bordercolor": "rgb(17,17,17)",
           "borderwidth": 1,
           "tickwidth": 0
          },
          "ternary": {
           "aaxis": {
            "gridcolor": "#506784",
            "linecolor": "#506784",
            "ticks": ""
           },
           "baxis": {
            "gridcolor": "#506784",
            "linecolor": "#506784",
            "ticks": ""
           },
           "bgcolor": "rgb(17,17,17)",
           "caxis": {
            "gridcolor": "#506784",
            "linecolor": "#506784",
            "ticks": ""
           }
          },
          "title": {
           "x": 0.05
          },
          "updatemenudefaults": {
           "bgcolor": "#506784",
           "borderwidth": 0
          },
          "xaxis": {
           "automargin": true,
           "gridcolor": "#283442",
           "linecolor": "#506784",
           "ticks": "",
           "title": {
            "standoff": 15
           },
           "zerolinecolor": "#283442",
           "zerolinewidth": 2
          },
          "yaxis": {
           "automargin": true,
           "gridcolor": "#283442",
           "linecolor": "#506784",
           "ticks": "",
           "title": {
            "standoff": 15
           },
           "zerolinecolor": "#283442",
           "zerolinewidth": 2
          }
         }
        },
        "title": {
         "text": "Age vs Fare with Bubble Size as SibSp"
        },
        "xaxis": {
         "anchor": "y",
         "domain": [
          0,
          1
         ],
         "title": {
          "text": "age"
         }
        },
        "yaxis": {
         "anchor": "x",
         "domain": [
          0,
          1
         ],
         "title": {
          "text": "fare"
         }
        }
       }
      }
     },
     "metadata": {},
     "output_type": "display_data"
    }
   ],
   "source": [
    "px.scatter(df, x='age', y='fare', size='sibsp', color='survived',\n",
    "           title='Age vs Fare with Bubble Size as SibSp', template='plotly_dark')"
   ]
  },
  {
   "cell_type": "code",
   "execution_count": 39,
   "metadata": {},
   "outputs": [
    {
     "data": {
      "application/vnd.plotly.v1+json": {
       "config": {
        "plotlyServerURL": "https://plot.ly"
       },
       "data": [
        {
         "dimensions": [
          {
           "axis": {
            "matches": true
           },
           "label": "age",
           "values": {
            "bdata": "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",
            "dtype": "f8"
           }
          },
          {
           "axis": {
            "matches": true
           },
           "label": "fare",
           "values": {
            "bdata": "AAAAAAAAHUA8vVKWIdJRQDMzMzMzsx9AzczMzMyMSkCamZmZmRkgQHuDL0ym6iBAZmZmZmbuSUAzMzMzMxM1QBUdyeU/RCZAio7k8h8SPkAzMzMzM7MwQM3MzMzMjDpAmpmZmZkZIEBmZmZmZkY/QAn5oGezah9AAAAAAAAAMEAAAAAAACA9QAAAAAAAACpAAAAAAAAAMkBmZmZmZuYcQAAAAAAAADpAAAAAAAAAKkAeFmpN8w4gQAAAAAAAwEFAMzMzMzMTNUAzMzMzM2M/QGZmZmZm5hxAAAAAAABwcECjkjoBTYQfQPcGX5hMlR9A8fRKWYa4O0A4+MJkqlBiQAAAAAAAAB9AAAAAAAAAJUAJih9j7opUQAAAAAAAAEpACfmgZ7PqHECamZmZmRkgQAAAAAAAADJA6+I2GsB7JkAzMzMzM/MiQAAAAAAAADVA9wZfmEyVH0Du68A5I8pEQKOSOgFNhB9AmpmZmZkZIEAAAAAAAAAvQAAAAAAAAB9AdnEbDeCtNUDNzMzMzMwxQAAAAAAA2ENAMzMzMzMzH0CRD3o2qy5TQAAAAAAAADpAIR/0bFb9TkAAAAAAAMBBQAAAAAAAACVACfmgZ7PqHEAAAAAAAMA7QDMzMzMzc0dACfmgZ7PqHEAAAAAAAABUQGZmZmZm3lRAZmZmZmbmO0Dx9EpZhrg7QK62Yn/ZfS5AAAAAAAAAJUDi6ZWyDFEgQDMzMzMzsx9AMzMzMzNTIUAAAAAAAAAlQDMzMzMzc0dAAAAAAABgUkC4rwPnjOgsQKyt2F92P0xAmpmZmZmZHkD3Bl+YTJUfQJqZmZmZGSBAAAAAAAAAPUAzMzMzM/MoQAAAAAAAACJAAAAAAAAAI0BmZmZmZiYfQM3MzMzMjEdAAAAAAAAAJUAzMzMzM7MvQAAAAAAAMEFAmpmZmZkZIEAAAAAAAHBwQJqZmZmZGSBAmpmZmZkZIEAJ+aBns2ofQGZmZmZmlk5AMzMzMzOTNEAAAAAAAAAdQJqZmZmZGSBAiIVa07xTQUASFD/G3K1PQAAAAAAAADdAAAAAAAAAOkD3Bl+YTJUfQPcGX5hMlR9AZmZmZmZSU0AeFmpN804hQDMzMzMzsx9A9wZfmEyVH0CamZmZmZkeQJqZmZmZGR9A9wZfmEyVH0BmZmZmZiY4QAAAAAAAAEpAuK8D54zoLECamZmZmRkgQGZmZmZmpiNAe4MvTKbqLEAzMzMzM7MfQAAAAAAAAB9AAAAAAAAANUA4+MJkqvBuQGZmZmZmRj9AAAAAAABgUkCamZmZmRkgQIqO5PIfEj5AAAAAAAAAKkBmZmZmZlJTQOviNhrAeyZAAAAAAAAAH0BwXwfOGZEcQCQofoy5WzZAZmZmZmbmG0D3Bl+YTJUfQDMzMzMzMxxAAAAAAAAALUAAAAAAAAA6QAAAAAAAACpASFD8GHMXLkDx9EpZhkg6QM3MzMzMjEpAHhZqTfNuIkDNzMzMzMxTQK62Yn/ZfS5AAAAAAAAAH0AzMzMzM7MvQAAAAAAAABtAAAAAAAAAJ0AAAAAAAGBCQJCg+DHmLh9AAAAAAAAwQUAAAAAAAAA6QAAAAAAAACpAzczMzMwMKUBmZmZmZqZQQJqZmZmZGSBAAAAAAAAALUAAAAAAAEAdQFRSJ6CJsE5AkKD4MebuHkCamZmZmRkgQDMzMzMzUyFAMzMzMzNjUUCamZmZmRkwQAAAAAAAgC9AmpmZmZkZH0AzMzMzM1MhQAAAAAAA2ENAZmZmZmaGNEAAAAAAAIBLQGZmZmZm5jtAzczMzMzsOUCsrdhfdj9MQAAAAAAAwEBAAAAAAAAgPUAVHcnlP0QmQDMzMzMzsx9Aio7k8h+yPkAJ+aBns2ofQA8LtaZ5dzlAZmZmZma2PEAAAAAAAAAqQAAAAAAAAAAAMzMzMzNjUUCamZmZmRkuQDMzMzMzYz9AAAAAAACAQ0BmZmZmZgY2QAAAAAAAAElAAAAAAAAAL0DNzMzMzIw6QAAAAAAAAC9A9wZfmEyVH0AAAAAAAAAqQAAAAAAAACpACfmgZ7NqH0AAAAAAAAA6QPH0SlmGuDtAOPjCZKpQYkAAAAAAAAAfQB4Wak3zziBAAAAAAAAAH0AAAAAAAAAqQAAAAAAAACNAMzMzMzNjUUBdbcX+svsZQGZmZmZm5hxAmpmZmZkZIEDNzMzMzOwkQDMzMzMzsy9AmpmZmZnJMkAAAAAAAAAfQAAAAAAAAD9AMzMzMzMzHEAAAAAAAAA1QAAAAAAAAB1AAAAAAAAAKkAAAAAAAAAfQJqZmZmZUVxAMzMzMzOzH0AAAAAAAAA7QJEPejarElNAAAAAAAAAJUCamZmZmRkgQAAAAAAAACpAmpmZmZkZIED3Bl+YTJUfQAAAAAAAgFZAMzMzMzOzIkAAAAAAAAAlQAAAAAAAAB1AAAAAAAAAKkAPC7WmeXc5QGZmZmZm3lRAmpmZmZkZH0AAAAAAAAArQDMzMzMzYz9AAAAAAAAAJUAzMzMzMzMeQAAAAAAAADpAAAAAAABAOkAAAAAAAAAlQM3MzMzMjChAuK8D54zoLEAAAAAAAAAvQAAAAAAAACVAAAAAAACAHEBmZmZmZuYcQAAAAAAAgFZAmpmZmZkZH0AAAAAAAAAtQLu4jQbwRkpAAAAAAAAAOkAAAAAAAAAdQM3MzMzM7CRAzczMzMyMOkCamZmZmRkwQGZmZmZmNjRArrZif9l9LkDNzMzMzMxTQAAAAAAAoFVAvw6cM6ICgEAAAAAAAAA6QAAAAAAAAB9AMzMzMzNjP0CamZmZmelTQAAAAAAAAAAAAAAAAAAAH0AAAAAAAAAlQAAAAAAA2ENAmpmZmZkZH0DNzMzMzC5jQNGRXP5D9GBAAAAAAAAAP0AAAAAAAAAAAAAAAAAAgDNAMzMzMzOzPUAAAAAAAAAfQG/whclUfVNAAAAAAAAAH0AAAAAAAAAAAAAAAAAAID1AAAAAAABANEAAAAAAAAAfQAn5oGezah9AAAAAAAAAI0CamZmZmRkgQAAAAAAAADpAMzMzMzNTIUAAAAAAAAAjQPcGX5hMlR9AAAAAAAAAKkAAAAAAAAAfQGZmZmZmtlNA93XgnBHFVkAAAAAAAMApQDMzMzMzsyFA9wZfmEyVH0Dx9EpZhrg7QAn5oGez6hxAmpmZmZnxYkAAAAAAAIA+QDj4wmSq8G5AAAAAAAAAH0AAAAAAAEA3QAAAAAAAAAAAMzMzMzOzKECamZmZmRkgQJqZmZmZ8WJAoyO5/Ie4W0CamZmZmTlbQAAAAAAAADhAu7iNBvB2TEA8vVKWIcpUQAAAAAAAZnBAAAAAAAAAOkD3Bl+YTJUfQAAAAAAAQDpACfmgZ7NqH0AAAAAAAAA6QAAAAAAAACxAL26jAbybZEAAAAAAANBgQAAAAAAAAB1A9wZfmEyVH0AzMzMzM7MoQAAAAAAAAD1AMzMzMzNjUUDRkVz+Q/RgQDMzMzMz8xhAAAAAAAAAKkBmZmZmZoY0QCEf9GxW/UxAAAAAAABAN0AAAAAAAIA8QM3MzMzMLmNAAAAAAAAAMkDNzMzMzLRgQPcGX5hMlR9AZmZmZmamUEAAAAAAANBgQJqZmZmZGSBAAAAAAADAQUAAAAAAAAA6QAAAAAAAcHBAAAAAAAAAKkAAAAAAAAAqQAAAAAAAACpAAAAAAAAAKkAAAAAAAAAqQJqZmZmZGTBAzczMzMzML0AzMzMzM1MhQDMzMzMzcyJAAAAAAACAQUAJ+aBns+ocQM3MzMzMzDFAZmZmZmbmHEAAAAAAAAAjQAAAAAAAgEtAAAAAAAAAKkCjkjoBTYQfQKOSOgFNhB9AZmZmZmbmO0Dx9EpZhrg7QLivA+eM6CxAMzMzMzMzHEAAAAAAAAAvQAAAAAAAAB1AAAAAAADQUkAJ+aBns+ocQAAAAAAAAB9AMzMzMzNTUUBUUiegibhLQF1txf6y+xlAmpmZmZkZIEDRkVz+Q/RgQDMzMzMzEzVACYofY+6KVEAAAAAAAAAdQAAAAAAAcGpAzczMzMwMEECamZmZmRkfQM3MzMzMcGxA6+I2GsB7L0AzMzMzM7MfQAAAAAAAAEpA9wZfmEyVH0AAAAAAAGBSQDMzMzMzc0dAAAAAAAAAKkAJ+aBns+oeQAAAAAAAAChAAAAAAAAAXkCQoPgx5i4fQDMzMzMzsx9AmpmZmZlRXEAzMzMzM7MwQJCg+DHmLh9ACfmgZ7NqH0AAAAAAAAA6QAAAAAAAACVAzczMzMxMKUAzMzMzM7MfQJqZmZmZGSBAZmZmZmamI0AzMzMzM7MvQDMzMzMzUyFAAAAAAAAANUAAAAAAAAAfQAAAAAAAwDJAmpmZmZkZH0APC7WmeXc5QPcGX5hMlR9AkKD4MeZuG0AAAAAAAIBWQAAAAAAAAAAAMzMzMzOzH0CamZmZmRkgQAAAAAAAQEBAAAAAAAAAKkAAAAAAAAAqQGZmZmZmJjhA9wZfmEyVH0CQoPgx5u4eQAAAAAAAgB9AzczMzMzMLEBmZmZmZjY0QAAAAAAAAB1AAAAAAAAAOkAAAAAAAAA6QAAAAAAAAB9AmpmZmZkZIEDNzMzMzIw6QJqZmZmZGTBAAAAAAAAAOkAAAAAAAIAcQDMzMzMz80tAAAAAAAAAXkAAAAAAADBBQAAAAAAAwDJAAAAAAABwcEAAAAAAAAAlQAAAAAAAQDpAAAAAAAAAI0CamZmZmRkfQAAAAAAAACpAmpmZmZk5IEAJih9j7nZUQAAAAAAAgDNAzczMzMyMOkCKjuTyH0IzQAAAAAAAgD5AAAAAAADAO0APC7WmefczQAAAAAAAwDtAkQ96NqtGVkCamZmZmRkgQPcGX5hMlR9AzczMzMyMOkBmZmZmZu5JQAAAAAAAACVAAAAAAAAAH0DNzMzMzIw6QJqZmZmZGSBAAAAAAABAQ0AAAAAAAAAqQJqZmZmZGSBAMzMzMzMzHEAAAAAAAAAAAM3MzMzMjDpAZmZmZmbmHkCKjuTyH0IzQAAAAAAAAB1AMzMzMzNTIUAAAAAAAMA7QIV80LNZlStAzczMzMysI0AAAAAAAABKQAAAAAAAADVAkKD4MeYuHED3Bl+YTBUeQDMzMzMzkyhAMzMzMzNzR0AAAAAAAAAAAJqZmZmZGSBAzczMzMwsI0D3deCcEcVWQA8LtaZ5dzlAAAAAAACAVkAzMzMzM7M9QJqZmZmZGSBAzczMzMzML0APC7WmefczQAAAAAAAAB1AAAAAAACAPkBUUiegicBIQJqZmZmZGSBAe4MvTKbqLED3deCcEZFTQDMzMzMzMy5AmpmZmZnxYkCQoPgx5i4fQDMzMzMzUyFAAAAAAAAAH0CjkjoBTYQeQM3MzMzMLCNAAAAAAACgVUCamZmZmTlbQAAAAAAAADpAzczMzMyMOkBmZmZmZoY2QKyt2F92P0xAAAAAAAAAH0CamZmZmRkgQJqZmZmZSTpAMzMzMzOzTUBdbcX+svsdQN/gC5OpAkFAAAAAAAAAJUBmZmZmZiY4QAAAAAAAADpA9wZfmEyVH0AAAAAAAGBXQPcGX5hMlR9AZmZmZmbmHEAhH/RsVv1MQAn5oGez6hxAAAAAAAAAH0AAAAAAAAAlQGKh1jTvuGtAMzMzMzOzH0AAAAAAAAAnQAAAAAAAADpACfmgZ7PqHEAJ+aBns+ocQCQofoy5WzZAMzMzMzNTIUAAAAAAAEA6QM3MzMzMjDpAMzMzMzObWkAAAAAAAAAtQAAAAAAAwEhAAAAAAADAUUBmZmZmZkY/QGZmZmZmRj9AAAAAAAAAOkAzMzMzM5taQAAAAAAAADpAAAAAAAAAOkCamZmZmbkrQGZmZmZmhjRAAAAAAABgQkCjI7n8h7hbQAAAAAAAADpAcF8HzhlRH0BmZmZmZuYcQJqZmZmZGR9AzczMzMyMOkDNzMzMzMxDQM3MzMzMcGxAmpmZmZnpU0BmZmZmZmYxQAAAAAAAAB9A9wZfmEyVH0AAAAAAAAArQJqZmZmZGSBAmpmZmZkZIEBmZmZmZiY4QPcGX5hMlR9AMzMzMzMTNUAJ+aBns+ocQAn5oGezah9AAAAAAAAAJUAhH/RsVr1JQDMzMzMzYzpAAAAAAAAAH0CamZmZmRkgQAAAAAAAAC1AAAAAAAAAKkAzMzMzM/NLQHuDL0ym6ixAMzMzMzOzH0AAAAAAAAA+QKMjufyHuFtAAAAAAAAAOkAAAAAAABBEQM3MzMzMbCFAmpmZmZnpU0AAAAAAAAAuQM3MzMzMzFNAmpmZmZkZIECamZmZmRkgQAAAAAAAgBxA93XgnBGRU0AAAAAAAAAdQAAAAAAAAB9AAAAAAAAAOkBmZmZmZiY4QAAAAAAAgEBAAAAAAAAAAABmZmZmZuYcQLu4jQbwdkxAAAAAAAAAO0D3Bl+YTJUfQDMzMzMzM0VAmpmZmZkZIEDNzMzMzIw6QJqZmZmZGS9A9wZfmEyVH0AAAAAAAIA+QO7rwDkjykRAzczMzMwuY0BmZmZmZkY/QDMzMzMzMxxAAAAAAAAAL0AAAAAAAAAfQJqZmZmZGSBAAAAAAABAUEDNzMzMzMwsQJqZmZmZGTBAAAAAAACAQ0AAAAAAAAAlQLivA+eM6CxAu7iNBvBGSkDr4jYawHsvQAn5oGezah9AmpmZmZkZMEBFR3L5DylAQDMzMzMzsyhAb/CFyVR9U0D3Bl+YTJUfQJCg+DHm7h5AAAAAAAAAPkDWxW00gDccQAAAAAAAgD5AAAAAAAAAAABmZmZmZuY7QAAAAAAAACpAMzMzMzOzH0AAAAAAAEA6QAAAAAAA2ENAmpmZmZkZMEAJ+aBns2ofQDMzMzMzU1FAZmZmZmbmO0Csrdhfdj9MQIqO5PIfQjNAkQ96NqsuU0D3Bl+YTJUfQAAAAAAAwEFAMzMzMzMzHkAzMzMzMzMeQPcGX5hMlR9AAAAAAAAAN0CutmJ/2d0gQHBfB84ZUR9AAAAAAAAAG0AAAAAAAGBSQPcGX5hMlR9AAAAAAAAAL0AAAAAAAAAqQJqZmZmZUVxAzczMzMy0YEBmZmZmZuYcQGZmZmZmljlAXW3F/rL7HUAzMzMzM7MfQAAAAAAAYFJAAAAAAAAAKkCamZmZmRkfQJqZmZmZGSBAAAAAAAAASkAAAAAAAIBDQAAAAAAAAEpAAAAAAAAAJUAAAAAAAAAqQAAAAAAAAAAAmpmZmZkZH0CamZmZmRkgQB4Wak3zriNAMzMzMzNzR0C/DpwzogKAQGZmZmZmRiBAkQ96NqsuU0AzMzMzM3MiQDMzMzMzc0dAAAAAAACAQ0Du68A5I8pEQAAAAAAA2ENASFD8GHNXJECQoPgx5i4fQM3MzMzMampAAAAAAACATECFfNCzWdUqQKyt2F92P0xAZmZmZmbmHEDNzMzMzIw6QAAAAAAAACtAmpmZmZkZIECQoPgx5u4eQKMjufyHuFtAmpmZmZmZHkDNzMzMzHBsQJqZmZmZSTpAuK8D54zoLEDWxW00gPceQAn5oGezah9AAAAAAAAAOkAAAAAAAAArQJqZmZmZSTpAmpmZmZnxYkCutmJ/2X0uQFRSJ6CJwEhAzczMzMyMOkAAAAAAAABKQEhQ/Bhz9yJAAAAAAAAAKkCamZmZmZkeQM3MzMzMcGxAAAAAAAAAJUAAAAAAAAAvQJqZmZmZGR9AAAAAAACAQEDWxW00gDccQAAAAAAAACpAAAAAAAAAKkDNzMzMzIxKQDMzMzMzUyFAAAAAAAAANUAzMzMzM/MeQAAAAAAAADpAMzMzMzOzH0DNzMzMzGpqQJqZmZmZyTJAAAAAAAAAAAAAAAAAAAAqQAAAAAAAACpAmpmZmZkZMEAAAAAAADBBQL8OnDOiAoBA9wZfmEyVH0D3Bl+YTJUfQAAAAAAAAD5AZmZmZma2U0AAAAAAAGZwQJqZmZmZGTBAMzMzMzOzH0AAAAAAAMBRQAAAAAAAQDRAAAAAAAAAKkDNzMzMzIxKQAAAAAAAAB9AAAAAAAAAN0AzMzMzM/MoQAAAAAAAACNA9wZfmEyVH0AAAAAAAEBQQAAAAAAAAC1AkKD4MeYuH0AAAAAAAAAnQJqZmZmZGSBAAAAAAACgVUAAAAAAAAAtQAAAAAAAgBxACfmgZ7PqHEAAAAAAAABeQJqZmZmZGR9Ab/CFyVR9U0DNzMzMzMxDQAAAAAAAAB9AZmZmZmYmOECamZmZmbkgQAAAAAAAACNACfmgZ7NqH0AAAAAAAAAlQGZmZmZm5hxAAAAAAAAAN0AAAAAAAAAfQAAAAAAAAB9AMzMzMzPzKEAzMzMzM/MeQM3MzMzMampACfmgZ7PqHEAAAAAAAIBMQAAAAAAAAD5AMzMzMzNzN0AzMzMzMzMcQAAAAAAAAB1AXW3F/rL7HUAAAAAAACA9QDMzMzMzkzRAzczMzMzMU0AAAAAAAAAfQAAAAAAAADpAMzMzMzNjUUCKjuTyH7I+QPcGX5hMlR9AAAAAAAAAKkB2cRsN4O05QK62Yn/ZXSFACfmgZ7PqHEBmZmZmZiY4QAAAAAAAACpAAAAAAABAOkAAAAAAAABeQLivA+eMCCFAZmZmZmbmG0CamZmZmRkfQAAAAAAAAAAAmpmZmZkZH0AAAAAAAAAqQM3MzMzMjEpAzczMzMyMH0BmZmZmZiY4QAAAAAAAACVAZmZmZmZGP0CamZmZmRkgQAAAAAAAAAAAMzMzMzOzH0BUUiegiYBCQM3MzMzMzBlAZmZmZmbmO0AAAAAAAGBXQDMzMzMzUyFAAAAAAAAAAAAzMzMzM/MoQAAAAAAA2ENAzczMzMzMG0Csrdhfdj9MQFRSJ6CJgEJAAAAAAAAAH0AAAAAAAABUQLivA+eM6CxAAAAAAADAMkAJ+aBns+ocQAn5oGezah9AmpmZmZmZIEA8vVKWIcpUQDMzMzMzUyFAmpmZmZkZIECsrdhfdj9MQDMzMzMzsz1AMzMzMzOzH0AAAAAAAAAlQAAAAAAAAD9AAAAAAADAGUAzMzMzM1MhQDMzMzMzMx5AMzMzMzNjUUD3Bl+YTJUfQAAAAAAAgEBAkQ96NqtGVkBmZmZmZkY/QJqZmZmZGR9ArrZif9l9LkAzMzMzM7NDQAAAAAAAADpAMzMzMzOzIkAvbqMBvJtkQM3MzMzMjDpAio7k8h9CM0AJ+aBns+ocQEhQ/BhzNyxAAAAAAAAAJ0B2cRsN4O05QDMzMzMzY1FAAAAAAAAAKkAAAAAAAAAqQEhQ/BhztytArK3YX3Y/SUAAAAAAAAAjQBUdyeU/RCZA9wZfmEyVH0C7uI0G8EZKQAAAAAAAABRAAAAAAAAAIkAAAAAAAAA4QGZmZmZm5hxA4umVsgyxI0D3Bl+YTJUfQPcGX5hMlR9APL1SliHKVEAAAAAAAAA6QPcGX5hMlR9AuK8D54wIJUAAAAAAAAAlQDMzMzMzMxxAAAAAAAAgPUAAAAAAAAAqQAAAAAAAAD5AMzMzMzNzN0AAAAAAAAA+QAAAAAAAAB9A",
            "dtype": "f8"
           }
          }
         ],
         "hovertemplate": "%{xaxis.title.text}=%{x}<br>%{yaxis.title.text}=%{y}<br>survived=%{marker.color}<extra></extra>",
         "legendgroup": "",
         "marker": {
          "color": {
           "bdata": "AAEBAQAAAAABAQEBAAAAAQABAAEAAQEBAAEAAAEAAAEBAAAAAQAAAQAAAAEBAAABAAAAAAEBAAEBAAEAAAEAAAABAQABAAAAAAABAAAAAQEAAQEAAQEAAAEAAAAAAAAAAAEBAAAAAAAAAAEBAAEAAAAAAAAAAAAAAAAAAQABAAEBAAAAAAEAAAEAAAAAAQEAAAABAAAAAAEAAAAAAQAAAAABAAAAAQEAAAAAAAEAAAAAAAAAAAAAAQEAAQEAAAEAAQEBAQAAAQAAAAAAAQAAAQEBAAEAAAABAQABAAEAAAABAAEAAAABAAABAAAAAQAAAAEAAAAAAAEBAAAAAAAAAQEBAQEAAQAAAAAAAQEBAAEBAAEBAAAAAQAAAAEAAAEAAQEBAQAAAAAAAAEBAQEAAQABAQEAAQEBAAAAAQEAAQEAAAEBAAEAAQEBAQAAAAEAAAEBAAEBAAAAAQEBAQAAAAAAAAABAAEBAAAAAAAAAQEBAQEAAAAAAQEAAAABAQABAAAAAQABAQEAAQEAAAAAAQEAAAAAAAABAAAAAAEAAQABAQAAAAAAAAAAAQEAAQEBAQAAAQABAAABAAABAQEBAQEBAAAAAQABAAEBAAEAAAAAAAAAAAEAAAEBAAAAAAABAAAAAQEAAQAAAQAAAAAAAAEAAAAAAAAAAQABAQABAQABAQAAAQABAAEAAAEAAAEAAAABAAABAAEAAQABAQAAAQAAAQEAAQEAAAEBAAEAAQEAAAAAAAAAAAABAQEBAQAAAQEAAQEBAAAAAQABAAAAAQAAAAABAAABAQAAAAEAAAEBAQAAAQAAAQAAAQAAAQEAAAAAAQAAAQABAAABAAAAAAABAAEBAQABAAEAAQABAAAAAAAAAQAAAAEAAAAAAQEAAAEAAAABAAEAAQAAAAAAAAABAQEBAAAAAAEAAAEBAAAAAAEBAQEBAAEAAAABAQAAAQAAAAEAAQEAAAEAAAAAAAABAAABAAEAAQAAAQAAAQEAAAEBAAAAAQAAAQEAAQAAAAAAAAAAAQAAAQABAQEAAAAAAQABAAAAAAAAAAEBAAAAAQEBAQAAAAABAAAAAAAAAAAAAAEBAAEAAAABAQEBAQAAAAEAAAEBAAABAAAAAAAAAQAAAAEAAQEBAQAAAAEAAAEBAAABAAEAAAEBAAAAAQEAAAAAAAABAAEA",
           "dtype": "i1"
          },
          "coloraxis": "coloraxis",
          "symbol": "circle"
         },
         "name": "",
         "showlegend": false,
         "type": "splom"
        }
       ],
       "layout": {
        "coloraxis": {
         "colorbar": {
          "title": {
           "text": "survived"
          }
         },
         "colorscale": [
          [
           0,
           "#0d0887"
          ],
          [
           0.1111111111111111,
           "#46039f"
          ],
          [
           0.2222222222222222,
           "#7201a8"
          ],
          [
           0.3333333333333333,
           "#9c179e"
          ],
          [
           0.4444444444444444,
           "#bd3786"
          ],
          [
           0.5555555555555556,
           "#d8576b"
          ],
          [
           0.6666666666666666,
           "#ed7953"
          ],
          [
           0.7777777777777778,
           "#fb9f3a"
          ],
          [
           0.8888888888888888,
           "#fdca26"
          ],
          [
           1,
           "#f0f921"
          ]
         ]
        },
        "dragmode": "select",
        "legend": {
         "tracegroupgap": 0
        },
        "template": {
         "data": {
          "bar": [
           {
            "error_x": {
             "color": "#f2f5fa"
            },
            "error_y": {
             "color": "#f2f5fa"
            },
            "marker": {
             "line": {
              "color": "rgb(17,17,17)",
              "width": 0.5
             },
             "pattern": {
              "fillmode": "overlay",
              "size": 10,
              "solidity": 0.2
             }
            },
            "type": "bar"
           }
          ],
          "barpolar": [
           {
            "marker": {
             "line": {
              "color": "rgb(17,17,17)",
              "width": 0.5
             },
             "pattern": {
              "fillmode": "overlay",
              "size": 10,
              "solidity": 0.2
             }
            },
            "type": "barpolar"
           }
          ],
          "carpet": [
           {
            "aaxis": {
             "endlinecolor": "#A2B1C6",
             "gridcolor": "#506784",
             "linecolor": "#506784",
             "minorgridcolor": "#506784",
             "startlinecolor": "#A2B1C6"
            },
            "baxis": {
             "endlinecolor": "#A2B1C6",
             "gridcolor": "#506784",
             "linecolor": "#506784",
             "minorgridcolor": "#506784",
             "startlinecolor": "#A2B1C6"
            },
            "type": "carpet"
           }
          ],
          "choropleth": [
           {
            "colorbar": {
             "outlinewidth": 0,
             "ticks": ""
            },
            "type": "choropleth"
           }
          ],
          "contour": [
           {
            "colorbar": {
             "outlinewidth": 0,
             "ticks": ""
            },
            "colorscale": [
             [
              0,
              "#0d0887"
             ],
             [
              0.1111111111111111,
              "#46039f"
             ],
             [
              0.2222222222222222,
              "#7201a8"
             ],
             [
              0.3333333333333333,
              "#9c179e"
             ],
             [
              0.4444444444444444,
              "#bd3786"
             ],
             [
              0.5555555555555556,
              "#d8576b"
             ],
             [
              0.6666666666666666,
              "#ed7953"
             ],
             [
              0.7777777777777778,
              "#fb9f3a"
             ],
             [
              0.8888888888888888,
              "#fdca26"
             ],
             [
              1,
              "#f0f921"
             ]
            ],
            "type": "contour"
           }
          ],
          "contourcarpet": [
           {
            "colorbar": {
             "outlinewidth": 0,
             "ticks": ""
            },
            "type": "contourcarpet"
           }
          ],
          "heatmap": [
           {
            "colorbar": {
             "outlinewidth": 0,
             "ticks": ""
            },
            "colorscale": [
             [
              0,
              "#0d0887"
             ],
             [
              0.1111111111111111,
              "#46039f"
             ],
             [
              0.2222222222222222,
              "#7201a8"
             ],
             [
              0.3333333333333333,
              "#9c179e"
             ],
             [
              0.4444444444444444,
              "#bd3786"
             ],
             [
              0.5555555555555556,
              "#d8576b"
             ],
             [
              0.6666666666666666,
              "#ed7953"
             ],
             [
              0.7777777777777778,
              "#fb9f3a"
             ],
             [
              0.8888888888888888,
              "#fdca26"
             ],
             [
              1,
              "#f0f921"
             ]
            ],
            "type": "heatmap"
           }
          ],
          "histogram": [
           {
            "marker": {
             "pattern": {
              "fillmode": "overlay",
              "size": 10,
              "solidity": 0.2
             }
            },
            "type": "histogram"
           }
          ],
          "histogram2d": [
           {
            "colorbar": {
             "outlinewidth": 0,
             "ticks": ""
            },
            "colorscale": [
             [
              0,
              "#0d0887"
             ],
             [
              0.1111111111111111,
              "#46039f"
             ],
             [
              0.2222222222222222,
              "#7201a8"
             ],
             [
              0.3333333333333333,
              "#9c179e"
             ],
             [
              0.4444444444444444,
              "#bd3786"
             ],
             [
              0.5555555555555556,
              "#d8576b"
             ],
             [
              0.6666666666666666,
              "#ed7953"
             ],
             [
              0.7777777777777778,
              "#fb9f3a"
             ],
             [
              0.8888888888888888,
              "#fdca26"
             ],
             [
              1,
              "#f0f921"
             ]
            ],
            "type": "histogram2d"
           }
          ],
          "histogram2dcontour": [
           {
            "colorbar": {
             "outlinewidth": 0,
             "ticks": ""
            },
            "colorscale": [
             [
              0,
              "#0d0887"
             ],
             [
              0.1111111111111111,
              "#46039f"
             ],
             [
              0.2222222222222222,
              "#7201a8"
             ],
             [
              0.3333333333333333,
              "#9c179e"
             ],
             [
              0.4444444444444444,
              "#bd3786"
             ],
             [
              0.5555555555555556,
              "#d8576b"
             ],
             [
              0.6666666666666666,
              "#ed7953"
             ],
             [
              0.7777777777777778,
              "#fb9f3a"
             ],
             [
              0.8888888888888888,
              "#fdca26"
             ],
             [
              1,
              "#f0f921"
             ]
            ],
            "type": "histogram2dcontour"
           }
          ],
          "mesh3d": [
           {
            "colorbar": {
             "outlinewidth": 0,
             "ticks": ""
            },
            "type": "mesh3d"
           }
          ],
          "parcoords": [
           {
            "line": {
             "colorbar": {
              "outlinewidth": 0,
              "ticks": ""
             }
            },
            "type": "parcoords"
           }
          ],
          "pie": [
           {
            "automargin": true,
            "type": "pie"
           }
          ],
          "scatter": [
           {
            "marker": {
             "line": {
              "color": "#283442"
             }
            },
            "type": "scatter"
           }
          ],
          "scatter3d": [
           {
            "line": {
             "colorbar": {
              "outlinewidth": 0,
              "ticks": ""
             }
            },
            "marker": {
             "colorbar": {
              "outlinewidth": 0,
              "ticks": ""
             }
            },
            "type": "scatter3d"
           }
          ],
          "scattercarpet": [
           {
            "marker": {
             "colorbar": {
              "outlinewidth": 0,
              "ticks": ""
             }
            },
            "type": "scattercarpet"
           }
          ],
          "scattergeo": [
           {
            "marker": {
             "colorbar": {
              "outlinewidth": 0,
              "ticks": ""
             }
            },
            "type": "scattergeo"
           }
          ],
          "scattergl": [
           {
            "marker": {
             "line": {
              "color": "#283442"
             }
            },
            "type": "scattergl"
           }
          ],
          "scattermap": [
           {
            "marker": {
             "colorbar": {
              "outlinewidth": 0,
              "ticks": ""
             }
            },
            "type": "scattermap"
           }
          ],
          "scattermapbox": [
           {
            "marker": {
             "colorbar": {
              "outlinewidth": 0,
              "ticks": ""
             }
            },
            "type": "scattermapbox"
           }
          ],
          "scatterpolar": [
           {
            "marker": {
             "colorbar": {
              "outlinewidth": 0,
              "ticks": ""
             }
            },
            "type": "scatterpolar"
           }
          ],
          "scatterpolargl": [
           {
            "marker": {
             "colorbar": {
              "outlinewidth": 0,
              "ticks": ""
             }
            },
            "type": "scatterpolargl"
           }
          ],
          "scatterternary": [
           {
            "marker": {
             "colorbar": {
              "outlinewidth": 0,
              "ticks": ""
             }
            },
            "type": "scatterternary"
           }
          ],
          "surface": [
           {
            "colorbar": {
             "outlinewidth": 0,
             "ticks": ""
            },
            "colorscale": [
             [
              0,
              "#0d0887"
             ],
             [
              0.1111111111111111,
              "#46039f"
             ],
             [
              0.2222222222222222,
              "#7201a8"
             ],
             [
              0.3333333333333333,
              "#9c179e"
             ],
             [
              0.4444444444444444,
              "#bd3786"
             ],
             [
              0.5555555555555556,
              "#d8576b"
             ],
             [
              0.6666666666666666,
              "#ed7953"
             ],
             [
              0.7777777777777778,
              "#fb9f3a"
             ],
             [
              0.8888888888888888,
              "#fdca26"
             ],
             [
              1,
              "#f0f921"
             ]
            ],
            "type": "surface"
           }
          ],
          "table": [
           {
            "cells": {
             "fill": {
              "color": "#506784"
             },
             "line": {
              "color": "rgb(17,17,17)"
             }
            },
            "header": {
             "fill": {
              "color": "#2a3f5f"
             },
             "line": {
              "color": "rgb(17,17,17)"
             }
            },
            "type": "table"
           }
          ]
         },
         "layout": {
          "annotationdefaults": {
           "arrowcolor": "#f2f5fa",
           "arrowhead": 0,
           "arrowwidth": 1
          },
          "autotypenumbers": "strict",
          "coloraxis": {
           "colorbar": {
            "outlinewidth": 0,
            "ticks": ""
           }
          },
          "colorscale": {
           "diverging": [
            [
             0,
             "#8e0152"
            ],
            [
             0.1,
             "#c51b7d"
            ],
            [
             0.2,
             "#de77ae"
            ],
            [
             0.3,
             "#f1b6da"
            ],
            [
             0.4,
             "#fde0ef"
            ],
            [
             0.5,
             "#f7f7f7"
            ],
            [
             0.6,
             "#e6f5d0"
            ],
            [
             0.7,
             "#b8e186"
            ],
            [
             0.8,
             "#7fbc41"
            ],
            [
             0.9,
             "#4d9221"
            ],
            [
             1,
             "#276419"
            ]
           ],
           "sequential": [
            [
             0,
             "#0d0887"
            ],
            [
             0.1111111111111111,
             "#46039f"
            ],
            [
             0.2222222222222222,
             "#7201a8"
            ],
            [
             0.3333333333333333,
             "#9c179e"
            ],
            [
             0.4444444444444444,
             "#bd3786"
            ],
            [
             0.5555555555555556,
             "#d8576b"
            ],
            [
             0.6666666666666666,
             "#ed7953"
            ],
            [
             0.7777777777777778,
             "#fb9f3a"
            ],
            [
             0.8888888888888888,
             "#fdca26"
            ],
            [
             1,
             "#f0f921"
            ]
           ],
           "sequentialminus": [
            [
             0,
             "#0d0887"
            ],
            [
             0.1111111111111111,
             "#46039f"
            ],
            [
             0.2222222222222222,
             "#7201a8"
            ],
            [
             0.3333333333333333,
             "#9c179e"
            ],
            [
             0.4444444444444444,
             "#bd3786"
            ],
            [
             0.5555555555555556,
             "#d8576b"
            ],
            [
             0.6666666666666666,
             "#ed7953"
            ],
            [
             0.7777777777777778,
             "#fb9f3a"
            ],
            [
             0.8888888888888888,
             "#fdca26"
            ],
            [
             1,
             "#f0f921"
            ]
           ]
          },
          "colorway": [
           "#636efa",
           "#EF553B",
           "#00cc96",
           "#ab63fa",
           "#FFA15A",
           "#19d3f3",
           "#FF6692",
           "#B6E880",
           "#FF97FF",
           "#FECB52"
          ],
          "font": {
           "color": "#f2f5fa"
          },
          "geo": {
           "bgcolor": "rgb(17,17,17)",
           "lakecolor": "rgb(17,17,17)",
           "landcolor": "rgb(17,17,17)",
           "showlakes": true,
           "showland": true,
           "subunitcolor": "#506784"
          },
          "hoverlabel": {
           "align": "left"
          },
          "hovermode": "closest",
          "mapbox": {
           "style": "dark"
          },
          "paper_bgcolor": "rgb(17,17,17)",
          "plot_bgcolor": "rgb(17,17,17)",
          "polar": {
           "angularaxis": {
            "gridcolor": "#506784",
            "linecolor": "#506784",
            "ticks": ""
           },
           "bgcolor": "rgb(17,17,17)",
           "radialaxis": {
            "gridcolor": "#506784",
            "linecolor": "#506784",
            "ticks": ""
           }
          },
          "scene": {
           "xaxis": {
            "backgroundcolor": "rgb(17,17,17)",
            "gridcolor": "#506784",
            "gridwidth": 2,
            "linecolor": "#506784",
            "showbackground": true,
            "ticks": "",
            "zerolinecolor": "#C8D4E3"
           },
           "yaxis": {
            "backgroundcolor": "rgb(17,17,17)",
            "gridcolor": "#506784",
            "gridwidth": 2,
            "linecolor": "#506784",
            "showbackground": true,
            "ticks": "",
            "zerolinecolor": "#C8D4E3"
           },
           "zaxis": {
            "backgroundcolor": "rgb(17,17,17)",
            "gridcolor": "#506784",
            "gridwidth": 2,
            "linecolor": "#506784",
            "showbackground": true,
            "ticks": "",
            "zerolinecolor": "#C8D4E3"
           }
          },
          "shapedefaults": {
           "line": {
            "color": "#f2f5fa"
           }
          },
          "sliderdefaults": {
           "bgcolor": "#C8D4E3",
           "bordercolor": "rgb(17,17,17)",
           "borderwidth": 1,
           "tickwidth": 0
          },
          "ternary": {
           "aaxis": {
            "gridcolor": "#506784",
            "linecolor": "#506784",
            "ticks": ""
           },
           "baxis": {
            "gridcolor": "#506784",
            "linecolor": "#506784",
            "ticks": ""
           },
           "bgcolor": "rgb(17,17,17)",
           "caxis": {
            "gridcolor": "#506784",
            "linecolor": "#506784",
            "ticks": ""
           }
          },
          "title": {
           "x": 0.05
          },
          "updatemenudefaults": {
           "bgcolor": "#506784",
           "borderwidth": 0
          },
          "xaxis": {
           "automargin": true,
           "gridcolor": "#283442",
           "linecolor": "#506784",
           "ticks": "",
           "title": {
            "standoff": 15
           },
           "zerolinecolor": "#283442",
           "zerolinewidth": 2
          },
          "yaxis": {
           "automargin": true,
           "gridcolor": "#283442",
           "linecolor": "#506784",
           "ticks": "",
           "title": {
            "standoff": 15
           },
           "zerolinecolor": "#283442",
           "zerolinewidth": 2
          }
         }
        },
        "title": {
         "text": "Scatter Matrix of Age, Fare, and Survival"
        }
       }
      }
     },
     "metadata": {},
     "output_type": "display_data"
    }
   ],
   "source": [
    "# bubble chart\n",
    "px.scatter_matrix(df, dimensions=['age', 'fare'], color='survived',\n",
    "                  title='Scatter Matrix of Age, Fare, and Survival', template='plotly_dark')"
   ]
  },
  {
   "cell_type": "code",
   "execution_count": null,
   "metadata": {},
   "outputs": [],
   "source": []
  }
 ],
 "metadata": {
  "kernelspec": {
   "display_name": "base",
   "language": "python",
   "name": "python3"
  },
  "language_info": {
   "codemirror_mode": {
    "name": "ipython",
    "version": 3
   },
   "file_extension": ".py",
   "mimetype": "text/x-python",
   "name": "python",
   "nbconvert_exporter": "python",
   "pygments_lexer": "ipython3",
   "version": "3.12.9"
  }
 },
 "nbformat": 4,
 "nbformat_minor": 2
}
