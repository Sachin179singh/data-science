{
 "cells": [
  {
   "cell_type": "markdown",
   "metadata": {},
   "source": [
    "- ways to declare dictionary\n",
    "- to access key values in dictonary\n",
    "- to add new pair inn dictionary\n",
    "- loops in dictonary \n",
    "- nested dictionary"
   ]
  },
  {
   "cell_type": "code",
   "execution_count": 10,
   "metadata": {},
   "outputs": [
    {
     "name": "stdout",
     "output_type": "stream",
     "text": [
      "{'name': 'Sachin Singh', 'age': 20, 'class': 'Python', 'marks': 90}\n"
     ]
    }
   ],
   "source": [
    "students = {'name' : 'Sachin Singh',\n",
    "           'age' : 20,\n",
    "           'class' :  'Python',\n",
    "           'marks' : 90\n",
    "           }\n",
    "print(students)"
   ]
  },
  {
   "cell_type": "code",
   "execution_count": 11,
   "metadata": {},
   "outputs": [
    {
     "name": "stdout",
     "output_type": "stream",
     "text": [
      "{'lucknow': [32, 20, 40], 'delhi': [45, 35, 29], 'chennai': [30, 25, 65]}\n"
     ]
    }
   ],
   "source": [
    "temp = {\n",
    "    'lucknow' : [32,20,40],\n",
    "    'delhi' : [45,35,29],\n",
    "    'chennai' : [30,25,65]\n",
    "}\n",
    "print(temp)"
   ]
  },
  {
   "cell_type": "markdown",
   "metadata": {},
   "source": [
    "dictionary  \n",
    "typecasting"
   ]
  },
  {
   "cell_type": "code",
   "execution_count": 12,
   "metadata": {},
   "outputs": [
    {
     "name": "stdout",
     "output_type": "stream",
     "text": [
      "{'name': 'Sachin singh', 'age': 20, 'cource': 'python, marks=90'}\n"
     ]
    }
   ],
   "source": [
    "info = dict(name='Sachin singh', age=20, cource='python, marks=90')\n",
    "print(info)"
   ]
  },
  {
   "cell_type": "code",
   "execution_count": 13,
   "metadata": {},
   "outputs": [
    {
     "name": "stdout",
     "output_type": "stream",
     "text": [
      "{'name': 'sachin', 'age': 20, 'cource': 'python, marks=90'}\n"
     ]
    }
   ],
   "source": [
    "info = dict(name=input(\"Enter your name\"), age=20, cource='python, marks=90')\n",
    "print(info)"
   ]
  },
  {
   "cell_type": "code",
   "execution_count": 14,
   "metadata": {},
   "outputs": [
    {
     "name": "stdout",
     "output_type": "stream",
     "text": [
      "sachin\n"
     ]
    }
   ],
   "source": [
    "#1st methods to access  value using its key\n",
    "print(info['name'])"
   ]
  },
  {
   "cell_type": "code",
   "execution_count": 15,
   "metadata": {},
   "outputs": [
    {
     "name": "stdout",
     "output_type": "stream",
     "text": [
      "20\n"
     ]
    }
   ],
   "source": [
    "#2nd method to access the value using its key \n",
    "print(info.get('age'))"
   ]
  },
  {
   "cell_type": "code",
   "execution_count": 16,
   "metadata": {},
   "outputs": [
    {
     "name": "stdout",
     "output_type": "stream",
     "text": [
      "{'name': 'Sachin Singh', 'age': 20, 'class': 'Python', 'marks': 90, 'city': 'Lucknow'}\n"
     ]
    }
   ],
   "source": [
    "#to add new pair in the dictionary\n",
    "students['city'] = 'Lucknow'\n",
    "print(students)"
   ]
  },
  {
   "cell_type": "code",
   "execution_count": 17,
   "metadata": {},
   "outputs": [
    {
     "name": "stdout",
     "output_type": "stream",
     "text": [
      "dict_keys(['name', 'age', 'class', 'marks', 'city'])\n",
      "dict_values(['Sachin Singh', 20, 'Python', 90, 'Lucknow'])\n",
      "dict_items([('name', 'Sachin Singh'), ('age', 20), ('class', 'Python'), ('marks', 90), ('city', 'Lucknow')])\n"
     ]
    }
   ],
   "source": [
    "print(students.keys())\n",
    "print(students.values())\n",
    "print(students.items())"
   ]
  },
  {
   "cell_type": "code",
   "execution_count": 18,
   "metadata": {},
   "outputs": [
    {
     "name": "stdout",
     "output_type": "stream",
     "text": [
      "name\n",
      "age\n",
      "class\n",
      "marks\n",
      "city\n"
     ]
    }
   ],
   "source": [
    "for k in students:\n",
    "    print(k)"
   ]
  },
  {
   "cell_type": "code",
   "execution_count": 19,
   "metadata": {},
   "outputs": [
    {
     "name": "stdout",
     "output_type": "stream",
     "text": [
      "name : Sachin Singh\n",
      "age : 20\n",
      "class : Python\n",
      "marks : 90\n",
      "city : Lucknow\n"
     ]
    }
   ],
   "source": [
    "for k,v  in students.items():\n",
    "    print(f'{k} : {v}')"
   ]
  },
  {
   "cell_type": "code",
   "execution_count": 20,
   "metadata": {},
   "outputs": [
    {
     "name": "stdout",
     "output_type": "stream",
     "text": [
      "Sum is: <built-in function sum>\n",
      "sum of 10 and 20 is 30\n",
      "sum of 10 and 20 is 30\n"
     ]
    }
   ],
   "source": [
    "# f string\n",
    "a = 10\n",
    "b = 20\n",
    "c = a+b\n",
    "print('Sum is:',sum)\n",
    "print('sum of',a,'and',b,'is',c)\n",
    "print(f'sum of {a} and {b} is {c}')"
   ]
  },
  {
   "cell_type": "code",
   "execution_count": 21,
   "metadata": {},
   "outputs": [
    {
     "name": "stdout",
     "output_type": "stream",
     "text": [
      "{'emp001': {'name': 'Sachin', 'salary': 25000, 'city': 'Lucknow'}, 'emp002': {'name': 'john', 'salary': 53000, 'city': 'delhi'}, 'emp003': {'name': 'jane', 'salary': 30000, 'city': 'Lucknow'}}\n"
     ]
    }
   ],
   "source": [
    "#nested dictionary\n",
    "company = {\n",
    "    'emp001': {\n",
    "        'name':'Sachin',\n",
    "        'salary': 25000,\n",
    "        'city': 'Lucknow'\n",
    "    },\n",
    "    'emp002': {\n",
    "        'name':'john',\n",
    "        'salary': 53000,\n",
    "        'city': 'delhi'\n",
    "    },\n",
    "    'emp003': {\n",
    "        'name': 'jane',\n",
    "        'salary': 30000,\n",
    "        'city': 'Lucknow'\n",
    "    }\n",
    "}\n",
    "print(company)"
   ]
  },
  {
   "cell_type": "code",
   "execution_count": 22,
   "metadata": {},
   "outputs": [],
   "source": [
    "from pprint import pprint"
   ]
  },
  {
   "cell_type": "code",
   "execution_count": 23,
   "metadata": {},
   "outputs": [
    {
     "name": "stdout",
     "output_type": "stream",
     "text": [
      "{'emp001': {'city': 'Lucknow', 'name': 'Sachin', 'salary': 25000},\n",
      " 'emp002': {'city': 'delhi', 'name': 'john', 'salary': 53000},\n",
      " 'emp003': {'city': 'Lucknow', 'name': 'jane', 'salary': 30000}}\n"
     ]
    }
   ],
   "source": [
    "pprint(company)"
   ]
  },
  {
   "cell_type": "code",
   "execution_count": 24,
   "metadata": {},
   "outputs": [
    {
     "name": "stdout",
     "output_type": "stream",
     "text": [
      "john\n"
     ]
    }
   ],
   "source": [
    "print(company['emp002']['name'])"
   ]
  },
  {
   "cell_type": "code",
   "execution_count": 25,
   "metadata": {},
   "outputs": [
    {
     "name": "stdout",
     "output_type": "stream",
     "text": [
      "20\n"
     ]
    }
   ],
   "source": [
    "print(temp['lucknow'][1])"
   ]
  },
  {
   "cell_type": "code",
   "execution_count": 26,
   "metadata": {},
   "outputs": [
    {
     "name": "stdout",
     "output_type": "stream",
     "text": [
      "average temp in delhi: 36.333333333333336\n"
     ]
    }
   ],
   "source": [
    "print('average temp in delhi:',sum(temp['delhi'])/len(temp['delhi']))"
   ]
  },
  {
   "cell_type": "code",
   "execution_count": null,
   "metadata": {},
   "outputs": [],
   "source": []
  }
 ],
 "metadata": {
  "kernelspec": {
   "display_name": "base",
   "language": "python",
   "name": "python3"
  },
  "language_info": {
   "codemirror_mode": {
    "name": "ipython",
    "version": 3
   },
   "file_extension": ".py",
   "mimetype": "text/x-python",
   "name": "python",
   "nbconvert_exporter": "python",
   "pygments_lexer": "ipython3",
   "version": "3.12.9"
  }
 },
 "nbformat": 4,
 "nbformat_minor": 2
}
