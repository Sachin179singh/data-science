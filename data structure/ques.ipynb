{
 "cells": [
  {
   "cell_type": "markdown",
   "metadata": {},
   "source": [
    "in functions"
   ]
  },
  {
   "cell_type": "code",
   "execution_count": 8,
   "metadata": {},
   "outputs": [
    {
     "name": "stdout",
     "output_type": "stream",
     "text": [
      "61 is a prime number\n"
     ]
    }
   ],
   "source": [
    "is_prime = lambda n: n > 1 and all(n % i != 0 for i in range(2, int(n**0.5) + 1))\n",
    "num = int(input(\"Enter a number: \"))\n",
    "print(f\"{num} is a prime number\" if is_prime(num) else f\"{num} is not a prime number\")\n"
   ]
  },
  {
   "cell_type": "code",
   "execution_count": 6,
   "metadata": {},
   "outputs": [
    {
     "name": "stdout",
     "output_type": "stream",
     "text": [
      "95.0°C is equal to 203.0°F\n"
     ]
    }
   ],
   "source": [
    "c_to_f = lambda c: (c * 9/5) + 32\n",
    "celsius = float(input(\"Enter temperature in Celsius: \"))\n",
    "print(f\"{celsius}°C is equal to {c_to_f(celsius)}°F\")\n"
   ]
  },
  {
   "cell_type": "code",
   "execution_count": 14,
   "metadata": {},
   "outputs": [
    {
     "name": "stdout",
     "output_type": "stream",
     "text": [
      "The maximum number is 84\n"
     ]
    }
   ],
   "source": [
    "max_three = lambda a, b, c: a if a > b and a > c else (b if b > c else c)\n",
    "\n",
    "# Example usage:\n",
    "a, b, c = map(int, input(\"Enter three numbers separated by space: \").split())\n",
    "print(f\"The maximum number is {max_three(a, b, c)}\")\n"
   ]
  },
  {
   "cell_type": "code",
   "execution_count": 18,
   "metadata": {},
   "outputs": [
    {
     "name": "stdout",
     "output_type": "stream",
     "text": [
      "Factorial of 5 is 120\n"
     ]
    }
   ],
   "source": [
    "def factorial(n):\n",
    "    return 1 if n == 0 else n * factorial(n - 1)\n",
    "\n",
    "num = int(input(\"Enter a number: \"))\n",
    "print(f\"Factorial of {num} is {factorial(num)}\")\n"
   ]
  },
  {
   "cell_type": "code",
   "execution_count": 17,
   "metadata": {},
   "outputs": [
    {
     "name": "stdout",
     "output_type": "stream",
     "text": [
      "Number of vowels: 3\n"
     ]
    }
   ],
   "source": [
    "count_vowels = lambda s: len(list(filter(lambda x: x in \"aeiouAEIOU\", s)))\n",
    "\n",
    "text = input(\"Enter a string: \")\n",
    "print(f\"Number of vowels: {count_vowels(text)}\")\n"
   ]
  },
  {
   "cell_type": "code",
   "execution_count": null,
   "metadata": {},
   "outputs": [],
   "source": []
  }
 ],
 "metadata": {
  "kernelspec": {
   "display_name": "base",
   "language": "python",
   "name": "python3"
  },
  "language_info": {
   "codemirror_mode": {
    "name": "ipython",
    "version": 3
   },
   "file_extension": ".py",
   "mimetype": "text/x-python",
   "name": "python",
   "nbconvert_exporter": "python",
   "pygments_lexer": "ipython3",
   "version": "3.12.9"
  }
 },
 "nbformat": 4,
 "nbformat_minor": 2
}
