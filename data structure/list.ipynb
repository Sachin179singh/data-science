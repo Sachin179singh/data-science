{
 "cells": [
  {
   "cell_type": "code",
   "execution_count": 13,
   "metadata": {},
   "outputs": [
    {
     "name": "stdout",
     "output_type": "stream",
     "text": [
      "['google', 'drive', 'myntra', 'zomato', 'insta', 'amazon', 'flipkart']\n"
     ]
    }
   ],
   "source": [
    "apps = [\"google\",\"drive\",\"myntra\",\"zomato\",\"insta\",\"amazon\",\"flipkart\"]\n",
    "print(apps)"
   ]
  },
  {
   "cell_type": "markdown",
   "metadata": {},
   "source": [
    "indexing"
   ]
  },
  {
   "cell_type": "code",
   "execution_count": 14,
   "metadata": {},
   "outputs": [
    {
     "name": "stdout",
     "output_type": "stream",
     "text": [
      "amazon\n",
      "insta\n"
     ]
    }
   ],
   "source": [
    "print(apps[5])\n",
    "print(apps[-3])"
   ]
  },
  {
   "cell_type": "code",
   "execution_count": 15,
   "metadata": {},
   "outputs": [
    {
     "name": "stdout",
     "output_type": "stream",
     "text": [
      "['myntra', 'zomato', 'insta', 'amazon']\n",
      "['drive', 'zomato', 'amazon']\n",
      "['myntra', 'zomato', 'insta', 'amazon', 'flipkart']\n",
      "['myntra', 'insta', 'flipkart']\n",
      "['google', 'drive', 'myntra', 'zomato', 'insta']\n",
      "['google', 'drive', 'myntra', 'zomato', 'insta', 'amazon', 'flipkart']\n"
     ]
    }
   ],
   "source": [
    "#slicing\n",
    "print(apps[2:6])\n",
    "print(apps[1:6:2])\n",
    "print(apps[2:])\n",
    "print(apps[2::2])\n",
    "print(apps[:5])\n",
    "print(apps[:])"
   ]
  },
  {
   "cell_type": "markdown",
   "metadata": {},
   "source": [
    "List Methods\n",
    "- append - to add an element at the end of the list \n",
    "- insert - to add an element at any specific position in the list \n",
    "- pop - to delete an item using the index position of the element\n",
    "- remove - to delee an using its name\n",
    "- copy - to make a copy of a list \n",
    "- sort - to sort the item in any particular order \n",
    "- extend - to combine two list in one list\n",
    "- reverse - to reverse the order of the list\n",
    "- clear - to remove all the items of the list but not the list"
   ]
  },
  {
   "cell_type": "markdown",
   "metadata": {},
   "source": []
  },
  {
   "cell_type": "code",
   "execution_count": 16,
   "metadata": {},
   "outputs": [
    {
     "name": "stdout",
     "output_type": "stream",
     "text": [
      "['google', 'drive', 'myntra', 'zomato', 'insta', 'amazon', 'flipkart', 'amazon']\n"
     ]
    }
   ],
   "source": [
    "apps.append(\"amazon\")\n",
    "print(apps)"
   ]
  },
  {
   "cell_type": "code",
   "execution_count": 17,
   "metadata": {},
   "outputs": [
    {
     "name": "stdout",
     "output_type": "stream",
     "text": [
      "['google', 'drive', 'myntra', 'ola', 'zomato', 'insta', 'amazon', 'flipkart', 'amazon']\n"
     ]
    }
   ],
   "source": [
    "apps.insert(3,\"ola\")\n",
    "print(apps)"
   ]
  },
  {
   "cell_type": "code",
   "execution_count": 18,
   "metadata": {},
   "outputs": [
    {
     "name": "stdout",
     "output_type": "stream",
     "text": [
      "['google', 'drive', 'myntra', 'ola', 'insta', 'amazon', 'flipkart', 'amazon']\n"
     ]
    }
   ],
   "source": [
    "apps.pop(4)\n",
    "print(apps)"
   ]
  },
  {
   "cell_type": "code",
   "execution_count": 19,
   "metadata": {},
   "outputs": [
    {
     "name": "stdout",
     "output_type": "stream",
     "text": [
      "['google', 'drive', 'myntra', 'insta', 'amazon', 'flipkart', 'amazon']\n"
     ]
    }
   ],
   "source": [
    "apps.remove(\"ola\")\n",
    "print(apps)"
   ]
  },
  {
   "cell_type": "code",
   "execution_count": 20,
   "metadata": {},
   "outputs": [
    {
     "name": "stdout",
     "output_type": "stream",
     "text": [
      "['google', 'drive', 'myntra', 'insta', 'amazon', 'flipkart', 'amazon']\n"
     ]
    }
   ],
   "source": [
    "x = apps.copy()\n",
    "print(x)"
   ]
  },
  {
   "cell_type": "code",
   "execution_count": 21,
   "metadata": {},
   "outputs": [
    {
     "name": "stdout",
     "output_type": "stream",
     "text": [
      "[]\n"
     ]
    }
   ],
   "source": [
    "x.clear()\n",
    "print(x)"
   ]
  },
  {
   "cell_type": "code",
   "execution_count": 22,
   "metadata": {},
   "outputs": [
    {
     "name": "stdout",
     "output_type": "stream",
     "text": [
      "['amazon', 'amazon', 'drive', 'flipkart', 'google', 'insta', 'myntra']\n"
     ]
    }
   ],
   "source": [
    "apps.sort()\n",
    "print(apps)"
   ]
  },
  {
   "cell_type": "code",
   "execution_count": 23,
   "metadata": {},
   "outputs": [
    {
     "name": "stdout",
     "output_type": "stream",
     "text": [
      "['myntra', 'insta', 'google', 'flipkart', 'drive', 'amazon', 'amazon']\n"
     ]
    }
   ],
   "source": [
    "apps.reverse()\n",
    "print(apps)"
   ]
  },
  {
   "cell_type": "code",
   "execution_count": 24,
   "metadata": {},
   "outputs": [
    {
     "name": "stdout",
     "output_type": "stream",
     "text": [
      "['myntra', 'insta', 'google', 'flipkart', 'drive', 'amazon', 'amazon', 'water', 'juice', 'milk']\n"
     ]
    }
   ],
   "source": [
    "apps2 = [\"water\",\"juice\",\"milk\"]\n",
    "apps.extend(apps2)\n",
    "print(apps)"
   ]
  },
  {
   "cell_type": "code",
   "execution_count": 25,
   "metadata": {},
   "outputs": [
    {
     "name": "stdout",
     "output_type": "stream",
     "text": [
      "['water', 'juice', 'milk', 'myntra', 'insta', 'google', 'flipkart', 'drive', 'amazon', 'amazon', 'water', 'juice', 'milk']\n"
     ]
    }
   ],
   "source": [
    "apps2.extend(apps)\n",
    "print(apps2)"
   ]
  },
  {
   "cell_type": "code",
   "execution_count": null,
   "metadata": {},
   "outputs": [],
   "source": []
  }
 ],
 "metadata": {
  "kernelspec": {
   "display_name": "base",
   "language": "python",
   "name": "python3"
  },
  "language_info": {
   "codemirror_mode": {
    "name": "ipython",
    "version": 3
   },
   "file_extension": ".py",
   "mimetype": "text/x-python",
   "name": "python",
   "nbconvert_exporter": "python",
   "pygments_lexer": "ipython3",
   "version": "3.12.9"
  }
 },
 "nbformat": 4,
 "nbformat_minor": 2
}
