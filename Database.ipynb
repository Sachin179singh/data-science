{
 "cells": [
  {
   "cell_type": "code",
   "execution_count": 1,
   "id": "17546b18",
   "metadata": {},
   "outputs": [],
   "source": [
    "from sqlalchemy import create_engine, Column, Integer, String\n",
    "from sqlalchemy.orm import declarative_base, sessionmaker\n"
   ]
  },
  {
   "cell_type": "markdown",
   "id": "1bcbc242",
   "metadata": {},
   "source": [
    "- create_engine : it is used to make connnection from database\n",
    "- column : it defines column in database\n",
    "- Integer and string : datatypes and values in database"
   ]
  },
  {
   "cell_type": "code",
   "execution_count": 2,
   "id": "e24578ab",
   "metadata": {},
   "outputs": [],
   "source": [
    "engine = create_engine('sqlite:///user.db')"
   ]
  },
  {
   "cell_type": "code",
   "execution_count": 3,
   "id": "10bab606",
   "metadata": {},
   "outputs": [],
   "source": [
    "Base = declarative_base()"
   ]
  },
  {
   "cell_type": "code",
   "execution_count": 4,
   "id": "34ded0a8",
   "metadata": {},
   "outputs": [],
   "source": [
    "class User(Base):\n",
    "    __tablename__ = 'users'\n",
    "    id = Column(Integer, primary_key=True)\n",
    "    name = Column(String)\n",
    "    password = Column(String)"
   ]
  },
  {
   "cell_type": "code",
   "execution_count": 5,
   "id": "c930be5c",
   "metadata": {},
   "outputs": [],
   "source": [
    "Base.metadata.create_all(engine)\n"
   ]
  },
  {
   "cell_type": "code",
   "execution_count": 6,
   "id": "59b7eceb",
   "metadata": {},
   "outputs": [],
   "source": [
    "Session = sessionmaker(bind=engine)  #this line tells the session to use the engine we just created\n",
    "session = Session()  #this line creates a session object"
   ]
  },
  {
   "cell_type": "code",
   "execution_count": 7,
   "id": "a4cd67a0",
   "metadata": {},
   "outputs": [],
   "source": [
    "# add a new user to the database\n",
    "new_user = User(name='John Doe', password='password123')\n",
    "session.add(new_user)\n",
    "session.commit()  #this line commits the changes to the database"
   ]
  },
  {
   "cell_type": "code",
   "execution_count": 8,
   "id": "f326ba9e",
   "metadata": {},
   "outputs": [],
   "source": [
    "# add a new user to the database\n",
    "new_user = User(name='Smith', password='smith123')\n",
    "session.add(new_user)\n",
    "session.commit()  #this line commits the changes to the database"
   ]
  },
  {
   "cell_type": "code",
   "execution_count": 9,
   "id": "afd7daa6",
   "metadata": {},
   "outputs": [
    {
     "name": "stdout",
     "output_type": "stream",
     "text": [
      "ID: 2, Name: John Smith, Password: password123\n",
      "ID: 3, Name: John Smith, Password: password123\n",
      "ID: 4, Name: John Smith, Password: password123\n",
      "ID: 5, Name: John Smith, Password: password123\n",
      "ID: 6, Name: Smith, Password: smith123\n",
      "ID: 7, Name: John Doe, Password: password123\n",
      "ID: 8, Name: Smith, Password: smith123\n",
      "ID: 9, Name: John Doe, Password: password123\n",
      "ID: 10, Name: Smith, Password: smith123\n"
     ]
    }
   ],
   "source": [
    "# read all users from the database\n",
    "users = session.query(User).all()\n",
    "for user in users:\n",
    "    print(f'ID: {user.id}, Name: {user.name}, Password: {user.password}')   "
   ]
  },
  {
   "cell_type": "code",
   "execution_count": 10,
   "id": "1702894b",
   "metadata": {},
   "outputs": [],
   "source": [
    "#update a user in the database\n",
    "user = session.query(User).filter_by(name='John Doe').first() #first() returns the first result of the query\n",
    "user.name = 'John Smith'  #update the name of the user\n",
    "session.commit()"
   ]
  },
  {
   "cell_type": "code",
   "execution_count": 11,
   "id": "24f3cb55",
   "metadata": {},
   "outputs": [
    {
     "name": "stdout",
     "output_type": "stream",
     "text": [
      "ID: 2, Name: John Smith, Password: password123\n",
      "ID: 3, Name: John Smith, Password: password123\n",
      "ID: 4, Name: John Smith, Password: password123\n",
      "ID: 5, Name: John Smith, Password: password123\n",
      "ID: 6, Name: Smith, Password: smith123\n",
      "ID: 7, Name: John Smith, Password: password123\n",
      "ID: 8, Name: Smith, Password: smith123\n",
      "ID: 9, Name: John Doe, Password: password123\n",
      "ID: 10, Name: Smith, Password: smith123\n"
     ]
    }
   ],
   "source": [
    "# read all users from the database\n",
    "users = session.query(User).all()\n",
    "for user in users:\n",
    "    print(f'ID: {user.id}, Name: {user.name}, Password: {user.password}') "
   ]
  },
  {
   "cell_type": "code",
   "execution_count": 12,
   "id": "451079ea",
   "metadata": {},
   "outputs": [
    {
     "ename": "UnmappedInstanceError",
     "evalue": "Class 'builtins.NoneType' is not mapped",
     "output_type": "error",
     "traceback": [
      "\u001b[1;31m---------------------------------------------------------------------------\u001b[0m",
      "\u001b[1;31mAttributeError\u001b[0m                            Traceback (most recent call last)",
      "File \u001b[1;32mc:\\Users\\91639\\miniconda3\\Lib\\site-packages\\sqlalchemy\\orm\\session.py:3538\u001b[0m, in \u001b[0;36mSession.delete\u001b[1;34m(self, instance)\u001b[0m\n\u001b[0;32m   3537\u001b[0m \u001b[38;5;28;01mtry\u001b[39;00m:\n\u001b[1;32m-> 3538\u001b[0m     state \u001b[38;5;241m=\u001b[39m \u001b[43mattributes\u001b[49m\u001b[38;5;241;43m.\u001b[39;49m\u001b[43minstance_state\u001b[49m\u001b[43m(\u001b[49m\u001b[43minstance\u001b[49m\u001b[43m)\u001b[49m\n\u001b[0;32m   3539\u001b[0m \u001b[38;5;28;01mexcept\u001b[39;00m exc\u001b[38;5;241m.\u001b[39mNO_STATE \u001b[38;5;28;01mas\u001b[39;00m err:\n",
      "\u001b[1;31mAttributeError\u001b[0m: 'NoneType' object has no attribute '_sa_instance_state'",
      "\nThe above exception was the direct cause of the following exception:\n",
      "\u001b[1;31mUnmappedInstanceError\u001b[0m                     Traceback (most recent call last)",
      "Cell \u001b[1;32mIn[12], line 2\u001b[0m\n\u001b[0;32m      1\u001b[0m user \u001b[38;5;241m=\u001b[39m session\u001b[38;5;241m.\u001b[39mquery(User)\u001b[38;5;241m.\u001b[39mfilter_by(\u001b[38;5;28mid\u001b[39m\u001b[38;5;241m=\u001b[39m\u001b[38;5;241m1\u001b[39m)\u001b[38;5;241m.\u001b[39mfirst() \u001b[38;5;66;03m#first() returns the first result of the query\u001b[39;00m\n\u001b[1;32m----> 2\u001b[0m \u001b[43msession\u001b[49m\u001b[38;5;241;43m.\u001b[39;49m\u001b[43mdelete\u001b[49m\u001b[43m(\u001b[49m\u001b[43muser\u001b[49m\u001b[43m)\u001b[49m  \u001b[38;5;66;03m#delete the user from the database\u001b[39;00m\n\u001b[0;32m      3\u001b[0m session\u001b[38;5;241m.\u001b[39mcommit()  \u001b[38;5;66;03m#this line commits the changes to the database\u001b[39;00m\n",
      "File \u001b[1;32mc:\\Users\\91639\\miniconda3\\Lib\\site-packages\\sqlalchemy\\orm\\session.py:3540\u001b[0m, in \u001b[0;36mSession.delete\u001b[1;34m(self, instance)\u001b[0m\n\u001b[0;32m   3538\u001b[0m     state \u001b[38;5;241m=\u001b[39m attributes\u001b[38;5;241m.\u001b[39minstance_state(instance)\n\u001b[0;32m   3539\u001b[0m \u001b[38;5;28;01mexcept\u001b[39;00m exc\u001b[38;5;241m.\u001b[39mNO_STATE \u001b[38;5;28;01mas\u001b[39;00m err:\n\u001b[1;32m-> 3540\u001b[0m     \u001b[38;5;28;01mraise\u001b[39;00m exc\u001b[38;5;241m.\u001b[39mUnmappedInstanceError(instance) \u001b[38;5;28;01mfrom\u001b[39;00m \u001b[38;5;21;01merr\u001b[39;00m\n\u001b[0;32m   3542\u001b[0m \u001b[38;5;28mself\u001b[39m\u001b[38;5;241m.\u001b[39m_delete_impl(state, instance, head\u001b[38;5;241m=\u001b[39m\u001b[38;5;28;01mTrue\u001b[39;00m)\n",
      "\u001b[1;31mUnmappedInstanceError\u001b[0m: Class 'builtins.NoneType' is not mapped"
     ]
    }
   ],
   "source": [
    "user = session.query(User).filter_by(id=1).first() #first() returns the first result of the query\n",
    "session.delete(user)  #delete the user from the database\n",
    "session.commit()  #this line commits the changes to the database"
   ]
  },
  {
   "cell_type": "code",
   "execution_count": null,
   "id": "23d838e4",
   "metadata": {},
   "outputs": [
    {
     "name": "stdout",
     "output_type": "stream",
     "text": [
      "ID: 1, Name: John Smith, Password: password123\n",
      "ID: 2, Name: John Smith, Password: password123\n",
      "ID: 3, Name: John Smith, Password: password123\n",
      "ID: 4, Name: John Smith, Password: password123\n",
      "ID: 5, Name: John Doe, Password: password123\n",
      "ID: 6, Name: Smith, Password: smith123\n"
     ]
    }
   ],
   "source": [
    "user = session.query(User).all()\n",
    "for user in users:\n",
    "    print(f'ID: {user.id}, Name: {user.name}, Password: {user.password}') "
   ]
  },
  {
   "cell_type": "code",
   "execution_count": null,
   "id": "31ccb432",
   "metadata": {},
   "outputs": [],
   "source": []
  }
 ],
 "metadata": {
  "kernelspec": {
   "display_name": "base",
   "language": "python",
   "name": "python3"
  },
  "language_info": {
   "codemirror_mode": {
    "name": "ipython",
    "version": 3
   },
   "file_extension": ".py",
   "mimetype": "text/x-python",
   "name": "python",
   "nbconvert_exporter": "python",
   "pygments_lexer": "ipython3",
   "version": "3.12.9"
  }
 },
 "nbformat": 4,
 "nbformat_minor": 5
}
