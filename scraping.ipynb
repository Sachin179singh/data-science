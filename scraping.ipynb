{
 "cells": [
  {
   "cell_type": "markdown",
   "id": "a80f4b1c",
   "metadata": {},
   "source": [
    "### WEB SCRAPING"
   ]
  },
  {
   "cell_type": "code",
   "execution_count": 2,
   "id": "0fa7dd14",
   "metadata": {},
   "outputs": [],
   "source": [
    "from dputils.scrape import  Scraper, Tag\n",
    "from pprint import pp"
   ]
  },
  {
   "cell_type": "markdown",
   "id": "a0425824",
   "metadata": {},
   "source": [
    "- Tag is the class which help to decide  what to collect from the page \n",
    "- Scraper is the function which execute the Scraping process"
   ]
  },
  {
   "cell_type": "code",
   "execution_count": 3,
   "id": "bd213a79",
   "metadata": {},
   "outputs": [],
   "source": [
    "url = 'https://www.flipkart.com/search?q=mobile%20phones&otracker=search&otracker1=search&marketplace=FLIPKART&as-show=on&as=off'"
   ]
  },
  {
   "cell_type": "code",
   "execution_count": 6,
   "id": "a5b913cc",
   "metadata": {},
   "outputs": [
    {
     "data": {
      "text/plain": [
       "<bound method Scraper.get_repeating_date_from_page of <dputils.scrape.Scraper object at 0x0000024BC05A0620>>"
      ]
     },
     "execution_count": 6,
     "metadata": {},
     "output_type": "execute_result"
    }
   ],
   "source": [
    "scraper = Scraper(url)  \n",
    "scraper.get_repeating_date_from_page"
   ]
  },
  {
   "cell_type": "code",
   "execution_count": 8,
   "id": "3da10298",
   "metadata": {},
   "outputs": [],
   "source": [
    "result = scraper.get_repeating_date_from_page(\n",
    "    target = Tag('div', cls='DOjaWF gdgoEp'),\n",
    "    items = Tag('div', cls='_75nlfW'),\n",
    "    title = Tag('div', cls='KzDlHZ'),\n",
    "    Price = Tag('div', cls='Nx9bqj _4b5DiR')\n",
    ")\n",
    "    "
   ]
  },
  {
   "cell_type": "code",
   "execution_count": 9,
   "id": "93e2f8f4",
   "metadata": {},
   "outputs": [
    {
     "data": {
      "text/plain": [
       "[{'title': 'vivo T4x 5G (Marine Blue, 128 GB)', 'Price': '₹13,999'},\n",
       " {'title': 'SAMSUNG Galaxy F05 (Twilight Blue, 64 GB)', 'Price': '₹6,499'},\n",
       " {'title': 'REDMI A3X (Olive Green, 64 GB)', 'Price': '₹6,199'},\n",
       " {'title': 'realme C61 (Marble Black, 128 GB)', 'Price': '₹8,199'},\n",
       " {'title': 'Motorola g45 5G (Brilliant Blue, 128 GB)', 'Price': '₹11,999'},\n",
       " {'title': 'POCO C75 5G (Aqua Bliss, 64 GB)', 'Price': '₹7,999'},\n",
       " {'title': 'REDMI A3X (Ocean Green, 64 GB)', 'Price': '₹6,199'},\n",
       " {'title': 'Motorola g45 5G (Brilliant Blue, 128 GB)', 'Price': '₹9,999'},\n",
       " {'title': 'vivo T4x 5G (Pronto Purple, 128 GB)', 'Price': '₹14,999'},\n",
       " {'title': 'vivo T4x 5G (Pronto Purple, 256 GB)', 'Price': '₹16,999'},\n",
       " {'title': 'MOTOROLA g05 (Plum Red, 64 GB)', 'Price': '₹7,299'},\n",
       " {'title': 'POCO C71  - Locked with Airtel Prepaid (Cool Blue, 64 GB)',\n",
       "  'Price': '₹5,999'},\n",
       " {'title': 'Motorola g64 5G (Ice Lilac, 128 GB)', 'Price': '₹12,999'},\n",
       " {'title': 'realme C61 (Safari Green, 128 GB)', 'Price': '₹8,199'},\n",
       " {'title': 'vivo T4x 5G (Pronto Purple, 128 GB)', 'Price': '₹13,999'},\n",
       " {'title': 'Kechaoda A26', 'Price': '₹897'},\n",
       " {'title': 'realme C61 (Marble Black, 64 GB)', 'Price': '₹7,699'},\n",
       " {'title': 'Motorola g64 5G (Mint Green, 256 GB)', 'Price': '₹14,999'},\n",
       " {'title': 'realme P2 Pro 5G (Parrot Green, 256 GB)', 'Price': '₹19,999'},\n",
       " {'title': 'REDMI A3X (Midnight Black, 64 GB)', 'Price': '₹6,199'},\n",
       " {'title': 'vivo T3 Pro 5G (Emerald Green, 256 GB)', 'Price': '₹24,999'},\n",
       " {'title': 'POCO C75 5G (Silver Stardust, 64 GB)', 'Price': '₹7,799'},\n",
       " {'title': 'Nokia 105 Single SIM, Keypad Mobile Phone with Wireless FM Radio',\n",
       "  'Price': '₹1,190'},\n",
       " {'title': 'vivo T4x 5G (Marine Blue, 256 GB)', 'Price': '₹16,999'}]"
      ]
     },
     "execution_count": 9,
     "metadata": {},
     "output_type": "execute_result"
    }
   ],
   "source": [
    "result"
   ]
  },
  {
   "cell_type": "code",
   "execution_count": 10,
   "id": "53dcd787",
   "metadata": {},
   "outputs": [],
   "source": [
    "import pandas as pd\n"
   ]
  },
  {
   "cell_type": "code",
   "execution_count": 11,
   "id": "09f1ed65",
   "metadata": {},
   "outputs": [
    {
     "data": {
      "text/html": [
       "<div>\n",
       "<style scoped>\n",
       "    .dataframe tbody tr th:only-of-type {\n",
       "        vertical-align: middle;\n",
       "    }\n",
       "\n",
       "    .dataframe tbody tr th {\n",
       "        vertical-align: top;\n",
       "    }\n",
       "\n",
       "    .dataframe thead th {\n",
       "        text-align: right;\n",
       "    }\n",
       "</style>\n",
       "<table border=\"1\" class=\"dataframe\">\n",
       "  <thead>\n",
       "    <tr style=\"text-align: right;\">\n",
       "      <th></th>\n",
       "      <th>title</th>\n",
       "      <th>Price</th>\n",
       "    </tr>\n",
       "  </thead>\n",
       "  <tbody>\n",
       "    <tr>\n",
       "      <th>0</th>\n",
       "      <td>vivo T4x 5G (Marine Blue, 128 GB)</td>\n",
       "      <td>₹13,999</td>\n",
       "    </tr>\n",
       "    <tr>\n",
       "      <th>1</th>\n",
       "      <td>SAMSUNG Galaxy F05 (Twilight Blue, 64 GB)</td>\n",
       "      <td>₹6,499</td>\n",
       "    </tr>\n",
       "    <tr>\n",
       "      <th>2</th>\n",
       "      <td>REDMI A3X (Olive Green, 64 GB)</td>\n",
       "      <td>₹6,199</td>\n",
       "    </tr>\n",
       "    <tr>\n",
       "      <th>3</th>\n",
       "      <td>realme C61 (Marble Black, 128 GB)</td>\n",
       "      <td>₹8,199</td>\n",
       "    </tr>\n",
       "    <tr>\n",
       "      <th>4</th>\n",
       "      <td>Motorola g45 5G (Brilliant Blue, 128 GB)</td>\n",
       "      <td>₹11,999</td>\n",
       "    </tr>\n",
       "    <tr>\n",
       "      <th>5</th>\n",
       "      <td>POCO C75 5G (Aqua Bliss, 64 GB)</td>\n",
       "      <td>₹7,999</td>\n",
       "    </tr>\n",
       "    <tr>\n",
       "      <th>6</th>\n",
       "      <td>REDMI A3X (Ocean Green, 64 GB)</td>\n",
       "      <td>₹6,199</td>\n",
       "    </tr>\n",
       "    <tr>\n",
       "      <th>7</th>\n",
       "      <td>Motorola g45 5G (Brilliant Blue, 128 GB)</td>\n",
       "      <td>₹9,999</td>\n",
       "    </tr>\n",
       "    <tr>\n",
       "      <th>8</th>\n",
       "      <td>vivo T4x 5G (Pronto Purple, 128 GB)</td>\n",
       "      <td>₹14,999</td>\n",
       "    </tr>\n",
       "    <tr>\n",
       "      <th>9</th>\n",
       "      <td>vivo T4x 5G (Pronto Purple, 256 GB)</td>\n",
       "      <td>₹16,999</td>\n",
       "    </tr>\n",
       "    <tr>\n",
       "      <th>10</th>\n",
       "      <td>MOTOROLA g05 (Plum Red, 64 GB)</td>\n",
       "      <td>₹7,299</td>\n",
       "    </tr>\n",
       "    <tr>\n",
       "      <th>11</th>\n",
       "      <td>POCO C71  - Locked with Airtel Prepaid (Cool B...</td>\n",
       "      <td>₹5,999</td>\n",
       "    </tr>\n",
       "    <tr>\n",
       "      <th>12</th>\n",
       "      <td>Motorola g64 5G (Ice Lilac, 128 GB)</td>\n",
       "      <td>₹12,999</td>\n",
       "    </tr>\n",
       "    <tr>\n",
       "      <th>13</th>\n",
       "      <td>realme C61 (Safari Green, 128 GB)</td>\n",
       "      <td>₹8,199</td>\n",
       "    </tr>\n",
       "    <tr>\n",
       "      <th>14</th>\n",
       "      <td>vivo T4x 5G (Pronto Purple, 128 GB)</td>\n",
       "      <td>₹13,999</td>\n",
       "    </tr>\n",
       "    <tr>\n",
       "      <th>15</th>\n",
       "      <td>Kechaoda A26</td>\n",
       "      <td>₹897</td>\n",
       "    </tr>\n",
       "    <tr>\n",
       "      <th>16</th>\n",
       "      <td>realme C61 (Marble Black, 64 GB)</td>\n",
       "      <td>₹7,699</td>\n",
       "    </tr>\n",
       "    <tr>\n",
       "      <th>17</th>\n",
       "      <td>Motorola g64 5G (Mint Green, 256 GB)</td>\n",
       "      <td>₹14,999</td>\n",
       "    </tr>\n",
       "    <tr>\n",
       "      <th>18</th>\n",
       "      <td>realme P2 Pro 5G (Parrot Green, 256 GB)</td>\n",
       "      <td>₹19,999</td>\n",
       "    </tr>\n",
       "    <tr>\n",
       "      <th>19</th>\n",
       "      <td>REDMI A3X (Midnight Black, 64 GB)</td>\n",
       "      <td>₹6,199</td>\n",
       "    </tr>\n",
       "    <tr>\n",
       "      <th>20</th>\n",
       "      <td>vivo T3 Pro 5G (Emerald Green, 256 GB)</td>\n",
       "      <td>₹24,999</td>\n",
       "    </tr>\n",
       "    <tr>\n",
       "      <th>21</th>\n",
       "      <td>POCO C75 5G (Silver Stardust, 64 GB)</td>\n",
       "      <td>₹7,799</td>\n",
       "    </tr>\n",
       "    <tr>\n",
       "      <th>22</th>\n",
       "      <td>Nokia 105 Single SIM, Keypad Mobile Phone with...</td>\n",
       "      <td>₹1,190</td>\n",
       "    </tr>\n",
       "    <tr>\n",
       "      <th>23</th>\n",
       "      <td>vivo T4x 5G (Marine Blue, 256 GB)</td>\n",
       "      <td>₹16,999</td>\n",
       "    </tr>\n",
       "  </tbody>\n",
       "</table>\n",
       "</div>"
      ],
      "text/plain": [
       "                                                title    Price\n",
       "0                   vivo T4x 5G (Marine Blue, 128 GB)  ₹13,999\n",
       "1           SAMSUNG Galaxy F05 (Twilight Blue, 64 GB)   ₹6,499\n",
       "2                      REDMI A3X (Olive Green, 64 GB)   ₹6,199\n",
       "3                   realme C61 (Marble Black, 128 GB)   ₹8,199\n",
       "4            Motorola g45 5G (Brilliant Blue, 128 GB)  ₹11,999\n",
       "5                     POCO C75 5G (Aqua Bliss, 64 GB)   ₹7,999\n",
       "6                      REDMI A3X (Ocean Green, 64 GB)   ₹6,199\n",
       "7            Motorola g45 5G (Brilliant Blue, 128 GB)   ₹9,999\n",
       "8                 vivo T4x 5G (Pronto Purple, 128 GB)  ₹14,999\n",
       "9                 vivo T4x 5G (Pronto Purple, 256 GB)  ₹16,999\n",
       "10                     MOTOROLA g05 (Plum Red, 64 GB)   ₹7,299\n",
       "11  POCO C71  - Locked with Airtel Prepaid (Cool B...   ₹5,999\n",
       "12                Motorola g64 5G (Ice Lilac, 128 GB)  ₹12,999\n",
       "13                  realme C61 (Safari Green, 128 GB)   ₹8,199\n",
       "14                vivo T4x 5G (Pronto Purple, 128 GB)  ₹13,999\n",
       "15                                       Kechaoda A26     ₹897\n",
       "16                   realme C61 (Marble Black, 64 GB)   ₹7,699\n",
       "17               Motorola g64 5G (Mint Green, 256 GB)  ₹14,999\n",
       "18            realme P2 Pro 5G (Parrot Green, 256 GB)  ₹19,999\n",
       "19                  REDMI A3X (Midnight Black, 64 GB)   ₹6,199\n",
       "20             vivo T3 Pro 5G (Emerald Green, 256 GB)  ₹24,999\n",
       "21               POCO C75 5G (Silver Stardust, 64 GB)   ₹7,799\n",
       "22  Nokia 105 Single SIM, Keypad Mobile Phone with...   ₹1,190\n",
       "23                  vivo T4x 5G (Marine Blue, 256 GB)  ₹16,999"
      ]
     },
     "execution_count": 11,
     "metadata": {},
     "output_type": "execute_result"
    }
   ],
   "source": [
    "df = pd.DataFrame(result)   \n",
    "df"
   ]
  },
  {
   "cell_type": "code",
   "execution_count": null,
   "id": "481e04bd",
   "metadata": {},
   "outputs": [],
   "source": []
  }
 ],
 "metadata": {
  "kernelspec": {
   "display_name": "base",
   "language": "python",
   "name": "python3"
  },
  "language_info": {
   "codemirror_mode": {
    "name": "ipython",
    "version": 3
   },
   "file_extension": ".py",
   "mimetype": "text/x-python",
   "name": "python",
   "nbconvert_exporter": "python",
   "pygments_lexer": "ipython3",
   "version": "3.12.9"
  }
 },
 "nbformat": 4,
 "nbformat_minor": 5
}
